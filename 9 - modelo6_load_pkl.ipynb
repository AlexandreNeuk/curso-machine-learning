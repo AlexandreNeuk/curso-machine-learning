{
 "cells": [
  {
   "cell_type": "code",
   "execution_count": 8,
   "metadata": {},
   "outputs": [],
   "source": [
    "import pandas as pd\n",
    "from sklearn.preprocessing import LabelEncoder\n",
    "import joblib as jb\n",
    "from sklearn.feature_extraction.text import TfidfVectorizer\n",
    "from scipy.sparse import hstack, vstack\n",
    "\n",
    "rf = jb.load(\"random_forest_m8.pkl.z\")\n",
    "dt = jb.load(\"decision_tree_m8.pkl.z\")\n",
    "nome_vec_validate = jb.load(\"nome_vectorizer_m8.pkl.z\")"
   ]
  },
  {
   "cell_type": "code",
   "execution_count": 2,
   "metadata": {},
   "outputs": [],
   "source": [
    "def label_encode(data):\n",
    "    label_encoder = LabelEncoder()\n",
    "    \n",
    "    cars_features_lbl_encd = ['km', 'cambio', 'portas', 'cor', 'ano']\n",
    "    data = data[cars_features_lbl_encd]\n",
    "\n",
    "    object_cols = ['cambio', 'cor', 'ano']\n",
    "    \n",
    "    for col in object_cols:\n",
    "        data[col] = label_encoder.fit_transform(data[col])\n",
    "    return data"
   ]
  },
  {
   "cell_type": "code",
   "execution_count": 3,
   "metadata": {},
   "outputs": [],
   "source": [
    "def predict(data):\n",
    "    vectorize_nome = nome_vec_validate.transform(data['nome'])\n",
    "    data_label_encode = label_encode(data)\n",
    "    data_hstack = hstack([data_label_encode, vectorize_nome])\n",
    "    \n",
    "    return rf.predict(data_hstack)[0], dt.predict(data_hstack)[0]\n",
    "    "
   ]
  },
  {
   "cell_type": "code",
   "execution_count": 4,
   "metadata": {},
   "outputs": [],
   "source": [
    "data = pd.DataFrame([[0, 'automático', '2021', 4, 'Branco', 'Onix 1.0 Turbo Premier (Aut)']], columns=['km','cambio', 'ano', 'portas', 'cor', 'nome'])"
   ]
  },
  {
   "cell_type": "code",
   "execution_count": 5,
   "metadata": {},
   "outputs": [
    {
     "name": "stderr",
     "output_type": "stream",
     "text": [
      "<ipython-input-2-570728aac49e>:10: SettingWithCopyWarning: \n",
      "A value is trying to be set on a copy of a slice from a DataFrame.\n",
      "Try using .loc[row_indexer,col_indexer] = value instead\n",
      "\n",
      "See the caveats in the documentation: https://pandas.pydata.org/pandas-docs/stable/user_guide/indexing.html#returning-a-view-versus-a-copy\n",
      "  data[col] = label_encoder.fit_transform(data[col])\n"
     ]
    }
   ],
   "source": [
    "rf_predict, dt_predict = predict(data)"
   ]
  },
  {
   "cell_type": "code",
   "execution_count": 6,
   "metadata": {},
   "outputs": [
    {
     "data": {
      "text/plain": [
       "63383.45833333333"
      ]
     },
     "execution_count": 6,
     "metadata": {},
     "output_type": "execute_result"
    }
   ],
   "source": [
    "rf_predict"
   ]
  },
  {
   "cell_type": "code",
   "execution_count": 7,
   "metadata": {},
   "outputs": [
    {
     "data": {
      "text/plain": [
       "74166.78761061947"
      ]
     },
     "execution_count": 7,
     "metadata": {},
     "output_type": "execute_result"
    }
   ],
   "source": [
    "dt_predict"
   ]
  },
  {
   "cell_type": "code",
   "execution_count": null,
   "metadata": {},
   "outputs": [],
   "source": []
  }
 ],
 "metadata": {
  "kernelspec": {
   "display_name": "Python 3",
   "language": "python",
   "name": "python3"
  },
  "language_info": {
   "codemirror_mode": {
    "name": "ipython",
    "version": 3
   },
   "file_extension": ".py",
   "mimetype": "text/x-python",
   "name": "python",
   "nbconvert_exporter": "python",
   "pygments_lexer": "ipython3",
   "version": "3.8.3"
  }
 },
 "nbformat": 4,
 "nbformat_minor": 4
}
