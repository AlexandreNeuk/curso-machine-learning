{
 "cells": [
  {
   "cell_type": "code",
   "execution_count": 11,
   "metadata": {},
   "outputs": [],
   "source": [
    "import tqdm\n",
    "import glob\n",
    "import json\n",
    "import pandas as pd\n",
    "import requests as rq\n",
    "import bs4 as bs4\n",
    "import time\n",
    "from random import randint"
   ]
  },
  {
   "cell_type": "markdown",
   "metadata": {},
   "source": [
    "### Buscando os links de acesso das páginas que contêm as informações dos carros"
   ]
  },
  {
   "cell_type": "code",
   "execution_count": 39,
   "metadata": {},
   "outputs": [
    {
     "name": "stderr",
     "output_type": "stream",
     "text": [
      "<ipython-input-39-24eecc7c9800>:3: TqdmDeprecationWarning: This function will be removed in tqdm==5.0.0\n",
      "Please use `tqdm.notebook.tqdm` instead of `tqdm.tqdm_notebook`\n",
      "  for video_file in tqdm.tqdm_notebook(sorted(glob.glob(\"./dados/Carro*\"))):\n"
     ]
    },
    {
     "data": {
      "application/vnd.jupyter.widget-view+json": {
       "model_id": "979b8f5e6cd347e68b0da4fee0b2a408",
       "version_major": 2,
       "version_minor": 0
      },
      "text/plain": [
       "HBox(children=(FloatProgress(value=0.0, max=200.0), HTML(value='')))"
      ]
     },
     "metadata": {},
     "output_type": "display_data"
    },
    {
     "name": "stdout",
     "output_type": "stream",
     "text": [
      "\n"
     ]
    }
   ],
   "source": [
    "carros_links = []\n",
    "#for video_file in tqdm.tqdm_notebook(sorted(glob.glob(\"./dados/Carro-Chevrolet-Onix-1.html\"))): # testando em uma única página\n",
    "for video_file in tqdm.tqdm_notebook(sorted(glob.glob(\"./dados/dados_lista/Carro*\"))):\n",
    "    with open(video_file, 'r+', encoding='utf-8') as inp:\n",
    "        page_html = inp.read()\n",
    "        parsed = bs4.BeautifulSoup(page_html, 'html.parser')\n",
    "        tags = parsed.findAll(\"a\")\n",
    "\n",
    "        for e in tags:\n",
    "            if e.has_attr(\"class\"):                    \n",
    "                link = e[\"href\"]\n",
    "                classe = e[\"class\"]                \n",
    "                if len(classe) > 0 and classe[0] == \"clearfix\":\n",
    "                    title = e[\"title\"]\n",
    "                    if link not in carros_links:                        \n",
    "                        carros_links.append(link)\n",
    "                        with open(\"parsed_carros_links.json\", 'a+') as output:\n",
    "                            data = {\"link\": link, \"title\": title}\n",
    "                            output.write(\"{}\\n\".format(json.dumps(data)))\n",
    "                        \n",
    "#print(carros_links)"
   ]
  },
  {
   "cell_type": "markdown",
   "metadata": {},
   "source": [
    "### Função para salvar os dados das páginas com as informações de cada carro"
   ]
  },
  {
   "cell_type": "code",
   "execution_count": 8,
   "metadata": {},
   "outputs": [],
   "source": [
    "def icarros_save_page(page, i):\n",
    "    with open('./dados/dados_carro/Carro-{}.html'.format(i), 'w+', encoding='utf-8') as f:\n",
    "        f.write(page)"
   ]
  },
  {
   "cell_type": "code",
   "execution_count": 17,
   "metadata": {},
   "outputs": [
    {
     "data": {
      "text/html": [
       "<div>\n",
       "<style scoped>\n",
       "    .dataframe tbody tr th:only-of-type {\n",
       "        vertical-align: middle;\n",
       "    }\n",
       "\n",
       "    .dataframe tbody tr th {\n",
       "        vertical-align: top;\n",
       "    }\n",
       "\n",
       "    .dataframe thead th {\n",
       "        text-align: right;\n",
       "    }\n",
       "</style>\n",
       "<table border=\"1\" class=\"dataframe\">\n",
       "  <thead>\n",
       "    <tr style=\"text-align: right;\">\n",
       "      <th></th>\n",
       "      <th>link</th>\n",
       "      <th>title</th>\n",
       "    </tr>\n",
       "  </thead>\n",
       "  <tbody>\n",
       "    <tr>\n",
       "      <th>6</th>\n",
       "      <td>/comprar/belo-horizonte-mg/chevrolet/onix/2020...</td>\n",
       "      <td>Chevrolet Onix 1.0 (Flex)</td>\n",
       "    </tr>\n",
       "    <tr>\n",
       "      <th>0</th>\n",
       "      <td>/comprar/belo-horizonte-mg/chevrolet/onix/2020...</td>\n",
       "      <td>Chevrolet Onix 1.0 Turbo LT</td>\n",
       "    </tr>\n",
       "    <tr>\n",
       "      <th>3</th>\n",
       "      <td>/comprar/belo-horizonte-mg/chevrolet/onix/2020...</td>\n",
       "      <td>Chevrolet Onix 1.0 Turbo LT (Aut)</td>\n",
       "    </tr>\n",
       "    <tr>\n",
       "      <th>5</th>\n",
       "      <td>/comprar/sao-paulo-sp/chevrolet/onix/2020/d304...</td>\n",
       "      <td>Chevrolet Onix 1.0 Turbo LT (Aut)</td>\n",
       "    </tr>\n",
       "    <tr>\n",
       "      <th>1</th>\n",
       "      <td>/comprar/uberlandia-mg/chevrolet/onix/2020/d28...</td>\n",
       "      <td>Chevrolet Onix 1.0 Turbo LTZ</td>\n",
       "    </tr>\n",
       "    <tr>\n",
       "      <th>2</th>\n",
       "      <td>/comprar/sao-gotardo-mg/chevrolet/onix/2020/d2...</td>\n",
       "      <td>Chevrolet Onix 1.0 Turbo LTZ (Aut)</td>\n",
       "    </tr>\n",
       "    <tr>\n",
       "      <th>4</th>\n",
       "      <td>/comprar/ponta-grossa-pr/chevrolet/onix/2020/d...</td>\n",
       "      <td>Chevrolet Onix 1.0 Turbo LTZ (Aut)</td>\n",
       "    </tr>\n",
       "    <tr>\n",
       "      <th>8</th>\n",
       "      <td>/comprar/sao-paulo-sp/chevrolet/onix/2020/d301...</td>\n",
       "      <td>Chevrolet Onix 1.0 Turbo LTZ (Aut)</td>\n",
       "    </tr>\n",
       "    <tr>\n",
       "      <th>7</th>\n",
       "      <td>/comprar/teixeira-de-freitas-ba/chevrolet/onix...</td>\n",
       "      <td>Chevrolet Onix 1.0 Turbo Premier (Aut)</td>\n",
       "    </tr>\n",
       "    <tr>\n",
       "      <th>9</th>\n",
       "      <td>/comprar/goiania-go/chevrolet/onix/2020/d30178...</td>\n",
       "      <td>Chevrolet Onix 1.0 Turbo Premier (Aut)</td>\n",
       "    </tr>\n",
       "  </tbody>\n",
       "</table>\n",
       "</div>"
      ],
      "text/plain": [
       "                                                link  \\\n",
       "6  /comprar/belo-horizonte-mg/chevrolet/onix/2020...   \n",
       "0  /comprar/belo-horizonte-mg/chevrolet/onix/2020...   \n",
       "3  /comprar/belo-horizonte-mg/chevrolet/onix/2020...   \n",
       "5  /comprar/sao-paulo-sp/chevrolet/onix/2020/d304...   \n",
       "1  /comprar/uberlandia-mg/chevrolet/onix/2020/d28...   \n",
       "2  /comprar/sao-gotardo-mg/chevrolet/onix/2020/d2...   \n",
       "4  /comprar/ponta-grossa-pr/chevrolet/onix/2020/d...   \n",
       "8  /comprar/sao-paulo-sp/chevrolet/onix/2020/d301...   \n",
       "7  /comprar/teixeira-de-freitas-ba/chevrolet/onix...   \n",
       "9  /comprar/goiania-go/chevrolet/onix/2020/d30178...   \n",
       "\n",
       "                                    title  \n",
       "6               Chevrolet Onix 1.0 (Flex)  \n",
       "0             Chevrolet Onix 1.0 Turbo LT  \n",
       "3       Chevrolet Onix 1.0 Turbo LT (Aut)  \n",
       "5       Chevrolet Onix 1.0 Turbo LT (Aut)  \n",
       "1            Chevrolet Onix 1.0 Turbo LTZ  \n",
       "2      Chevrolet Onix 1.0 Turbo LTZ (Aut)  \n",
       "4      Chevrolet Onix 1.0 Turbo LTZ (Aut)  \n",
       "8      Chevrolet Onix 1.0 Turbo LTZ (Aut)  \n",
       "7  Chevrolet Onix 1.0 Turbo Premier (Aut)  \n",
       "9  Chevrolet Onix 1.0 Turbo Premier (Aut)  "
      ]
     },
     "execution_count": 17,
     "metadata": {},
     "output_type": "execute_result"
    }
   ],
   "source": [
    "df = pd.read_json(\"parsed_carros_links.json\", lines=True)\n",
    "df.head(10).sort_values(\"title\")"
   ]
  },
  {
   "cell_type": "markdown",
   "metadata": {},
   "source": [
    "### Loop que consulta cada link do arquivo json e chama a função para salvar os dados da página"
   ]
  },
  {
   "cell_type": "code",
   "execution_count": 20,
   "metadata": {},
   "outputs": [
    {
     "name": "stdout",
     "output_type": "stream",
     "text": [
      "\n"
     ]
    }
   ],
   "source": [
    "i = 1\n",
    "url_icarros = 'https://www.icarros.com.br'\n",
    "for index, row in df.iterrows():\n",
    "    urll = url_icarros + row['link']\n",
    "    if i % 2 == 0:\n",
    "        value = randint(22, 38)\n",
    "    else:\n",
    "        value = randint(41, 63)\n",
    "            \n",
    "    response = rq.get(urll)\n",
    "    icarros_save_page(response.text, i)\n",
    "    #print('value ', value, ' -- ', urll)\n",
    "    time.sleep(value)\n",
    "    i = i + 1"
   ]
  },
  {
   "cell_type": "code",
   "execution_count": null,
   "metadata": {},
   "outputs": [],
   "source": []
  }
 ],
 "metadata": {
  "kernelspec": {
   "display_name": "Python 3",
   "language": "python",
   "name": "python3"
  },
  "language_info": {
   "codemirror_mode": {
    "name": "ipython",
    "version": 3
   },
   "file_extension": ".py",
   "mimetype": "text/x-python",
   "name": "python",
   "nbconvert_exporter": "python",
   "pygments_lexer": "ipython3",
   "version": "3.8.3"
  }
 },
 "nbformat": 4,
 "nbformat_minor": 4
}
