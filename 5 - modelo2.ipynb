{
 "cells": [
  {
   "cell_type": "code",
   "execution_count": 1,
   "metadata": {},
   "outputs": [],
   "source": [
    "%config IPCompleter.greedy=True"
   ]
  },
  {
   "cell_type": "code",
   "execution_count": 2,
   "metadata": {},
   "outputs": [],
   "source": [
    "import pandas as pd\n",
    "import numpy as np\n",
    "from sklearn.model_selection import train_test_split\n",
    "from sklearn.tree import DecisionTreeRegressor\n",
    "from sklearn.linear_model import LogisticRegression\n",
    "from sklearn.ensemble import RandomForestRegressor\n",
    "from sklearn import metrics\n",
    "from sklearn.preprocessing import LabelEncoder\n",
    "from sklearn.preprocessing import OneHotEncoder\n",
    "from sklearn.impute import SimpleImputer"
   ]
  },
  {
   "cell_type": "markdown",
   "metadata": {},
   "source": [
    "#### Carregando os dados"
   ]
  },
  {
   "cell_type": "code",
   "execution_count": 3,
   "metadata": {},
   "outputs": [],
   "source": [
    "def convert_prices(df): \n",
    "    for x in range(100): # loop de ,00 ,01 ,02...até 0,99 centavos\n",
    "        if x >= 10:\n",
    "            str_replace = ',' + str(x)\n",
    "        else:    \n",
    "            str_replace = ',0' + str(x)\n",
    "        df['preco'] = df.preco.replace({str_replace:''}, regex=True)\n",
    "    \n",
    "    for i in range(len(df)) : \n",
    "        df['preco'][i] = df['preco'][i].replace('.', '')\n",
    "    \n",
    "    df['preco'] = df['preco'].astype(float)\n",
    "    \n",
    "    return df"
   ]
  },
  {
   "cell_type": "code",
   "execution_count": 4,
   "metadata": {},
   "outputs": [],
   "source": [
    "def load_df():    \n",
    "    df = pd.read_csv('df_final.csv', sep='\\t')\n",
    "    df.drop(df.columns[[0, 1, 2]], axis = 1, inplace = True) \n",
    "    df = convert_prices(df)\n",
    "    return df"
   ]
  },
  {
   "cell_type": "code",
   "execution_count": 5,
   "metadata": {},
   "outputs": [
    {
     "name": "stderr",
     "output_type": "stream",
     "text": [
      "<ipython-input-3-ae655fdf5223>:10: SettingWithCopyWarning: \n",
      "A value is trying to be set on a copy of a slice from a DataFrame\n",
      "\n",
      "See the caveats in the documentation: https://pandas.pydata.org/pandas-docs/stable/user_guide/indexing.html#returning-a-view-versus-a-copy\n",
      "  df['preco'][i] = df['preco'][i].replace('.', '')\n"
     ]
    },
    {
     "data": {
      "text/html": [
       "<div>\n",
       "<style scoped>\n",
       "    .dataframe tbody tr th:only-of-type {\n",
       "        vertical-align: middle;\n",
       "    }\n",
       "\n",
       "    .dataframe tbody tr th {\n",
       "        vertical-align: top;\n",
       "    }\n",
       "\n",
       "    .dataframe thead th {\n",
       "        text-align: right;\n",
       "    }\n",
       "</style>\n",
       "<table border=\"1\" class=\"dataframe\">\n",
       "  <thead>\n",
       "    <tr style=\"text-align: right;\">\n",
       "      <th></th>\n",
       "      <th>nome</th>\n",
       "      <th>ano</th>\n",
       "      <th>km</th>\n",
       "      <th>cor</th>\n",
       "      <th>cambio</th>\n",
       "      <th>portas</th>\n",
       "      <th>preco</th>\n",
       "    </tr>\n",
       "  </thead>\n",
       "  <tbody>\n",
       "    <tr>\n",
       "      <th>0</th>\n",
       "      <td>Chevrolet Onix 1.0 LT (Flex) 2020</td>\n",
       "      <td>2020 / 2020</td>\n",
       "      <td>0.000</td>\n",
       "      <td>Laranja</td>\n",
       "      <td>manual</td>\n",
       "      <td>3.0</td>\n",
       "      <td>59890.0</td>\n",
       "    </tr>\n",
       "    <tr>\n",
       "      <th>1</th>\n",
       "      <td>Fiat Strada Hard Working 1.4 (Flex) (Cabine Si...</td>\n",
       "      <td>2019 / 2019</td>\n",
       "      <td>41.070</td>\n",
       "      <td>Branco</td>\n",
       "      <td>manual</td>\n",
       "      <td>2.0</td>\n",
       "      <td>45900.0</td>\n",
       "    </tr>\n",
       "    <tr>\n",
       "      <th>2</th>\n",
       "      <td>Fiat Strada Hard Working 1.4 (Flex) (Cabine Si...</td>\n",
       "      <td>2018 / 2019</td>\n",
       "      <td>48.654</td>\n",
       "      <td>Prata</td>\n",
       "      <td>manual</td>\n",
       "      <td>4.0</td>\n",
       "      <td>45900.0</td>\n",
       "    </tr>\n",
       "    <tr>\n",
       "      <th>3</th>\n",
       "      <td>Fiat Strada Hard Working 1.4 (Flex) (Cabine Si...</td>\n",
       "      <td>2018 / 2019</td>\n",
       "      <td>19.000</td>\n",
       "      <td>Prata</td>\n",
       "      <td>manual</td>\n",
       "      <td>2.0</td>\n",
       "      <td>45990.0</td>\n",
       "    </tr>\n",
       "    <tr>\n",
       "      <th>4</th>\n",
       "      <td>Fiat Strada Hard Working 1.4 (Flex) (Cabine Si...</td>\n",
       "      <td>2018 / 2019</td>\n",
       "      <td>24.715</td>\n",
       "      <td>Branco</td>\n",
       "      <td>manual</td>\n",
       "      <td>2.0</td>\n",
       "      <td>45990.0</td>\n",
       "    </tr>\n",
       "  </tbody>\n",
       "</table>\n",
       "</div>"
      ],
      "text/plain": [
       "                                                nome          ano      km  \\\n",
       "0                  Chevrolet Onix 1.0 LT (Flex) 2020  2020 / 2020   0.000   \n",
       "1  Fiat Strada Hard Working 1.4 (Flex) (Cabine Si...  2019 / 2019  41.070   \n",
       "2  Fiat Strada Hard Working 1.4 (Flex) (Cabine Si...  2018 / 2019  48.654   \n",
       "3  Fiat Strada Hard Working 1.4 (Flex) (Cabine Si...  2018 / 2019  19.000   \n",
       "4  Fiat Strada Hard Working 1.4 (Flex) (Cabine Si...  2018 / 2019  24.715   \n",
       "\n",
       "       cor  cambio  portas    preco  \n",
       "0  Laranja  manual     3.0  59890.0  \n",
       "1   Branco  manual     2.0  45900.0  \n",
       "2    Prata  manual     4.0  45900.0  \n",
       "3    Prata  manual     2.0  45990.0  \n",
       "4   Branco  manual     2.0  45990.0  "
      ]
     },
     "execution_count": 5,
     "metadata": {},
     "output_type": "execute_result"
    }
   ],
   "source": [
    "df = load_df()\n",
    "df.head()"
   ]
  },
  {
   "cell_type": "markdown",
   "metadata": {},
   "source": [
    "#### Verificando features com dados faltantes"
   ]
  },
  {
   "cell_type": "code",
   "execution_count": 6,
   "metadata": {},
   "outputs": [
    {
     "data": {
      "text/plain": [
       "['cambio', 'portas']"
      ]
     },
     "execution_count": 6,
     "metadata": {},
     "output_type": "execute_result"
    }
   ],
   "source": [
    "[col for col in df.columns if df[col].isnull().any()]"
   ]
  },
  {
   "cell_type": "code",
   "execution_count": 7,
   "metadata": {},
   "outputs": [],
   "source": [
    "cars_features = ['km', 'cambio', 'portas']\n",
    "X = df[cars_features]"
   ]
  },
  {
   "cell_type": "code",
   "execution_count": 13,
   "metadata": {},
   "outputs": [
    {
     "name": "stdout",
     "output_type": "stream",
     "text": [
      "Cambio valores distintos: ['manual' 'automático']\n",
      "Valores faltantes:  0\n",
      "\n",
      "Cambio totais por tipo:\n",
      "manual        1338\n",
      "automático     373\n",
      "Name: cambio, dtype: int64\n"
     ]
    }
   ],
   "source": [
    "print('Cambio valores distintos:', X.cambio.unique())\n",
    "print('Valores faltantes: ', X.cambio.isna().sum())\n",
    "print('\\nCambio totais por tipo:')\n",
    "print(X.cambio.value_counts())"
   ]
  },
  {
   "cell_type": "code",
   "execution_count": 14,
   "metadata": {},
   "outputs": [
    {
     "name": "stdout",
     "output_type": "stream",
     "text": [
      "Portas valores distintos: [3. 2. 4. 5.]\n",
      "Valores faltantes:  0\n",
      "\n",
      "Portas totais por tipo:\n",
      "4.0    1057\n",
      "5.0     428\n",
      "2.0     176\n",
      "3.0      50\n",
      "Name: portas, dtype: int64\n"
     ]
    }
   ],
   "source": [
    "print('Portas valores distintos:', X.portas.unique())\n",
    "print('Valores faltantes: ', X.portas.isna().sum())\n",
    "print('\\nPortas totais por tipo:')\n",
    "print(X.portas.value_counts())"
   ]
  },
  {
   "cell_type": "code",
   "execution_count": 15,
   "metadata": {},
   "outputs": [
    {
     "name": "stderr",
     "output_type": "stream",
     "text": [
      "<ipython-input-15-e84a3af25e01>:1: SettingWithCopyWarning: \n",
      "A value is trying to be set on a copy of a slice from a DataFrame.\n",
      "Try using .loc[row_indexer,col_indexer] = value instead\n",
      "\n",
      "See the caveats in the documentation: https://pandas.pydata.org/pandas-docs/stable/user_guide/indexing.html#returning-a-view-versus-a-copy\n",
      "  X['cambio'] = X['cambio'].fillna(method='ffill')\n",
      "<ipython-input-15-e84a3af25e01>:2: SettingWithCopyWarning: \n",
      "A value is trying to be set on a copy of a slice from a DataFrame.\n",
      "Try using .loc[row_indexer,col_indexer] = value instead\n",
      "\n",
      "See the caveats in the documentation: https://pandas.pydata.org/pandas-docs/stable/user_guide/indexing.html#returning-a-view-versus-a-copy\n",
      "  X['portas'] = X['portas'].fillna(method='ffill')\n"
     ]
    }
   ],
   "source": [
    "X['cambio'] = X['cambio'].fillna(method='ffill')\n",
    "X['portas'] = X['portas'].fillna(method='ffill')"
   ]
  },
  {
   "cell_type": "code",
   "execution_count": 16,
   "metadata": {},
   "outputs": [
    {
     "name": "stdout",
     "output_type": "stream",
     "text": [
      "manual        1338\n",
      "automático     373\n",
      "Name: cambio, dtype: int64\n",
      "4.0    1057\n",
      "5.0     428\n",
      "2.0     176\n",
      "3.0      50\n",
      "Name: portas, dtype: int64\n"
     ]
    }
   ],
   "source": [
    "print(X.cambio.value_counts())\n",
    "print(X.portas.value_counts())"
   ]
  },
  {
   "cell_type": "markdown",
   "metadata": {},
   "source": [
    "#### Verificando se ficou alguma feature com dados faltantes "
   ]
  },
  {
   "cell_type": "code",
   "execution_count": 17,
   "metadata": {},
   "outputs": [
    {
     "data": {
      "text/plain": [
       "[]"
      ]
     },
     "execution_count": 17,
     "metadata": {},
     "output_type": "execute_result"
    }
   ],
   "source": [
    "[col for col in X.columns if X[col].isnull().any()]"
   ]
  },
  {
   "cell_type": "markdown",
   "metadata": {},
   "source": [
    "### Aplicando técnica de LabelEncoder"
   ]
  },
  {
   "cell_type": "code",
   "execution_count": 18,
   "metadata": {},
   "outputs": [],
   "source": [
    "label_encoder = LabelEncoder()"
   ]
  },
  {
   "cell_type": "code",
   "execution_count": 19,
   "metadata": {},
   "outputs": [
    {
     "data": {
      "text/plain": [
       "['cambio']"
      ]
     },
     "execution_count": 19,
     "metadata": {},
     "output_type": "execute_result"
    }
   ],
   "source": [
    "s = (X.dtypes == 'object')\n",
    "object_cols = list(s[s].index)\n",
    "object_cols"
   ]
  },
  {
   "cell_type": "code",
   "execution_count": 20,
   "metadata": {},
   "outputs": [],
   "source": [
    "y = df.preco"
   ]
  },
  {
   "cell_type": "code",
   "execution_count": 25,
   "metadata": {},
   "outputs": [],
   "source": [
    "X_train, X_test, y_train, y_test = train_test_split(X, y, test_size=0.3, random_state=0)"
   ]
  },
  {
   "cell_type": "code",
   "execution_count": 26,
   "metadata": {},
   "outputs": [],
   "source": [
    "label_X_train = X_train.copy()\n",
    "label_X_test = X_test.copy()"
   ]
  },
  {
   "cell_type": "code",
   "execution_count": 27,
   "metadata": {},
   "outputs": [],
   "source": [
    "for col in object_cols:\n",
    "    label_X_train[col] = label_encoder.fit_transform(X_train[col])\n",
    "    label_X_test[col] = label_encoder.transform(X_test[col])"
   ]
  },
  {
   "cell_type": "markdown",
   "metadata": {},
   "source": [
    "#### RandomForestRegressor"
   ]
  },
  {
   "cell_type": "code",
   "execution_count": 28,
   "metadata": {},
   "outputs": [
    {
     "name": "stdout",
     "output_type": "stream",
     "text": [
      "RF - MAE - Mean Absolute Error: 8158.186043340672\n",
      "RF - MSE - Mean Squared Error: 134516356.12695876\n",
      "RF - RMSE - Root Mean Squared Error: 11598.118646011462\n"
     ]
    }
   ],
   "source": [
    "rf = RandomForestRegressor(n_estimators=20, random_state=0)\n",
    "rf.fit(label_X_train, y_train)\n",
    "rf_pred = rf.predict(label_X_test)\n",
    "\n",
    "print('RF - MAE - Mean Absolute Error:', metrics.mean_absolute_error(y_test, rf_pred))\n",
    "print('RF - MSE - Mean Squared Error:', metrics.mean_squared_error(y_test, rf_pred))\n",
    "print('RF - RMSE - Root Mean Squared Error:', np.sqrt(metrics.mean_squared_error(y_test, rf_pred)))"
   ]
  },
  {
   "cell_type": "markdown",
   "metadata": {},
   "source": [
    "#### LogisticRegression"
   ]
  },
  {
   "cell_type": "code",
   "execution_count": 29,
   "metadata": {},
   "outputs": [
    {
     "name": "stdout",
     "output_type": "stream",
     "text": [
      "LR - MAE - Mean Absolute Error: 10073.496108949417\n",
      "LR - MSE - Mean Squared Error: 255274051.00583658\n",
      "LR - RMSE - Root Mean Squared Error: 15977.297988265618\n"
     ]
    }
   ],
   "source": [
    "lr = LogisticRegression(solver='liblinear', multi_class='ovr')\n",
    "lr.fit(label_X_train, y_train)\n",
    "lr_pred = lr.predict(label_X_test)\n",
    "\n",
    "print('LR - MAE - Mean Absolute Error:', metrics.mean_absolute_error(y_test, lr_pred))\n",
    "print('LR - MSE - Mean Squared Error:', metrics.mean_squared_error(y_test, lr_pred))\n",
    "print('LR - RMSE - Root Mean Squared Error:', np.sqrt(metrics.mean_squared_error(y_test, lr_pred)))"
   ]
  },
  {
   "cell_type": "markdown",
   "metadata": {},
   "source": [
    "#### DecisionTreeRegressor"
   ]
  },
  {
   "cell_type": "code",
   "execution_count": 30,
   "metadata": {},
   "outputs": [
    {
     "name": "stdout",
     "output_type": "stream",
     "text": [
      "DT - MAE - Mean Absolute Error: 7967.64794020087\n",
      "DT - MSE - Mean Squared Error: 132848193.70879717\n",
      "DT - RMSE - Root Mean Squared Error: 11525.979078099925\n"
     ]
    }
   ],
   "source": [
    "dt = DecisionTreeRegressor(max_leaf_nodes=10, random_state=1)\n",
    "dt.fit(label_X_train, y_train)\n",
    "dt_pred = dt.predict(label_X_test)\n",
    "\n",
    "print('DT - MAE - Mean Absolute Error:', metrics.mean_absolute_error(y_test, dt_pred))\n",
    "print('DT - MSE - Mean Squared Error:', metrics.mean_squared_error(y_test, dt_pred))\n",
    "print('DT - RMSE - Root Mean Squared Error:', np.sqrt(metrics.mean_squared_error(y_test, dt_pred)))"
   ]
  },
  {
   "cell_type": "markdown",
   "metadata": {},
   "source": [
    "### Aplicando técnica de OneHotEncoder"
   ]
  },
  {
   "cell_type": "code",
   "execution_count": 31,
   "metadata": {},
   "outputs": [],
   "source": [
    "OH_encoder = OneHotEncoder(handle_unknown='ignore', sparse=False)"
   ]
  },
  {
   "cell_type": "code",
   "execution_count": 32,
   "metadata": {},
   "outputs": [],
   "source": [
    "OH_cols_train = pd.DataFrame(OH_encoder.fit_transform(X_train[object_cols]))\n",
    "OH_cols_test = pd.DataFrame(OH_encoder.transform(X_test[object_cols]))"
   ]
  },
  {
   "cell_type": "code",
   "execution_count": 33,
   "metadata": {},
   "outputs": [],
   "source": [
    "OH_cols_train.index = X_train.index\n",
    "OH_cols_test.index = X_test.index"
   ]
  },
  {
   "cell_type": "code",
   "execution_count": 34,
   "metadata": {},
   "outputs": [],
   "source": [
    "num_X_train = X_train.drop(object_cols, axis=1)\n",
    "num_X_test = X_test.drop(object_cols, axis=1)"
   ]
  },
  {
   "cell_type": "code",
   "execution_count": 35,
   "metadata": {},
   "outputs": [],
   "source": [
    "OH_X_train = pd.concat([num_X_train, OH_cols_train], axis=1)\n",
    "OH_X_test = pd.concat([num_X_test, OH_cols_test], axis=1)"
   ]
  },
  {
   "cell_type": "code",
   "execution_count": null,
   "metadata": {},
   "outputs": [],
   "source": []
  },
  {
   "cell_type": "code",
   "execution_count": 49,
   "metadata": {},
   "outputs": [
    {
     "data": {
      "text/html": [
       "<div>\n",
       "<style scoped>\n",
       "    .dataframe tbody tr th:only-of-type {\n",
       "        vertical-align: middle;\n",
       "    }\n",
       "\n",
       "    .dataframe tbody tr th {\n",
       "        vertical-align: top;\n",
       "    }\n",
       "\n",
       "    .dataframe thead th {\n",
       "        text-align: right;\n",
       "    }\n",
       "</style>\n",
       "<table border=\"1\" class=\"dataframe\">\n",
       "  <thead>\n",
       "    <tr style=\"text-align: right;\">\n",
       "      <th></th>\n",
       "      <th>km</th>\n",
       "      <th>portas</th>\n",
       "      <th>0</th>\n",
       "      <th>1</th>\n",
       "    </tr>\n",
       "  </thead>\n",
       "  <tbody>\n",
       "    <tr>\n",
       "      <th>574</th>\n",
       "      <td>0.000</td>\n",
       "      <td>4.0</td>\n",
       "      <td>1.0</td>\n",
       "      <td>0.0</td>\n",
       "    </tr>\n",
       "    <tr>\n",
       "      <th>1079</th>\n",
       "      <td>27.774</td>\n",
       "      <td>4.0</td>\n",
       "      <td>0.0</td>\n",
       "      <td>1.0</td>\n",
       "    </tr>\n",
       "    <tr>\n",
       "      <th>1322</th>\n",
       "      <td>40.580</td>\n",
       "      <td>4.0</td>\n",
       "      <td>0.0</td>\n",
       "      <td>1.0</td>\n",
       "    </tr>\n",
       "    <tr>\n",
       "      <th>654</th>\n",
       "      <td>48.720</td>\n",
       "      <td>4.0</td>\n",
       "      <td>0.0</td>\n",
       "      <td>1.0</td>\n",
       "    </tr>\n",
       "    <tr>\n",
       "      <th>581</th>\n",
       "      <td>0.000</td>\n",
       "      <td>5.0</td>\n",
       "      <td>1.0</td>\n",
       "      <td>0.0</td>\n",
       "    </tr>\n",
       "    <tr>\n",
       "      <th>...</th>\n",
       "      <td>...</td>\n",
       "      <td>...</td>\n",
       "      <td>...</td>\n",
       "      <td>...</td>\n",
       "    </tr>\n",
       "    <tr>\n",
       "      <th>835</th>\n",
       "      <td>42.900</td>\n",
       "      <td>4.0</td>\n",
       "      <td>0.0</td>\n",
       "      <td>1.0</td>\n",
       "    </tr>\n",
       "    <tr>\n",
       "      <th>1216</th>\n",
       "      <td>0.000</td>\n",
       "      <td>5.0</td>\n",
       "      <td>1.0</td>\n",
       "      <td>0.0</td>\n",
       "    </tr>\n",
       "    <tr>\n",
       "      <th>1653</th>\n",
       "      <td>0.000</td>\n",
       "      <td>4.0</td>\n",
       "      <td>0.0</td>\n",
       "      <td>1.0</td>\n",
       "    </tr>\n",
       "    <tr>\n",
       "      <th>559</th>\n",
       "      <td>798.000</td>\n",
       "      <td>4.0</td>\n",
       "      <td>0.0</td>\n",
       "      <td>1.0</td>\n",
       "    </tr>\n",
       "    <tr>\n",
       "      <th>684</th>\n",
       "      <td>0.000</td>\n",
       "      <td>5.0</td>\n",
       "      <td>0.0</td>\n",
       "      <td>1.0</td>\n",
       "    </tr>\n",
       "  </tbody>\n",
       "</table>\n",
       "<p>1197 rows × 4 columns</p>\n",
       "</div>"
      ],
      "text/plain": [
       "           km  portas    0    1\n",
       "574     0.000     4.0  1.0  0.0\n",
       "1079   27.774     4.0  0.0  1.0\n",
       "1322   40.580     4.0  0.0  1.0\n",
       "654    48.720     4.0  0.0  1.0\n",
       "581     0.000     5.0  1.0  0.0\n",
       "...       ...     ...  ...  ...\n",
       "835    42.900     4.0  0.0  1.0\n",
       "1216    0.000     5.0  1.0  0.0\n",
       "1653    0.000     4.0  0.0  1.0\n",
       "559   798.000     4.0  0.0  1.0\n",
       "684     0.000     5.0  0.0  1.0\n",
       "\n",
       "[1197 rows x 4 columns]"
      ]
     },
     "execution_count": 49,
     "metadata": {},
     "output_type": "execute_result"
    }
   ],
   "source": [
    "OH_X_train"
   ]
  },
  {
   "cell_type": "code",
   "execution_count": null,
   "metadata": {},
   "outputs": [],
   "source": []
  },
  {
   "cell_type": "markdown",
   "metadata": {},
   "source": [
    "#### RandomForestRegressor"
   ]
  },
  {
   "cell_type": "code",
   "execution_count": 36,
   "metadata": {},
   "outputs": [
    {
     "name": "stdout",
     "output_type": "stream",
     "text": [
      "RF - MAE - Mean Absolute Error: 8170.9200859801\n",
      "RF - MSE - Mean Squared Error: 134697550.2691223\n",
      "RF - RMSE - Root Mean Squared Error: 11605.927376522839\n"
     ]
    }
   ],
   "source": [
    "rf = RandomForestRegressor(n_estimators=20, random_state=0)\n",
    "rf.fit(OH_X_train, y_train)\n",
    "rf_pred = rf.predict(OH_X_test)\n",
    "\n",
    "print('RF - MAE - Mean Absolute Error:', metrics.mean_absolute_error(y_test, rf_pred))\n",
    "print('RF - MSE - Mean Squared Error:', metrics.mean_squared_error(y_test, rf_pred))\n",
    "print('RF - RMSE - Root Mean Squared Error:', np.sqrt(metrics.mean_squared_error(y_test, rf_pred)))"
   ]
  },
  {
   "cell_type": "markdown",
   "metadata": {},
   "source": [
    "#### LogisticRegression"
   ]
  },
  {
   "cell_type": "code",
   "execution_count": 37,
   "metadata": {},
   "outputs": [
    {
     "name": "stdout",
     "output_type": "stream",
     "text": [
      "LR - MAE - Mean Absolute Error: 8705.184824902724\n",
      "LR - MSE - Mean Squared Error: 164088620.64007783\n",
      "LR - RMSE - Root Mean Squared Error: 12809.708062250202\n"
     ]
    }
   ],
   "source": [
    "lr = LogisticRegression(solver='liblinear', multi_class='ovr')\n",
    "lr.fit(OH_X_train, y_train)\n",
    "lr_pred = lr.predict(OH_X_test)\n",
    "\n",
    "print('LR - MAE - Mean Absolute Error:', metrics.mean_absolute_error(y_test, lr_pred))\n",
    "print('LR - MSE - Mean Squared Error:', metrics.mean_squared_error(y_test, lr_pred))\n",
    "print('LR - RMSE - Root Mean Squared Error:', np.sqrt(metrics.mean_squared_error(y_test, lr_pred)))"
   ]
  },
  {
   "cell_type": "markdown",
   "metadata": {},
   "source": [
    "#### DecisionTreeRegressor"
   ]
  },
  {
   "cell_type": "code",
   "execution_count": 38,
   "metadata": {},
   "outputs": [
    {
     "name": "stdout",
     "output_type": "stream",
     "text": [
      "DT - MAE - Mean Absolute Error: 7967.64794020087\n",
      "DT - MSE - Mean Squared Error: 132848193.70879717\n",
      "DT - RMSE - Root Mean Squared Error: 11525.979078099925\n"
     ]
    }
   ],
   "source": [
    "dt = DecisionTreeRegressor(max_leaf_nodes=10, random_state=1)\n",
    "dt.fit(OH_X_train, y_train)\n",
    "dt_pred = dt.predict(OH_X_test)\n",
    "\n",
    "print('DT - MAE - Mean Absolute Error:', metrics.mean_absolute_error(y_test, dt_pred))\n",
    "print('DT - MSE - Mean Squared Error:', metrics.mean_squared_error(y_test, dt_pred))\n",
    "print('DT - RMSE - Root Mean Squared Error:', np.sqrt(metrics.mean_squared_error(y_test, dt_pred)))"
   ]
  },
  {
   "cell_type": "markdown",
   "metadata": {},
   "source": [
    "### Comparação"
   ]
  },
  {
   "cell_type": "code",
   "execution_count": null,
   "metadata": {},
   "outputs": [],
   "source": [
    "'''\n",
    "Modelo1 - com duas features (km e portas)       modelo2 - com três features (km, cambio portas) \n",
    "Sem nenhum tratamento ------------------------  LabelEncoder  ---------------------------------------  OneHotEncoder\n",
    "'''"
   ]
  },
  {
   "cell_type": "code",
   "execution_count": null,
   "metadata": {},
   "outputs": [],
   "source": [
    "'''\n",
    "RandomForestRegressor\n",
    "MAE  : 12130.13714621856 ---------------------  MAE  : 8158.186043340672 ----------------------------  MAE  : 8170.9200859801\n",
    "MSE  : 289786666.3864076 ---------------------  MSE  : 134516356.12695876 ---------------------------  MSE  : 134697550.2691223\n",
    "RMSE : 17023.121522987716 --------------------  RMSE : 11598.118646011462 ---------------------------  RMSE : 11605.927376522839\n",
    "\n",
    "LogisticRegression\n",
    "MAE  : 13086.900874635568 --------------------  MAE  : 10073.496108949417 ---------------------------  MAE  : 8705.184824902724\n",
    "MSE  : 384705427.8746356 ---------------------  MSE  : 255274051.00583658 ---------------------------  MSE  : 164088620.64007783\n",
    "RMSE : 19613.90904115331 ---------------------  RMSE : 15977.297988265618 ---------------------------  RMSE : 12809.708062250202\n",
    "\n",
    "DecisionTreeRegressor\n",
    "MAE  : 11862.036106689564 --------------------  MAE  : 7967.64794020087 -----------------------------  MAE  : 7967.64794020087\n",
    "MSE  : 276756377.7213516 ---------------------  MSE  : 132848193.70879717 ---------------------------  MSE  : 132848193.70879717\n",
    "RMSE : 16635.996445099154 --------------------  RMSE : 11525.979078099925 ---------------------------  RMSE : 11525.979078099925\n",
    "'''"
   ]
  },
  {
   "cell_type": "code",
   "execution_count": null,
   "metadata": {},
   "outputs": [],
   "source": [
    "'''\n",
    "DecisionTreeRegressor apresentou melhores resultados em geral\n",
    "LogisticRegression apresentou melhora significativa aplicando OneHotEncoder\n",
    "RandomForestRegressor em comaração a DT ficou pior, talvez alterando o n_estimators ou algum outro parâmetro possa melhorar em relação a DT\n",
    "'''"
   ]
  },
  {
   "cell_type": "code",
   "execution_count": null,
   "metadata": {},
   "outputs": [],
   "source": []
  }
 ],
 "metadata": {
  "kernelspec": {
   "display_name": "Python 3",
   "language": "python",
   "name": "python3"
  },
  "language_info": {
   "codemirror_mode": {
    "name": "ipython",
    "version": 3
   },
   "file_extension": ".py",
   "mimetype": "text/x-python",
   "name": "python",
   "nbconvert_exporter": "python",
   "pygments_lexer": "ipython3",
   "version": "3.8.3"
  }
 },
 "nbformat": 4,
 "nbformat_minor": 4
}
