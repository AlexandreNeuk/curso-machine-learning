{
 "cells": [
  {
   "cell_type": "code",
   "execution_count": 6,
   "metadata": {},
   "outputs": [],
   "source": [
    "import tqdm\n",
    "import glob\n",
    "import json\n",
    "import bs4 as bs4"
   ]
  },
  {
   "cell_type": "code",
   "execution_count": 39,
   "metadata": {},
   "outputs": [
    {
     "name": "stderr",
     "output_type": "stream",
     "text": [
      "<ipython-input-39-24eecc7c9800>:3: TqdmDeprecationWarning: This function will be removed in tqdm==5.0.0\n",
      "Please use `tqdm.notebook.tqdm` instead of `tqdm.tqdm_notebook`\n",
      "  for video_file in tqdm.tqdm_notebook(sorted(glob.glob(\"./dados/Carro*\"))):\n"
     ]
    },
    {
     "data": {
      "application/vnd.jupyter.widget-view+json": {
       "model_id": "979b8f5e6cd347e68b0da4fee0b2a408",
       "version_major": 2,
       "version_minor": 0
      },
      "text/plain": [
       "HBox(children=(FloatProgress(value=0.0, max=200.0), HTML(value='')))"
      ]
     },
     "metadata": {},
     "output_type": "display_data"
    },
    {
     "name": "stdout",
     "output_type": "stream",
     "text": [
      "\n"
     ]
    }
   ],
   "source": [
    "carros_links = []\n",
    "#for video_file in tqdm.tqdm_notebook(sorted(glob.glob(\"./dados/Carro-Chevrolet-Onix-1.html\"))):\n",
    "for video_file in tqdm.tqdm_notebook(sorted(glob.glob(\"./dados/Carro*\"))):\n",
    "    with open(video_file, 'r+', encoding='utf-8') as inp:\n",
    "        page_html = inp.read()\n",
    "        parsed = bs4.BeautifulSoup(page_html, 'html.parser')\n",
    "        tags = parsed.findAll(\"a\")\n",
    "\n",
    "        for e in tags:\n",
    "            if e.has_attr(\"class\"):                    \n",
    "                link = e[\"href\"]\n",
    "                classe = e[\"class\"]                \n",
    "                if len(classe) > 0 and classe[0] == \"clearfix\":\n",
    "                    title = e[\"title\"]\n",
    "                    if link not in carros_links:                        \n",
    "                        carros_links.append(link)\n",
    "                        with open(\"parsed_carros_links.json\", 'a+') as output:\n",
    "                            data = {\"link\": link, \"title\": title}\n",
    "                            output.write(\"{}\\n\".format(json.dumps(data)))\n",
    "                        \n",
    "#print(carros_links)"
   ]
  },
  {
   "cell_type": "code",
   "execution_count": null,
   "metadata": {},
   "outputs": [],
   "source": []
  }
 ],
 "metadata": {
  "kernelspec": {
   "display_name": "Python 3",
   "language": "python",
   "name": "python3"
  },
  "language_info": {
   "codemirror_mode": {
    "name": "ipython",
    "version": 3
   },
   "file_extension": ".py",
   "mimetype": "text/x-python",
   "name": "python",
   "nbconvert_exporter": "python",
   "pygments_lexer": "ipython3",
   "version": "3.8.3"
  }
 },
 "nbformat": 4,
 "nbformat_minor": 4
}
