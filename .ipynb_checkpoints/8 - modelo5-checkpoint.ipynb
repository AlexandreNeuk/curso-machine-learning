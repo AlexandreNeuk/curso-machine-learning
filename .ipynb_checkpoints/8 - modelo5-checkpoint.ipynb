{
 "cells": [
  {
   "cell_type": "code",
   "execution_count": 8,
   "metadata": {},
   "outputs": [],
   "source": [
    "%config IPCompleter.greedy=True"
   ]
  },
  {
   "cell_type": "code",
   "execution_count": 9,
   "metadata": {},
   "outputs": [],
   "source": [
    "import pandas as pd\n",
    "import numpy as np\n",
    "from sklearn.model_selection import train_test_split\n",
    "from sklearn.tree import DecisionTreeRegressor\n",
    "from sklearn.linear_model import LogisticRegression\n",
    "from sklearn.ensemble import RandomForestRegressor\n",
    "from sklearn import metrics\n",
    "from sklearn.preprocessing import LabelEncoder\n",
    "from sklearn.preprocessing import OneHotEncoder\n",
    "from sklearn.impute import SimpleImputer"
   ]
  },
  {
   "cell_type": "markdown",
   "metadata": {},
   "source": [
    "#### Carregando os dados"
   ]
  },
  {
   "cell_type": "code",
   "execution_count": 10,
   "metadata": {},
   "outputs": [],
   "source": [
    "def convert_prices(df): \n",
    "    for x in range(100): # loop de ,00 ,01 ,02...até 0,99 centavos\n",
    "        if x >= 10:\n",
    "            str_replace = ',' + str(x)\n",
    "        else:    \n",
    "            str_replace = ',0' + str(x)\n",
    "        df['preco'] = df.preco.replace({str_replace:''}, regex=True)\n",
    "    \n",
    "    for i in range(len(df)) : \n",
    "        df['preco'][i] = df['preco'][i].replace('.', '')\n",
    "    \n",
    "    df['preco'] = df['preco'].astype(float)\n",
    "    \n",
    "    return df"
   ]
  },
  {
   "cell_type": "code",
   "execution_count": 11,
   "metadata": {},
   "outputs": [],
   "source": [
    "def load_df():    \n",
    "    df = pd.read_csv('df_final.csv', sep='\\t')\n",
    "    df.drop(df.columns[[0, 1, 2]], axis = 1, inplace = True) \n",
    "    df = convert_prices(df)\n",
    "    return df"
   ]
  },
  {
   "cell_type": "code",
   "execution_count": 12,
   "metadata": {},
   "outputs": [
    {
     "name": "stderr",
     "output_type": "stream",
     "text": [
      "<ipython-input-10-ae655fdf5223>:10: SettingWithCopyWarning: \n",
      "A value is trying to be set on a copy of a slice from a DataFrame\n",
      "\n",
      "See the caveats in the documentation: https://pandas.pydata.org/pandas-docs/stable/user_guide/indexing.html#returning-a-view-versus-a-copy\n",
      "  df['preco'][i] = df['preco'][i].replace('.', '')\n"
     ]
    },
    {
     "data": {
      "text/html": [
       "<div>\n",
       "<style scoped>\n",
       "    .dataframe tbody tr th:only-of-type {\n",
       "        vertical-align: middle;\n",
       "    }\n",
       "\n",
       "    .dataframe tbody tr th {\n",
       "        vertical-align: top;\n",
       "    }\n",
       "\n",
       "    .dataframe thead th {\n",
       "        text-align: right;\n",
       "    }\n",
       "</style>\n",
       "<table border=\"1\" class=\"dataframe\">\n",
       "  <thead>\n",
       "    <tr style=\"text-align: right;\">\n",
       "      <th></th>\n",
       "      <th>nome</th>\n",
       "      <th>ano</th>\n",
       "      <th>km</th>\n",
       "      <th>cor</th>\n",
       "      <th>cambio</th>\n",
       "      <th>portas</th>\n",
       "      <th>preco</th>\n",
       "    </tr>\n",
       "  </thead>\n",
       "  <tbody>\n",
       "    <tr>\n",
       "      <th>0</th>\n",
       "      <td>Chevrolet Onix 1.0 LT (Flex) 2020</td>\n",
       "      <td>2020 / 2020</td>\n",
       "      <td>0.000</td>\n",
       "      <td>Laranja</td>\n",
       "      <td>manual</td>\n",
       "      <td>3.0</td>\n",
       "      <td>59890.0</td>\n",
       "    </tr>\n",
       "    <tr>\n",
       "      <th>1</th>\n",
       "      <td>Fiat Strada Hard Working 1.4 (Flex) (Cabine Si...</td>\n",
       "      <td>2019 / 2019</td>\n",
       "      <td>41.070</td>\n",
       "      <td>Branco</td>\n",
       "      <td>manual</td>\n",
       "      <td>2.0</td>\n",
       "      <td>45900.0</td>\n",
       "    </tr>\n",
       "    <tr>\n",
       "      <th>2</th>\n",
       "      <td>Fiat Strada Hard Working 1.4 (Flex) (Cabine Si...</td>\n",
       "      <td>2018 / 2019</td>\n",
       "      <td>48.654</td>\n",
       "      <td>Prata</td>\n",
       "      <td>manual</td>\n",
       "      <td>4.0</td>\n",
       "      <td>45900.0</td>\n",
       "    </tr>\n",
       "    <tr>\n",
       "      <th>3</th>\n",
       "      <td>Fiat Strada Hard Working 1.4 (Flex) (Cabine Si...</td>\n",
       "      <td>2018 / 2019</td>\n",
       "      <td>19.000</td>\n",
       "      <td>Prata</td>\n",
       "      <td>manual</td>\n",
       "      <td>2.0</td>\n",
       "      <td>45990.0</td>\n",
       "    </tr>\n",
       "    <tr>\n",
       "      <th>4</th>\n",
       "      <td>Fiat Strada Hard Working 1.4 (Flex) (Cabine Si...</td>\n",
       "      <td>2018 / 2019</td>\n",
       "      <td>24.715</td>\n",
       "      <td>Branco</td>\n",
       "      <td>manual</td>\n",
       "      <td>2.0</td>\n",
       "      <td>45990.0</td>\n",
       "    </tr>\n",
       "  </tbody>\n",
       "</table>\n",
       "</div>"
      ],
      "text/plain": [
       "                                                nome          ano      km  \\\n",
       "0                  Chevrolet Onix 1.0 LT (Flex) 2020  2020 / 2020   0.000   \n",
       "1  Fiat Strada Hard Working 1.4 (Flex) (Cabine Si...  2019 / 2019  41.070   \n",
       "2  Fiat Strada Hard Working 1.4 (Flex) (Cabine Si...  2018 / 2019  48.654   \n",
       "3  Fiat Strada Hard Working 1.4 (Flex) (Cabine Si...  2018 / 2019  19.000   \n",
       "4  Fiat Strada Hard Working 1.4 (Flex) (Cabine Si...  2018 / 2019  24.715   \n",
       "\n",
       "       cor  cambio  portas    preco  \n",
       "0  Laranja  manual     3.0  59890.0  \n",
       "1   Branco  manual     2.0  45900.0  \n",
       "2    Prata  manual     4.0  45900.0  \n",
       "3    Prata  manual     2.0  45990.0  \n",
       "4   Branco  manual     2.0  45990.0  "
      ]
     },
     "execution_count": 12,
     "metadata": {},
     "output_type": "execute_result"
    }
   ],
   "source": [
    "df = load_df()\n",
    "df.head()"
   ]
  },
  {
   "cell_type": "markdown",
   "metadata": {},
   "source": [
    "#### Verificando features com dados faltantes"
   ]
  },
  {
   "cell_type": "code",
   "execution_count": 13,
   "metadata": {},
   "outputs": [
    {
     "data": {
      "text/plain": [
       "['cambio', 'portas']"
      ]
     },
     "execution_count": 13,
     "metadata": {},
     "output_type": "execute_result"
    }
   ],
   "source": [
    "[col for col in df.columns if df[col].isnull().any()]"
   ]
  },
  {
   "cell_type": "markdown",
   "metadata": {},
   "source": [
    "#### Selecionando as features"
   ]
  },
  {
   "cell_type": "code",
   "execution_count": 14,
   "metadata": {},
   "outputs": [],
   "source": [
    "cars_features = ['km', 'cambio', 'portas', 'cor', 'ano', 'nome']\n",
    "X = df[cars_features]"
   ]
  },
  {
   "cell_type": "markdown",
   "metadata": {},
   "source": [
    "#### Analisando os dados da feature Cambio"
   ]
  },
  {
   "cell_type": "code",
   "execution_count": 15,
   "metadata": {},
   "outputs": [
    {
     "name": "stdout",
     "output_type": "stream",
     "text": [
      "Cambio valores distintos: ['manual' 'automático' nan]\n",
      "Valores faltantes:  11\n",
      "\n",
      "Cambio totais por tipo:\n",
      "manual        1334\n",
      "automático     366\n",
      "Name: cambio, dtype: int64\n"
     ]
    }
   ],
   "source": [
    "print('Cambio valores distintos:', X.cambio.unique())\n",
    "print('Valores faltantes: ', X.cambio.isna().sum())\n",
    "print('\\nCambio totais por tipo:')\n",
    "print(X.cambio.value_counts())"
   ]
  },
  {
   "cell_type": "markdown",
   "metadata": {},
   "source": [
    "#### Analisando os dados da feature Portas"
   ]
  },
  {
   "cell_type": "code",
   "execution_count": 16,
   "metadata": {},
   "outputs": [
    {
     "name": "stdout",
     "output_type": "stream",
     "text": [
      "Portas valores distintos: [ 3.  2.  4. nan  5.]\n",
      "Valores faltantes:  225\n",
      "\n",
      "Portas totais por tipo:\n",
      "4.0    932\n",
      "5.0    346\n",
      "2.0    163\n",
      "3.0     45\n",
      "Name: portas, dtype: int64\n"
     ]
    }
   ],
   "source": [
    "print('Portas valores distintos:', X.portas.unique())\n",
    "print('Valores faltantes: ', X.portas.isna().sum())\n",
    "print('\\nPortas totais por tipo:')\n",
    "print(X.portas.value_counts())"
   ]
  },
  {
   "cell_type": "markdown",
   "metadata": {},
   "source": [
    "### Inputando dados nas features com dados faltantes"
   ]
  },
  {
   "cell_type": "code",
   "execution_count": 17,
   "metadata": {},
   "outputs": [
    {
     "name": "stderr",
     "output_type": "stream",
     "text": [
      "<ipython-input-17-e84a3af25e01>:1: SettingWithCopyWarning: \n",
      "A value is trying to be set on a copy of a slice from a DataFrame.\n",
      "Try using .loc[row_indexer,col_indexer] = value instead\n",
      "\n",
      "See the caveats in the documentation: https://pandas.pydata.org/pandas-docs/stable/user_guide/indexing.html#returning-a-view-versus-a-copy\n",
      "  X['cambio'] = X['cambio'].fillna(method='ffill')\n",
      "<ipython-input-17-e84a3af25e01>:2: SettingWithCopyWarning: \n",
      "A value is trying to be set on a copy of a slice from a DataFrame.\n",
      "Try using .loc[row_indexer,col_indexer] = value instead\n",
      "\n",
      "See the caveats in the documentation: https://pandas.pydata.org/pandas-docs/stable/user_guide/indexing.html#returning-a-view-versus-a-copy\n",
      "  X['portas'] = X['portas'].fillna(method='ffill')\n"
     ]
    }
   ],
   "source": [
    "X['cambio'] = X['cambio'].fillna(method='ffill')\n",
    "X['portas'] = X['portas'].fillna(method='ffill')"
   ]
  },
  {
   "cell_type": "markdown",
   "metadata": {},
   "source": [
    "#### Verificando se ficou alguma feature com dados faltantes "
   ]
  },
  {
   "cell_type": "code",
   "execution_count": 18,
   "metadata": {},
   "outputs": [
    {
     "data": {
      "text/plain": [
       "[]"
      ]
     },
     "execution_count": 18,
     "metadata": {},
     "output_type": "execute_result"
    }
   ],
   "source": [
    "[col for col in X.columns if X[col].isnull().any()]"
   ]
  },
  {
   "cell_type": "markdown",
   "metadata": {},
   "source": [
    "### Preprocessando os dados nas features Cor e Ano "
   ]
  },
  {
   "cell_type": "markdown",
   "metadata": {},
   "source": [
    "#### Analisando os dados da feature Cor"
   ]
  },
  {
   "cell_type": "code",
   "execution_count": 19,
   "metadata": {},
   "outputs": [
    {
     "name": "stdout",
     "output_type": "stream",
     "text": [
      "Cores valores distintos: ['Laranja' 'Branco' 'Prata' 'Azul' 'Vermelho' 'Preto' 'Cinza' 'Marrom'\n",
      " 'Várias cores' 'Não informada.' 'manual' 'Vinho' 'Dourado' 'automático'\n",
      " 'Verde' 'Bege' 'Bronze' 'Amarelo']\n",
      "Valores faltantes:  0\n",
      "\\Cores totais por tipo:\n",
      "Branco            710\n",
      "Prata             262\n",
      "Preto             257\n",
      "Vermelho          144\n",
      "Várias cores      112\n",
      "Cinza             112\n",
      "Não informada.     39\n",
      "Laranja            21\n",
      "Azul               16\n",
      "Marrom             10\n",
      "Verde               6\n",
      "automático          6\n",
      "manual              5\n",
      "Dourado             3\n",
      "Vinho               3\n",
      "Bege                3\n",
      "Amarelo             1\n",
      "Bronze              1\n",
      "Name: cor, dtype: int64\n"
     ]
    }
   ],
   "source": [
    "print('Cores valores distintos:', X.cor.unique())\n",
    "print('Valores faltantes: ', X.cor.isna().sum())\n",
    "print('\\Cores totais por tipo:')\n",
    "print(X.cor.value_counts())"
   ]
  },
  {
   "cell_type": "code",
   "execution_count": 20,
   "metadata": {},
   "outputs": [
    {
     "name": "stderr",
     "output_type": "stream",
     "text": [
      "C:\\ProgramData\\Anaconda3\\lib\\site-packages\\pandas\\core\\generic.py:6746: SettingWithCopyWarning: \n",
      "A value is trying to be set on a copy of a slice from a DataFrame\n",
      "\n",
      "See the caveats in the documentation: https://pandas.pydata.org/pandas-docs/stable/user_guide/indexing.html#returning-a-view-versus-a-copy\n",
      "  self._update_inplace(new_data)\n"
     ]
    }
   ],
   "source": [
    "X[\"cor\"].replace({\"Várias cores\": \"Prata\"}, inplace=True)\n",
    "X[\"cor\"].replace({\"Não informada.\": \"Preto\"}, inplace=True)\n",
    "X[\"cor\"].replace({\"automático\": \"Preto\"}, inplace=True)\n",
    "X[\"cor\"].replace({\"manual\": \"Preto\"}, inplace=True)"
   ]
  },
  {
   "cell_type": "markdown",
   "metadata": {},
   "source": [
    "#### Analisando os dados da feature Ano"
   ]
  },
  {
   "cell_type": "code",
   "execution_count": 21,
   "metadata": {},
   "outputs": [
    {
     "name": "stdout",
     "output_type": "stream",
     "text": [
      "Ano valores distintos: ['2020 / 2020' '2019 / 2019' '2018 / 2019' '2017 / 2018' '2018 / 2018'\n",
      " '2015 / 2016' '2016 / 2016' '2015 / 2015' '2014 / 2015' '2013 / 2014'\n",
      " '2013 / 2013' '2012 / 2013' '2012 / 2012' '2011 / 2011' '2020 / 2021'\n",
      " '2019 / 2020' '2016 / 2017' '2017 / 2017' '2011 / 2012' '2009 / 2010'\n",
      " '2009 / 2009' '2014 / 2014']\n",
      "Valores faltantes:  0\n",
      "Anos totais por tipo:\n",
      "2019 / 2020    607\n",
      "2020 / 2020    402\n",
      "2020 / 2021    226\n",
      "2018 / 2019    154\n",
      "2019 / 2019     94\n",
      "2017 / 2018     45\n",
      "2018 / 2018     36\n",
      "2016 / 2017     25\n",
      "2015 / 2015     21\n",
      "2014 / 2015     18\n",
      "2016 / 2016     17\n",
      "2015 / 2016     17\n",
      "2013 / 2013     11\n",
      "2017 / 2017     10\n",
      "2013 / 2014      8\n",
      "2014 / 2014      8\n",
      "2012 / 2013      5\n",
      "2009 / 2010      2\n",
      "2011 / 2011      2\n",
      "2011 / 2012      1\n",
      "2012 / 2012      1\n",
      "2009 / 2009      1\n",
      "Name: ano, dtype: int64\n"
     ]
    }
   ],
   "source": [
    "print('Ano valores distintos:', X.ano.unique())\n",
    "print('Valores faltantes: ', X.ano.isna().sum())\n",
    "print('Anos totais por tipo:')\n",
    "print(X.ano.value_counts())"
   ]
  },
  {
   "cell_type": "code",
   "execution_count": 22,
   "metadata": {},
   "outputs": [],
   "source": [
    "X[\"ano\"].replace({\"2021 / 2021\": \"2021\"}, inplace=True)\n",
    "X[\"ano\"].replace({\"2020 / 2020\": \"2020\"}, inplace=True)\n",
    "X[\"ano\"].replace({\"2019 / 2019\": \"2019\"}, inplace=True)\n",
    "X[\"ano\"].replace({\"2018 / 2018\": \"2018\"}, inplace=True)\n",
    "X[\"ano\"].replace({\"2017 / 2017\": \"2017\"}, inplace=True)\n",
    "X[\"ano\"].replace({\"2016 / 2016\": \"2016\"}, inplace=True)\n",
    "X[\"ano\"].replace({\"2015 / 2015\": \"2015\"}, inplace=True)\n",
    "X[\"ano\"].replace({\"2014 / 2014\": \"2014\"}, inplace=True)\n",
    "X[\"ano\"].replace({\"2013 / 2013\": \"2013\"}, inplace=True)\n",
    "X[\"ano\"].replace({\"2012 / 2012\": \"2012\"}, inplace=True)\n",
    "X[\"ano\"].replace({\"2011 / 2011\": \"2011\"}, inplace=True)\n",
    "X[\"ano\"].replace({\"2010 / 2010\": \"2010\"}, inplace=True)\n",
    "X[\"ano\"].replace({\"2009 / 2009\": \"2009\"}, inplace=True)"
   ]
  },
  {
   "cell_type": "code",
   "execution_count": 23,
   "metadata": {},
   "outputs": [],
   "source": [
    "X[\"ano\"].replace({\"2020 / 2021\": \"2021\"}, inplace=True)\n",
    "X[\"ano\"].replace({\"2019 / 2020\": \"2020\"}, inplace=True)\n",
    "X[\"ano\"].replace({\"2018 / 2019\": \"2019\"}, inplace=True)\n",
    "X[\"ano\"].replace({\"2017 / 2018\": \"2018\"}, inplace=True)\n",
    "X[\"ano\"].replace({\"2016 / 2017\": \"2017\"}, inplace=True)\n",
    "X[\"ano\"].replace({\"2015 / 2016\": \"2016\"}, inplace=True)\n",
    "X[\"ano\"].replace({\"2014 / 2015\": \"2015\"}, inplace=True)\n",
    "X[\"ano\"].replace({\"2013 / 2014\": \"2014\"}, inplace=True)\n",
    "X[\"ano\"].replace({\"2012 / 2013\": \"2013\"}, inplace=True)\n",
    "X[\"ano\"].replace({\"2011 / 2012\": \"2012\"}, inplace=True)\n",
    "X[\"ano\"].replace({\"2010 / 2011\": \"2011\"}, inplace=True)\n",
    "X[\"ano\"].replace({\"2009 / 2010\": \"2010\"}, inplace=True)"
   ]
  },
  {
   "cell_type": "markdown",
   "metadata": {},
   "source": [
    "#### Analisando os dados após os tratamentos"
   ]
  },
  {
   "cell_type": "code",
   "execution_count": 24,
   "metadata": {},
   "outputs": [
    {
     "name": "stdout",
     "output_type": "stream",
     "text": [
      "manual        1338\n",
      "automático     373\n",
      "Name: cambio, dtype: int64\n"
     ]
    }
   ],
   "source": [
    "print(X.cambio.value_counts())"
   ]
  },
  {
   "cell_type": "code",
   "execution_count": 25,
   "metadata": {},
   "outputs": [
    {
     "name": "stdout",
     "output_type": "stream",
     "text": [
      "4.0    1057\n",
      "5.0     428\n",
      "2.0     176\n",
      "3.0      50\n",
      "Name: portas, dtype: int64\n"
     ]
    }
   ],
   "source": [
    "print(X.portas.value_counts())"
   ]
  },
  {
   "cell_type": "code",
   "execution_count": 26,
   "metadata": {},
   "outputs": [
    {
     "name": "stdout",
     "output_type": "stream",
     "text": [
      "Branco      710\n",
      "Prata       374\n",
      "Preto       307\n",
      "Vermelho    144\n",
      "Cinza       112\n",
      "Laranja      21\n",
      "Azul         16\n",
      "Marrom       10\n",
      "Verde         6\n",
      "Vinho         3\n",
      "Bege          3\n",
      "Dourado       3\n",
      "Bronze        1\n",
      "Amarelo       1\n",
      "Name: cor, dtype: int64\n"
     ]
    }
   ],
   "source": [
    "print(X.cor.value_counts())"
   ]
  },
  {
   "cell_type": "code",
   "execution_count": 27,
   "metadata": {},
   "outputs": [
    {
     "name": "stdout",
     "output_type": "stream",
     "text": [
      "2020    1009\n",
      "2019     248\n",
      "2021     226\n",
      "2018      81\n",
      "2015      39\n",
      "2017      35\n",
      "2016      34\n",
      "2014      16\n",
      "2013      16\n",
      "2010       2\n",
      "2011       2\n",
      "2012       2\n",
      "2009       1\n",
      "Name: ano, dtype: int64\n"
     ]
    }
   ],
   "source": [
    "print(X.ano.value_counts())"
   ]
  },
  {
   "cell_type": "markdown",
   "metadata": {},
   "source": [
    "### Aplicando técnica de LabelEncoder"
   ]
  },
  {
   "cell_type": "code",
   "execution_count": 28,
   "metadata": {},
   "outputs": [
    {
     "data": {
      "text/html": [
       "<div>\n",
       "<style scoped>\n",
       "    .dataframe tbody tr th:only-of-type {\n",
       "        vertical-align: middle;\n",
       "    }\n",
       "\n",
       "    .dataframe tbody tr th {\n",
       "        vertical-align: top;\n",
       "    }\n",
       "\n",
       "    .dataframe thead th {\n",
       "        text-align: right;\n",
       "    }\n",
       "</style>\n",
       "<table border=\"1\" class=\"dataframe\">\n",
       "  <thead>\n",
       "    <tr style=\"text-align: right;\">\n",
       "      <th></th>\n",
       "      <th>km</th>\n",
       "      <th>cambio</th>\n",
       "      <th>portas</th>\n",
       "      <th>cor</th>\n",
       "      <th>ano</th>\n",
       "      <th>nome</th>\n",
       "    </tr>\n",
       "  </thead>\n",
       "  <tbody>\n",
       "    <tr>\n",
       "      <th>0</th>\n",
       "      <td>0.000</td>\n",
       "      <td>manual</td>\n",
       "      <td>3.0</td>\n",
       "      <td>Laranja</td>\n",
       "      <td>2020</td>\n",
       "      <td>Chevrolet Onix 1.0 LT (Flex) 2020</td>\n",
       "    </tr>\n",
       "    <tr>\n",
       "      <th>1</th>\n",
       "      <td>41.070</td>\n",
       "      <td>manual</td>\n",
       "      <td>2.0</td>\n",
       "      <td>Branco</td>\n",
       "      <td>2019</td>\n",
       "      <td>Fiat Strada Hard Working 1.4 (Flex) (Cabine Si...</td>\n",
       "    </tr>\n",
       "    <tr>\n",
       "      <th>2</th>\n",
       "      <td>48.654</td>\n",
       "      <td>manual</td>\n",
       "      <td>4.0</td>\n",
       "      <td>Prata</td>\n",
       "      <td>2019</td>\n",
       "      <td>Fiat Strada Hard Working 1.4 (Flex) (Cabine Si...</td>\n",
       "    </tr>\n",
       "    <tr>\n",
       "      <th>3</th>\n",
       "      <td>19.000</td>\n",
       "      <td>manual</td>\n",
       "      <td>2.0</td>\n",
       "      <td>Prata</td>\n",
       "      <td>2019</td>\n",
       "      <td>Fiat Strada Hard Working 1.4 (Flex) (Cabine Si...</td>\n",
       "    </tr>\n",
       "    <tr>\n",
       "      <th>4</th>\n",
       "      <td>24.715</td>\n",
       "      <td>manual</td>\n",
       "      <td>2.0</td>\n",
       "      <td>Branco</td>\n",
       "      <td>2019</td>\n",
       "      <td>Fiat Strada Hard Working 1.4 (Flex) (Cabine Si...</td>\n",
       "    </tr>\n",
       "    <tr>\n",
       "      <th>...</th>\n",
       "      <td>...</td>\n",
       "      <td>...</td>\n",
       "      <td>...</td>\n",
       "      <td>...</td>\n",
       "      <td>...</td>\n",
       "      <td>...</td>\n",
       "    </tr>\n",
       "    <tr>\n",
       "      <th>1706</th>\n",
       "      <td>40.912</td>\n",
       "      <td>manual</td>\n",
       "      <td>2.0</td>\n",
       "      <td>Branco</td>\n",
       "      <td>2019</td>\n",
       "      <td>Fiat Strada Hard Working 1.4 (Flex) (Cabine Si...</td>\n",
       "    </tr>\n",
       "    <tr>\n",
       "      <th>1707</th>\n",
       "      <td>35.271</td>\n",
       "      <td>manual</td>\n",
       "      <td>2.0</td>\n",
       "      <td>Branco</td>\n",
       "      <td>2019</td>\n",
       "      <td>Fiat Strada Hard Working 1.4 (Flex) (Cabine Du...</td>\n",
       "    </tr>\n",
       "    <tr>\n",
       "      <th>1708</th>\n",
       "      <td>40.741</td>\n",
       "      <td>manual</td>\n",
       "      <td>2.0</td>\n",
       "      <td>Prata</td>\n",
       "      <td>2019</td>\n",
       "      <td>Fiat Strada Hard Working 1.4 (Flex) (Cabine Si...</td>\n",
       "    </tr>\n",
       "    <tr>\n",
       "      <th>1709</th>\n",
       "      <td>40.870</td>\n",
       "      <td>manual</td>\n",
       "      <td>2.0</td>\n",
       "      <td>Prata</td>\n",
       "      <td>2019</td>\n",
       "      <td>Fiat Strada Hard Working 1.4 (Flex) (Cabine Du...</td>\n",
       "    </tr>\n",
       "    <tr>\n",
       "      <th>1710</th>\n",
       "      <td>40.870</td>\n",
       "      <td>manual</td>\n",
       "      <td>2.0</td>\n",
       "      <td>Prata</td>\n",
       "      <td>2019</td>\n",
       "      <td>Fiat Strada Hard Working 1.4 (Flex) (Cabine Es...</td>\n",
       "    </tr>\n",
       "  </tbody>\n",
       "</table>\n",
       "<p>1711 rows × 6 columns</p>\n",
       "</div>"
      ],
      "text/plain": [
       "          km  cambio  portas      cor   ano  \\\n",
       "0      0.000  manual     3.0  Laranja  2020   \n",
       "1     41.070  manual     2.0   Branco  2019   \n",
       "2     48.654  manual     4.0    Prata  2019   \n",
       "3     19.000  manual     2.0    Prata  2019   \n",
       "4     24.715  manual     2.0   Branco  2019   \n",
       "...      ...     ...     ...      ...   ...   \n",
       "1706  40.912  manual     2.0   Branco  2019   \n",
       "1707  35.271  manual     2.0   Branco  2019   \n",
       "1708  40.741  manual     2.0    Prata  2019   \n",
       "1709  40.870  manual     2.0    Prata  2019   \n",
       "1710  40.870  manual     2.0    Prata  2019   \n",
       "\n",
       "                                                   nome  \n",
       "0                     Chevrolet Onix 1.0 LT (Flex) 2020  \n",
       "1     Fiat Strada Hard Working 1.4 (Flex) (Cabine Si...  \n",
       "2     Fiat Strada Hard Working 1.4 (Flex) (Cabine Si...  \n",
       "3     Fiat Strada Hard Working 1.4 (Flex) (Cabine Si...  \n",
       "4     Fiat Strada Hard Working 1.4 (Flex) (Cabine Si...  \n",
       "...                                                 ...  \n",
       "1706  Fiat Strada Hard Working 1.4 (Flex) (Cabine Si...  \n",
       "1707  Fiat Strada Hard Working 1.4 (Flex) (Cabine Du...  \n",
       "1708  Fiat Strada Hard Working 1.4 (Flex) (Cabine Si...  \n",
       "1709  Fiat Strada Hard Working 1.4 (Flex) (Cabine Du...  \n",
       "1710  Fiat Strada Hard Working 1.4 (Flex) (Cabine Es...  \n",
       "\n",
       "[1711 rows x 6 columns]"
      ]
     },
     "execution_count": 28,
     "metadata": {},
     "output_type": "execute_result"
    }
   ],
   "source": [
    "X"
   ]
  },
  {
   "cell_type": "code",
   "execution_count": 29,
   "metadata": {},
   "outputs": [],
   "source": [
    "label_encoder = LabelEncoder()"
   ]
  },
  {
   "cell_type": "code",
   "execution_count": 30,
   "metadata": {},
   "outputs": [],
   "source": [
    "y = df.preco"
   ]
  },
  {
   "cell_type": "code",
   "execution_count": 31,
   "metadata": {},
   "outputs": [],
   "source": [
    "X_train, X_test, y_train, y_test = train_test_split(X, y, test_size=0.3, random_state=0)"
   ]
  },
  {
   "cell_type": "code",
   "execution_count": 32,
   "metadata": {},
   "outputs": [
    {
     "data": {
      "text/plain": [
       "((1197, 6), (514, 6), (1197,), (514,))"
      ]
     },
     "execution_count": 32,
     "metadata": {},
     "output_type": "execute_result"
    }
   ],
   "source": [
    "X_train.shape, X_test.shape, y_train.shape, y_test.shape"
   ]
  },
  {
   "cell_type": "code",
   "execution_count": 33,
   "metadata": {},
   "outputs": [],
   "source": [
    "label_X_train = X_train.copy()\n",
    "label_X_test = X_test.copy()"
   ]
  },
  {
   "cell_type": "code",
   "execution_count": 34,
   "metadata": {},
   "outputs": [
    {
     "data": {
      "text/html": [
       "<div>\n",
       "<style scoped>\n",
       "    .dataframe tbody tr th:only-of-type {\n",
       "        vertical-align: middle;\n",
       "    }\n",
       "\n",
       "    .dataframe tbody tr th {\n",
       "        vertical-align: top;\n",
       "    }\n",
       "\n",
       "    .dataframe thead th {\n",
       "        text-align: right;\n",
       "    }\n",
       "</style>\n",
       "<table border=\"1\" class=\"dataframe\">\n",
       "  <thead>\n",
       "    <tr style=\"text-align: right;\">\n",
       "      <th></th>\n",
       "      <th>km</th>\n",
       "      <th>cambio</th>\n",
       "      <th>portas</th>\n",
       "      <th>cor</th>\n",
       "      <th>ano</th>\n",
       "      <th>nome</th>\n",
       "    </tr>\n",
       "  </thead>\n",
       "  <tbody>\n",
       "    <tr>\n",
       "      <th>574</th>\n",
       "      <td>0.000</td>\n",
       "      <td>automático</td>\n",
       "      <td>4.0</td>\n",
       "      <td>Branco</td>\n",
       "      <td>2020</td>\n",
       "      <td>Hyundai HB20 1.0 T-GDI Evolution (Aut) 2020</td>\n",
       "    </tr>\n",
       "    <tr>\n",
       "      <th>1079</th>\n",
       "      <td>27.774</td>\n",
       "      <td>manual</td>\n",
       "      <td>4.0</td>\n",
       "      <td>Branco</td>\n",
       "      <td>2020</td>\n",
       "      <td>Renault Kwid 1.0 Zen 2020</td>\n",
       "    </tr>\n",
       "    <tr>\n",
       "      <th>1322</th>\n",
       "      <td>40.580</td>\n",
       "      <td>manual</td>\n",
       "      <td>4.0</td>\n",
       "      <td>Preto</td>\n",
       "      <td>2020</td>\n",
       "      <td>Fiat Argo 1.0 Drive 2020</td>\n",
       "    </tr>\n",
       "    <tr>\n",
       "      <th>654</th>\n",
       "      <td>48.720</td>\n",
       "      <td>manual</td>\n",
       "      <td>4.0</td>\n",
       "      <td>Branco</td>\n",
       "      <td>2016</td>\n",
       "      <td>Hyundai HB20 1.6 Comfort Style 2016</td>\n",
       "    </tr>\n",
       "    <tr>\n",
       "      <th>581</th>\n",
       "      <td>0.000</td>\n",
       "      <td>automático</td>\n",
       "      <td>5.0</td>\n",
       "      <td>Branco</td>\n",
       "      <td>2020</td>\n",
       "      <td>Hyundai HB20 1.0 T-GDI Evolution (Aut) 2020</td>\n",
       "    </tr>\n",
       "    <tr>\n",
       "      <th>...</th>\n",
       "      <td>...</td>\n",
       "      <td>...</td>\n",
       "      <td>...</td>\n",
       "      <td>...</td>\n",
       "      <td>...</td>\n",
       "      <td>...</td>\n",
       "    </tr>\n",
       "    <tr>\n",
       "      <th>835</th>\n",
       "      <td>42.900</td>\n",
       "      <td>manual</td>\n",
       "      <td>4.0</td>\n",
       "      <td>Preto</td>\n",
       "      <td>2019</td>\n",
       "      <td>Jeep Renegade 1.8 Sport 2019</td>\n",
       "    </tr>\n",
       "    <tr>\n",
       "      <th>1216</th>\n",
       "      <td>0.000</td>\n",
       "      <td>automático</td>\n",
       "      <td>5.0</td>\n",
       "      <td>Branco</td>\n",
       "      <td>2020</td>\n",
       "      <td>Chevrolet Onix 1.0 Turbo LT (Aut) 2020</td>\n",
       "    </tr>\n",
       "    <tr>\n",
       "      <th>1653</th>\n",
       "      <td>0.000</td>\n",
       "      <td>manual</td>\n",
       "      <td>4.0</td>\n",
       "      <td>Vermelho</td>\n",
       "      <td>2020</td>\n",
       "      <td>Fiat Strada 1.4 CD Freedom 2020</td>\n",
       "    </tr>\n",
       "    <tr>\n",
       "      <th>559</th>\n",
       "      <td>798.000</td>\n",
       "      <td>manual</td>\n",
       "      <td>4.0</td>\n",
       "      <td>Branco</td>\n",
       "      <td>2020</td>\n",
       "      <td>Hyundai HB20 1.0 Sense 2020</td>\n",
       "    </tr>\n",
       "    <tr>\n",
       "      <th>684</th>\n",
       "      <td>0.000</td>\n",
       "      <td>manual</td>\n",
       "      <td>5.0</td>\n",
       "      <td>Prata</td>\n",
       "      <td>2021</td>\n",
       "      <td>Hyundai HB20 1.0 Sense 2021</td>\n",
       "    </tr>\n",
       "  </tbody>\n",
       "</table>\n",
       "<p>1197 rows × 6 columns</p>\n",
       "</div>"
      ],
      "text/plain": [
       "           km      cambio  portas       cor   ano  \\\n",
       "574     0.000  automático     4.0    Branco  2020   \n",
       "1079   27.774      manual     4.0    Branco  2020   \n",
       "1322   40.580      manual     4.0     Preto  2020   \n",
       "654    48.720      manual     4.0    Branco  2016   \n",
       "581     0.000  automático     5.0    Branco  2020   \n",
       "...       ...         ...     ...       ...   ...   \n",
       "835    42.900      manual     4.0     Preto  2019   \n",
       "1216    0.000  automático     5.0    Branco  2020   \n",
       "1653    0.000      manual     4.0  Vermelho  2020   \n",
       "559   798.000      manual     4.0    Branco  2020   \n",
       "684     0.000      manual     5.0     Prata  2021   \n",
       "\n",
       "                                             nome  \n",
       "574   Hyundai HB20 1.0 T-GDI Evolution (Aut) 2020  \n",
       "1079                    Renault Kwid 1.0 Zen 2020  \n",
       "1322                     Fiat Argo 1.0 Drive 2020  \n",
       "654           Hyundai HB20 1.6 Comfort Style 2016  \n",
       "581   Hyundai HB20 1.0 T-GDI Evolution (Aut) 2020  \n",
       "...                                           ...  \n",
       "835                  Jeep Renegade 1.8 Sport 2019  \n",
       "1216       Chevrolet Onix 1.0 Turbo LT (Aut) 2020  \n",
       "1653              Fiat Strada 1.4 CD Freedom 2020  \n",
       "559                   Hyundai HB20 1.0 Sense 2020  \n",
       "684                   Hyundai HB20 1.0 Sense 2021  \n",
       "\n",
       "[1197 rows x 6 columns]"
      ]
     },
     "execution_count": 34,
     "metadata": {},
     "output_type": "execute_result"
    }
   ],
   "source": [
    "label_X_train"
   ]
  },
  {
   "cell_type": "code",
   "execution_count": 35,
   "metadata": {},
   "outputs": [],
   "source": [
    "from sklearn.feature_extraction.text import TfidfVectorizer"
   ]
  },
  {
   "cell_type": "code",
   "execution_count": 36,
   "metadata": {},
   "outputs": [],
   "source": [
    "nome_train = X_train['nome']\n",
    "nome_val = X_test['nome']"
   ]
  },
  {
   "cell_type": "code",
   "execution_count": 37,
   "metadata": {},
   "outputs": [
    {
     "data": {
      "text/plain": [
       "((1197,), (514,))"
      ]
     },
     "execution_count": 37,
     "metadata": {},
     "output_type": "execute_result"
    }
   ],
   "source": [
    "nome_train.shape, nome_val.shape"
   ]
  },
  {
   "cell_type": "code",
   "execution_count": 38,
   "metadata": {},
   "outputs": [],
   "source": [
    "nome_vec = TfidfVectorizer(min_df=2, ngram_range=(1,3)) "
   ]
  },
  {
   "cell_type": "code",
   "execution_count": 39,
   "metadata": {},
   "outputs": [],
   "source": [
    "nome_train_tfidf_fit_transform = nome_vec.fit_transform(nome_train)\n",
    "nome_bow_val = nome_vec.transform(nome_val)"
   ]
  },
  {
   "cell_type": "code",
   "execution_count": 40,
   "metadata": {},
   "outputs": [
    {
     "data": {
      "text/plain": [
       "<1197x482 sparse matrix of type '<class 'numpy.float64'>'\n",
       "\twith 13749 stored elements in Compressed Sparse Row format>"
      ]
     },
     "execution_count": 40,
     "metadata": {},
     "output_type": "execute_result"
    }
   ],
   "source": [
    "nome_train_tfidf_fit_transform"
   ]
  },
  {
   "cell_type": "code",
   "execution_count": 41,
   "metadata": {},
   "outputs": [
    {
     "data": {
      "text/plain": [
       "(1197, 482)"
      ]
     },
     "execution_count": 41,
     "metadata": {},
     "output_type": "execute_result"
    }
   ],
   "source": [
    "nome_train_tfidf_fit_transform.shape"
   ]
  },
  {
   "cell_type": "code",
   "execution_count": 42,
   "metadata": {},
   "outputs": [],
   "source": [
    "from scipy.sparse import hstack, vstack"
   ]
  },
  {
   "cell_type": "code",
   "execution_count": 43,
   "metadata": {},
   "outputs": [
    {
     "data": {
      "text/plain": [
       "((1197, 482), (1197, 6))"
      ]
     },
     "execution_count": 43,
     "metadata": {},
     "output_type": "execute_result"
    }
   ],
   "source": [
    "nome_train_tfidf_fit_transform.shape, X_train.shape"
   ]
  },
  {
   "cell_type": "code",
   "execution_count": 44,
   "metadata": {},
   "outputs": [],
   "source": [
    "cars_features_v2 = ['km', 'cambio', 'portas', 'cor', 'ano']\n",
    "X_train_teste = X_train[cars_features_v2]\n",
    "X_test_teste = X_test[cars_features_v2]"
   ]
  },
  {
   "cell_type": "code",
   "execution_count": 45,
   "metadata": {},
   "outputs": [],
   "source": [
    "object_cols = ['cambio', 'cor', 'ano']"
   ]
  },
  {
   "cell_type": "code",
   "execution_count": 46,
   "metadata": {},
   "outputs": [],
   "source": [
    "for col in object_cols:\n",
    "    label_X_train[col] = label_encoder.fit_transform(X_train_teste[col])\n",
    "    label_X_test[col] = label_encoder.transform(X_test_teste[col])"
   ]
  },
  {
   "cell_type": "code",
   "execution_count": null,
   "metadata": {},
   "outputs": [],
   "source": []
  },
  {
   "cell_type": "code",
   "execution_count": 47,
   "metadata": {},
   "outputs": [
    {
     "data": {
      "text/html": [
       "<div>\n",
       "<style scoped>\n",
       "    .dataframe tbody tr th:only-of-type {\n",
       "        vertical-align: middle;\n",
       "    }\n",
       "\n",
       "    .dataframe tbody tr th {\n",
       "        vertical-align: top;\n",
       "    }\n",
       "\n",
       "    .dataframe thead th {\n",
       "        text-align: right;\n",
       "    }\n",
       "</style>\n",
       "<table border=\"1\" class=\"dataframe\">\n",
       "  <thead>\n",
       "    <tr style=\"text-align: right;\">\n",
       "      <th></th>\n",
       "      <th>km</th>\n",
       "      <th>cambio</th>\n",
       "      <th>portas</th>\n",
       "      <th>cor</th>\n",
       "      <th>ano</th>\n",
       "      <th>nome</th>\n",
       "    </tr>\n",
       "  </thead>\n",
       "  <tbody>\n",
       "    <tr>\n",
       "      <th>574</th>\n",
       "      <td>0.000</td>\n",
       "      <td>0</td>\n",
       "      <td>4.0</td>\n",
       "      <td>3</td>\n",
       "      <td>11</td>\n",
       "      <td>Hyundai HB20 1.0 T-GDI Evolution (Aut) 2020</td>\n",
       "    </tr>\n",
       "    <tr>\n",
       "      <th>1079</th>\n",
       "      <td>27.774</td>\n",
       "      <td>1</td>\n",
       "      <td>4.0</td>\n",
       "      <td>3</td>\n",
       "      <td>11</td>\n",
       "      <td>Renault Kwid 1.0 Zen 2020</td>\n",
       "    </tr>\n",
       "    <tr>\n",
       "      <th>1322</th>\n",
       "      <td>40.580</td>\n",
       "      <td>1</td>\n",
       "      <td>4.0</td>\n",
       "      <td>10</td>\n",
       "      <td>11</td>\n",
       "      <td>Fiat Argo 1.0 Drive 2020</td>\n",
       "    </tr>\n",
       "    <tr>\n",
       "      <th>654</th>\n",
       "      <td>48.720</td>\n",
       "      <td>1</td>\n",
       "      <td>4.0</td>\n",
       "      <td>3</td>\n",
       "      <td>7</td>\n",
       "      <td>Hyundai HB20 1.6 Comfort Style 2016</td>\n",
       "    </tr>\n",
       "    <tr>\n",
       "      <th>581</th>\n",
       "      <td>0.000</td>\n",
       "      <td>0</td>\n",
       "      <td>5.0</td>\n",
       "      <td>3</td>\n",
       "      <td>11</td>\n",
       "      <td>Hyundai HB20 1.0 T-GDI Evolution (Aut) 2020</td>\n",
       "    </tr>\n",
       "    <tr>\n",
       "      <th>...</th>\n",
       "      <td>...</td>\n",
       "      <td>...</td>\n",
       "      <td>...</td>\n",
       "      <td>...</td>\n",
       "      <td>...</td>\n",
       "      <td>...</td>\n",
       "    </tr>\n",
       "    <tr>\n",
       "      <th>835</th>\n",
       "      <td>42.900</td>\n",
       "      <td>1</td>\n",
       "      <td>4.0</td>\n",
       "      <td>10</td>\n",
       "      <td>10</td>\n",
       "      <td>Jeep Renegade 1.8 Sport 2019</td>\n",
       "    </tr>\n",
       "    <tr>\n",
       "      <th>1216</th>\n",
       "      <td>0.000</td>\n",
       "      <td>0</td>\n",
       "      <td>5.0</td>\n",
       "      <td>3</td>\n",
       "      <td>11</td>\n",
       "      <td>Chevrolet Onix 1.0 Turbo LT (Aut) 2020</td>\n",
       "    </tr>\n",
       "    <tr>\n",
       "      <th>1653</th>\n",
       "      <td>0.000</td>\n",
       "      <td>1</td>\n",
       "      <td>4.0</td>\n",
       "      <td>12</td>\n",
       "      <td>11</td>\n",
       "      <td>Fiat Strada 1.4 CD Freedom 2020</td>\n",
       "    </tr>\n",
       "    <tr>\n",
       "      <th>559</th>\n",
       "      <td>798.000</td>\n",
       "      <td>1</td>\n",
       "      <td>4.0</td>\n",
       "      <td>3</td>\n",
       "      <td>11</td>\n",
       "      <td>Hyundai HB20 1.0 Sense 2020</td>\n",
       "    </tr>\n",
       "    <tr>\n",
       "      <th>684</th>\n",
       "      <td>0.000</td>\n",
       "      <td>1</td>\n",
       "      <td>5.0</td>\n",
       "      <td>9</td>\n",
       "      <td>12</td>\n",
       "      <td>Hyundai HB20 1.0 Sense 2021</td>\n",
       "    </tr>\n",
       "  </tbody>\n",
       "</table>\n",
       "<p>1197 rows × 6 columns</p>\n",
       "</div>"
      ],
      "text/plain": [
       "           km  cambio  portas  cor  ano  \\\n",
       "574     0.000       0     4.0    3   11   \n",
       "1079   27.774       1     4.0    3   11   \n",
       "1322   40.580       1     4.0   10   11   \n",
       "654    48.720       1     4.0    3    7   \n",
       "581     0.000       0     5.0    3   11   \n",
       "...       ...     ...     ...  ...  ...   \n",
       "835    42.900       1     4.0   10   10   \n",
       "1216    0.000       0     5.0    3   11   \n",
       "1653    0.000       1     4.0   12   11   \n",
       "559   798.000       1     4.0    3   11   \n",
       "684     0.000       1     5.0    9   12   \n",
       "\n",
       "                                             nome  \n",
       "574   Hyundai HB20 1.0 T-GDI Evolution (Aut) 2020  \n",
       "1079                    Renault Kwid 1.0 Zen 2020  \n",
       "1322                     Fiat Argo 1.0 Drive 2020  \n",
       "654           Hyundai HB20 1.6 Comfort Style 2016  \n",
       "581   Hyundai HB20 1.0 T-GDI Evolution (Aut) 2020  \n",
       "...                                           ...  \n",
       "835                  Jeep Renegade 1.8 Sport 2019  \n",
       "1216       Chevrolet Onix 1.0 Turbo LT (Aut) 2020  \n",
       "1653              Fiat Strada 1.4 CD Freedom 2020  \n",
       "559                   Hyundai HB20 1.0 Sense 2020  \n",
       "684                   Hyundai HB20 1.0 Sense 2021  \n",
       "\n",
       "[1197 rows x 6 columns]"
      ]
     },
     "execution_count": 47,
     "metadata": {},
     "output_type": "execute_result"
    }
   ],
   "source": [
    "label_X_train"
   ]
  },
  {
   "cell_type": "code",
   "execution_count": null,
   "metadata": {},
   "outputs": [],
   "source": []
  },
  {
   "cell_type": "code",
   "execution_count": null,
   "metadata": {},
   "outputs": [],
   "source": []
  },
  {
   "cell_type": "code",
   "execution_count": 48,
   "metadata": {},
   "outputs": [],
   "source": [
    "label_X_train = label_X_train[['km', 'cambio', 'portas', 'cor', 'ano']]\n",
    "label_X_test = label_X_test[['km', 'cambio', 'portas', 'cor', 'ano']]"
   ]
  },
  {
   "cell_type": "code",
   "execution_count": null,
   "metadata": {},
   "outputs": [],
   "source": []
  },
  {
   "cell_type": "code",
   "execution_count": null,
   "metadata": {},
   "outputs": [],
   "source": []
  },
  {
   "cell_type": "code",
   "execution_count": 50,
   "metadata": {},
   "outputs": [],
   "source": [
    "Xtrain_wnome = hstack([label_X_train, nome_train_tfidf_fit_transform])\n",
    "Xtest_wnome = hstack([label_X_test, nome_bow_val])"
   ]
  },
  {
   "cell_type": "code",
   "execution_count": null,
   "metadata": {},
   "outputs": [],
   "source": []
  },
  {
   "cell_type": "code",
   "execution_count": 51,
   "metadata": {},
   "outputs": [
    {
     "data": {
      "text/plain": [
       "((1197, 487), (514, 487))"
      ]
     },
     "execution_count": 51,
     "metadata": {},
     "output_type": "execute_result"
    }
   ],
   "source": [
    "Xtrain_wnome.shape, Xtest_wnome.shape"
   ]
  },
  {
   "cell_type": "code",
   "execution_count": 52,
   "metadata": {},
   "outputs": [
    {
     "data": {
      "text/plain": [
       "(1197, 5)"
      ]
     },
     "execution_count": 52,
     "metadata": {},
     "output_type": "execute_result"
    }
   ],
   "source": [
    "label_X_train.shape"
   ]
  },
  {
   "cell_type": "code",
   "execution_count": null,
   "metadata": {},
   "outputs": [],
   "source": []
  },
  {
   "cell_type": "code",
   "execution_count": null,
   "metadata": {},
   "outputs": [],
   "source": []
  },
  {
   "cell_type": "code",
   "execution_count": 55,
   "metadata": {},
   "outputs": [
    {
     "data": {
      "text/plain": [
       "<514x487 sparse matrix of type '<class 'numpy.float64'>'\n",
       "\twith 8178 stored elements in COOrdinate format>"
      ]
     },
     "execution_count": 55,
     "metadata": {},
     "output_type": "execute_result"
    }
   ],
   "source": [
    "Xtest_wnome"
   ]
  },
  {
   "cell_type": "code",
   "execution_count": null,
   "metadata": {},
   "outputs": [],
   "source": []
  },
  {
   "cell_type": "code",
   "execution_count": null,
   "metadata": {},
   "outputs": [],
   "source": []
  },
  {
   "cell_type": "code",
   "execution_count": 54,
   "metadata": {},
   "outputs": [
    {
     "name": "stdout",
     "output_type": "stream",
     "text": [
      "RF - MAE - Mean Absolute Error: 3719.9160671264535\n",
      "RF - MSE - Mean Squared Error: 30292489.652076945\n",
      "RF - RMSE - Root Mean Squared Error: 5503.861340193533\n"
     ]
    },
    {
     "data": {
      "text/plain": [
       "0.9011057542241044"
      ]
     },
     "execution_count": 54,
     "metadata": {},
     "output_type": "execute_result"
    }
   ],
   "source": [
    "rf = RandomForestRegressor(n_estimators=20, random_state=0)\n",
    "rf.fit(Xtrain_wnome, y_train)\n",
    "rf_pred = rf.predict(Xtest_wnome)\n",
    "\n",
    "print('RF - MAE - Mean Absolute Error:', metrics.mean_absolute_error(y_test, rf_pred))\n",
    "print('RF - MSE - Mean Squared Error:', metrics.mean_squared_error(y_test, rf_pred))\n",
    "print('RF - RMSE - Root Mean Squared Error:', np.sqrt(metrics.mean_squared_error(y_test, rf_pred)))\n",
    "rf.score(Xtest_wnome, y_test)"
   ]
  },
  {
   "cell_type": "code",
   "execution_count": null,
   "metadata": {},
   "outputs": [],
   "source": []
  },
  {
   "cell_type": "code",
   "execution_count": null,
   "metadata": {},
   "outputs": [],
   "source": []
  },
  {
   "cell_type": "code",
   "execution_count": null,
   "metadata": {},
   "outputs": [],
   "source": []
  },
  {
   "cell_type": "markdown",
   "metadata": {},
   "source": [
    "#### RandomForestRegressor"
   ]
  },
  {
   "cell_type": "code",
   "execution_count": 210,
   "metadata": {},
   "outputs": [
    {
     "name": "stdout",
     "output_type": "stream",
     "text": [
      "RF - MAE - Mean Absolute Error: 3719.9160671264535\n",
      "RF - MSE - Mean Squared Error: 30292489.652076945\n",
      "RF - RMSE - Root Mean Squared Error: 5503.861340193533\n"
     ]
    }
   ],
   "source": [
    "rf = RandomForestRegressor(n_estimators=20, random_state=0)\n",
    "rf.fit(Xtrain_wnome, y_train)\n",
    "rf_pred = rf.predict(Xtest_wnome)\n",
    "\n",
    "print('RF - MAE - Mean Absolute Error:', metrics.mean_absolute_error(y_test, rf_pred))\n",
    "print('RF - MSE - Mean Squared Error:', metrics.mean_squared_error(y_test, rf_pred))\n",
    "print('RF - RMSE - Root Mean Squared Error:', np.sqrt(metrics.mean_squared_error(y_test, rf_pred)))"
   ]
  },
  {
   "cell_type": "code",
   "execution_count": 212,
   "metadata": {},
   "outputs": [
    {
     "data": {
      "text/plain": [
       "0.9011057542241044"
      ]
     },
     "execution_count": 212,
     "metadata": {},
     "output_type": "execute_result"
    }
   ],
   "source": [
    "rf.score(Xtest_wnome, y_test)"
   ]
  },
  {
   "cell_type": "code",
   "execution_count": null,
   "metadata": {},
   "outputs": [],
   "source": []
  },
  {
   "cell_type": "code",
   "execution_count": 213,
   "metadata": {},
   "outputs": [
    {
     "data": {
      "text/plain": [
       "'\\nRandomForestRegressor melhorou de 0.6116710248281205 para 0.8968164577341587\\n'"
      ]
     },
     "execution_count": 213,
     "metadata": {},
     "output_type": "execute_result"
    }
   ],
   "source": [
    "'''\n",
    "RandomForestRegressor melhorou de 0.6116710248281205 para 0.8968164577341587\n",
    "'''"
   ]
  },
  {
   "cell_type": "markdown",
   "metadata": {},
   "source": [
    "#### LogisticRegression"
   ]
  },
  {
   "cell_type": "code",
   "execution_count": 214,
   "metadata": {},
   "outputs": [
    {
     "name": "stdout",
     "output_type": "stream",
     "text": [
      "LR - MAE - Mean Absolute Error: 5781.1206225680935\n",
      "LR - MSE - Mean Squared Error: 90198584.3929961\n",
      "LR - RMSE - Root Mean Squared Error: 9497.293529895562\n"
     ]
    }
   ],
   "source": [
    "lr = LogisticRegression(solver='liblinear', multi_class='ovr')\n",
    "lr.fit(Xtrain_wnome, y_train)\n",
    "lr_pred = lr.predict(Xtest_wnome)\n",
    "\n",
    "print('LR - MAE - Mean Absolute Error:', metrics.mean_absolute_error(y_test, lr_pred))\n",
    "print('LR - MSE - Mean Squared Error:', metrics.mean_squared_error(y_test, lr_pred))\n",
    "print('LR - RMSE - Root Mean Squared Error:', np.sqrt(metrics.mean_squared_error(y_test, lr_pred)))"
   ]
  },
  {
   "cell_type": "code",
   "execution_count": 215,
   "metadata": {},
   "outputs": [
    {
     "data": {
      "text/plain": [
       "0.11478599221789883"
      ]
     },
     "execution_count": 215,
     "metadata": {},
     "output_type": "execute_result"
    }
   ],
   "source": [
    "lr.score(Xtest_wnome, y_test)"
   ]
  },
  {
   "cell_type": "code",
   "execution_count": 216,
   "metadata": {},
   "outputs": [
    {
     "data": {
      "text/plain": [
       "'\\nLogisticRegression melhorou de 0.07198443579766536 para 0.11284046692607004\\n'"
      ]
     },
     "execution_count": 216,
     "metadata": {},
     "output_type": "execute_result"
    }
   ],
   "source": [
    "'''\n",
    "LogisticRegression melhorou de 0.07198443579766536 para 0.11284046692607004\n",
    "'''"
   ]
  },
  {
   "cell_type": "markdown",
   "metadata": {},
   "source": [
    "#### TfidfVectorizer"
   ]
  },
  {
   "cell_type": "code",
   "execution_count": 217,
   "metadata": {},
   "outputs": [
    {
     "name": "stdout",
     "output_type": "stream",
     "text": [
      "DT - MAE - Mean Absolute Error: 6023.803419716494\n",
      "DT - MSE - Mean Squared Error: 60973473.46557966\n",
      "DT - RMSE - Root Mean Squared Error: 7808.551303896239\n"
     ]
    }
   ],
   "source": [
    "dt = DecisionTreeRegressor(max_leaf_nodes=10, random_state=1)\n",
    "dt.fit(Xtrain_wnome, y_train)\n",
    "dt_pred = dt.predict(Xtest_wnome)\n",
    "\n",
    "print('DT - MAE - Mean Absolute Error:', metrics.mean_absolute_error(y_test, dt_pred))\n",
    "print('DT - MSE - Mean Squared Error:', metrics.mean_squared_error(y_test, dt_pred))\n",
    "print('DT - RMSE - Root Mean Squared Error:', np.sqrt(metrics.mean_squared_error(y_test, dt_pred)))"
   ]
  },
  {
   "cell_type": "code",
   "execution_count": 218,
   "metadata": {},
   "outputs": [
    {
     "data": {
      "text/plain": [
       "0.8009432126585986"
      ]
     },
     "execution_count": 218,
     "metadata": {},
     "output_type": "execute_result"
    }
   ],
   "source": [
    "dt.score(Xtest_wnome, y_test)"
   ]
  },
  {
   "cell_type": "code",
   "execution_count": 219,
   "metadata": {},
   "outputs": [
    {
     "data": {
      "text/plain": [
       "'\\nDecisionTreeRegressor melhorou de 0.6055322556693861 para 0.7916679342714491\\n'"
      ]
     },
     "execution_count": 219,
     "metadata": {},
     "output_type": "execute_result"
    }
   ],
   "source": [
    "'''\n",
    "DecisionTreeRegressor melhorou de 0.6055322556693861 para 0.7916679342714491\n",
    "'''"
   ]
  },
  {
   "cell_type": "code",
   "execution_count": 220,
   "metadata": {},
   "outputs": [],
   "source": [
    "import joblib as jb"
   ]
  },
  {
   "cell_type": "code",
   "execution_count": 221,
   "metadata": {},
   "outputs": [
    {
     "data": {
      "text/plain": [
       "['decision_tree_m8.pkl.z']"
      ]
     },
     "execution_count": 221,
     "metadata": {},
     "output_type": "execute_result"
    }
   ],
   "source": [
    "jb.dump(dt, \"decision_tree_m8.pkl.z\")"
   ]
  },
  {
   "cell_type": "code",
   "execution_count": 222,
   "metadata": {},
   "outputs": [
    {
     "data": {
      "text/plain": [
       "['random_forest_m8.pkl.z']"
      ]
     },
     "execution_count": 222,
     "metadata": {},
     "output_type": "execute_result"
    }
   ],
   "source": [
    "jb.dump(rf, \"random_forest_m8.pkl.z\")"
   ]
  },
  {
   "cell_type": "code",
   "execution_count": 223,
   "metadata": {},
   "outputs": [
    {
     "data": {
      "text/plain": [
       "['nome_vectorizer_m8.pkl.z']"
      ]
     },
     "execution_count": 223,
     "metadata": {},
     "output_type": "execute_result"
    }
   ],
   "source": [
    "jb.dump(nome_vec, \"nome_vectorizer_m8.pkl.z\")"
   ]
  },
  {
   "cell_type": "code",
   "execution_count": null,
   "metadata": {},
   "outputs": [],
   "source": []
  },
  {
   "cell_type": "code",
   "execution_count": null,
   "metadata": {},
   "outputs": [],
   "source": []
  }
 ],
 "metadata": {
  "kernelspec": {
   "display_name": "Python 3",
   "language": "python",
   "name": "python3"
  },
  "language_info": {
   "codemirror_mode": {
    "name": "ipython",
    "version": 3
   },
   "file_extension": ".py",
   "mimetype": "text/x-python",
   "name": "python",
   "nbconvert_exporter": "python",
   "pygments_lexer": "ipython3",
   "version": "3.8.3"
  }
 },
 "nbformat": 4,
 "nbformat_minor": 4
}
