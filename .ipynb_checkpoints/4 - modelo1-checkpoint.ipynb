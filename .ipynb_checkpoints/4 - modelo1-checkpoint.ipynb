{
 "cells": [
  {
   "cell_type": "code",
   "execution_count": 2,
   "metadata": {},
   "outputs": [],
   "source": [
    "import pandas as pd\n",
    "import numpy as np\n",
    "from sklearn.model_selection import train_test_split\n",
    "from sklearn.model_selection import train_test_split\n",
    "from sklearn.tree import DecisionTreeRegressor\n",
    "from sklearn.linear_model import LogisticRegression\n",
    "from sklearn.ensemble import RandomForestRegressor\n",
    "\n",
    "#from sklearn.metrics import mean_absolute_error\n",
    "#from sklearn.metrics import mean_absolute_percentage_error\n",
    "from sklearn import metrics"
   ]
  },
  {
   "cell_type": "code",
   "execution_count": 3,
   "metadata": {},
   "outputs": [
    {
     "data": {
      "text/html": [
       "<div>\n",
       "<style scoped>\n",
       "    .dataframe tbody tr th:only-of-type {\n",
       "        vertical-align: middle;\n",
       "    }\n",
       "\n",
       "    .dataframe tbody tr th {\n",
       "        vertical-align: top;\n",
       "    }\n",
       "\n",
       "    .dataframe thead th {\n",
       "        text-align: right;\n",
       "    }\n",
       "</style>\n",
       "<table border=\"1\" class=\"dataframe\">\n",
       "  <thead>\n",
       "    <tr style=\"text-align: right;\">\n",
       "      <th></th>\n",
       "      <th>arquivo</th>\n",
       "      <th>nome</th>\n",
       "      <th>ano</th>\n",
       "      <th>km</th>\n",
       "      <th>cor</th>\n",
       "      <th>cambio</th>\n",
       "      <th>portas</th>\n",
       "      <th>preco</th>\n",
       "    </tr>\n",
       "  </thead>\n",
       "  <tbody>\n",
       "    <tr>\n",
       "      <th>0</th>\n",
       "      <td>./dados/dados_carro\\Carro-100.html</td>\n",
       "      <td>Chevrolet Onix 1.0 LT (Flex) 2020</td>\n",
       "      <td>2020 / 2020</td>\n",
       "      <td>0.000</td>\n",
       "      <td>Laranja</td>\n",
       "      <td>manual</td>\n",
       "      <td>3.0</td>\n",
       "      <td>59.890,00</td>\n",
       "    </tr>\n",
       "    <tr>\n",
       "      <th>1</th>\n",
       "      <td>./dados/dados_carro\\Carro-1004.html</td>\n",
       "      <td>Fiat Strada Hard Working 1.4 (Flex) (Cabine Si...</td>\n",
       "      <td>2019 / 2019</td>\n",
       "      <td>41.070</td>\n",
       "      <td>Branco</td>\n",
       "      <td>manual</td>\n",
       "      <td>2.0</td>\n",
       "      <td>45.900,00</td>\n",
       "    </tr>\n",
       "    <tr>\n",
       "      <th>2</th>\n",
       "      <td>./dados/dados_carro\\Carro-1005.html</td>\n",
       "      <td>Fiat Strada Hard Working 1.4 (Flex) (Cabine Si...</td>\n",
       "      <td>2018 / 2019</td>\n",
       "      <td>48.654</td>\n",
       "      <td>Prata</td>\n",
       "      <td>manual</td>\n",
       "      <td>4.0</td>\n",
       "      <td>45.900,00</td>\n",
       "    </tr>\n",
       "    <tr>\n",
       "      <th>3</th>\n",
       "      <td>./dados/dados_carro\\Carro-1008.html</td>\n",
       "      <td>Fiat Strada Hard Working 1.4 (Flex) (Cabine Si...</td>\n",
       "      <td>2018 / 2019</td>\n",
       "      <td>19.000</td>\n",
       "      <td>Prata</td>\n",
       "      <td>manual</td>\n",
       "      <td>2.0</td>\n",
       "      <td>45.990,00</td>\n",
       "    </tr>\n",
       "    <tr>\n",
       "      <th>4</th>\n",
       "      <td>./dados/dados_carro\\Carro-1009.html</td>\n",
       "      <td>Fiat Strada Hard Working 1.4 (Flex) (Cabine Si...</td>\n",
       "      <td>2018 / 2019</td>\n",
       "      <td>24.715</td>\n",
       "      <td>Branco</td>\n",
       "      <td>manual</td>\n",
       "      <td>2.0</td>\n",
       "      <td>45.990,00</td>\n",
       "    </tr>\n",
       "  </tbody>\n",
       "</table>\n",
       "</div>"
      ],
      "text/plain": [
       "                               arquivo  \\\n",
       "0   ./dados/dados_carro\\Carro-100.html   \n",
       "1  ./dados/dados_carro\\Carro-1004.html   \n",
       "2  ./dados/dados_carro\\Carro-1005.html   \n",
       "3  ./dados/dados_carro\\Carro-1008.html   \n",
       "4  ./dados/dados_carro\\Carro-1009.html   \n",
       "\n",
       "                                                nome          ano      km  \\\n",
       "0                  Chevrolet Onix 1.0 LT (Flex) 2020  2020 / 2020   0.000   \n",
       "1  Fiat Strada Hard Working 1.4 (Flex) (Cabine Si...  2019 / 2019  41.070   \n",
       "2  Fiat Strada Hard Working 1.4 (Flex) (Cabine Si...  2018 / 2019  48.654   \n",
       "3  Fiat Strada Hard Working 1.4 (Flex) (Cabine Si...  2018 / 2019  19.000   \n",
       "4  Fiat Strada Hard Working 1.4 (Flex) (Cabine Si...  2018 / 2019  24.715   \n",
       "\n",
       "       cor  cambio  portas      preco  \n",
       "0  Laranja  manual     3.0  59.890,00  \n",
       "1   Branco  manual     2.0  45.900,00  \n",
       "2    Prata  manual     4.0  45.900,00  \n",
       "3    Prata  manual     2.0  45.990,00  \n",
       "4   Branco  manual     2.0  45.990,00  "
      ]
     },
     "execution_count": 3,
     "metadata": {},
     "output_type": "execute_result"
    }
   ],
   "source": [
    "df = pd.read_csv('df_final.csv', sep='\\t')\n",
    "df = df.drop(df.columns[0], axis=1)\n",
    "df = df.drop(df.columns[0], axis=1)\n",
    "df.head()"
   ]
  },
  {
   "cell_type": "code",
   "execution_count": 4,
   "metadata": {},
   "outputs": [],
   "source": [
    "def convert_prices(df): \n",
    "    for x in range(100):\n",
    "        if x >= 10:\n",
    "            str_replace = ',' + str(x)\n",
    "        else:    \n",
    "            str_replace = ',0' + str(x)\n",
    "        df['preco'] = df.preco.replace({str_replace:''}, regex=True)\n",
    "    \n",
    "    for i in range(len(df)) : \n",
    "        df['preco'][i] = df['preco'][i].replace('.', '')\n",
    "    \n",
    "    df['preco'] = df['preco'].astype(float)\n",
    "    \n",
    "    return df"
   ]
  },
  {
   "cell_type": "code",
   "execution_count": 5,
   "metadata": {},
   "outputs": [
    {
     "name": "stderr",
     "output_type": "stream",
     "text": [
      "<ipython-input-4-f4cdf1d93ebb>:10: SettingWithCopyWarning: \n",
      "A value is trying to be set on a copy of a slice from a DataFrame\n",
      "\n",
      "See the caveats in the documentation: https://pandas.pydata.org/pandas-docs/stable/user_guide/indexing.html#returning-a-view-versus-a-copy\n",
      "  df['preco'][i] = df['preco'][i].replace('.', '')\n"
     ]
    }
   ],
   "source": [
    "df = convert_prices(df)"
   ]
  },
  {
   "cell_type": "code",
   "execution_count": 6,
   "metadata": {},
   "outputs": [
    {
     "data": {
      "text/plain": [
       "numpy.float64"
      ]
     },
     "execution_count": 6,
     "metadata": {},
     "output_type": "execute_result"
    }
   ],
   "source": [
    "type(df['preco'][1])"
   ]
  },
  {
   "cell_type": "code",
   "execution_count": 7,
   "metadata": {},
   "outputs": [
    {
     "data": {
      "text/plain": [
       "0       59890.0\n",
       "1       45900.0\n",
       "2       45900.0\n",
       "3       45990.0\n",
       "4       45990.0\n",
       "         ...   \n",
       "1706    45590.0\n",
       "1707    45730.0\n",
       "1708    45890.0\n",
       "1709    45890.0\n",
       "1710    45890.0\n",
       "Name: preco, Length: 1711, dtype: float64"
      ]
     },
     "execution_count": 7,
     "metadata": {},
     "output_type": "execute_result"
    }
   ],
   "source": [
    "df['preco']"
   ]
  },
  {
   "cell_type": "markdown",
   "metadata": {},
   "source": [
    "### Criando a baseline"
   ]
  },
  {
   "cell_type": "code",
   "execution_count": 8,
   "metadata": {},
   "outputs": [
    {
     "data": {
      "text/html": [
       "<div>\n",
       "<style scoped>\n",
       "    .dataframe tbody tr th:only-of-type {\n",
       "        vertical-align: middle;\n",
       "    }\n",
       "\n",
       "    .dataframe tbody tr th {\n",
       "        vertical-align: top;\n",
       "    }\n",
       "\n",
       "    .dataframe thead th {\n",
       "        text-align: right;\n",
       "    }\n",
       "</style>\n",
       "<table border=\"1\" class=\"dataframe\">\n",
       "  <thead>\n",
       "    <tr style=\"text-align: right;\">\n",
       "      <th></th>\n",
       "      <th>km</th>\n",
       "      <th>portas</th>\n",
       "      <th>preco</th>\n",
       "    </tr>\n",
       "  </thead>\n",
       "  <tbody>\n",
       "    <tr>\n",
       "      <th>count</th>\n",
       "      <td>1711.000000</td>\n",
       "      <td>1486.000000</td>\n",
       "      <td>1711.000000</td>\n",
       "    </tr>\n",
       "    <tr>\n",
       "      <th>mean</th>\n",
       "      <td>30.362317</td>\n",
       "      <td>3.983176</td>\n",
       "      <td>52137.331970</td>\n",
       "    </tr>\n",
       "    <tr>\n",
       "      <th>std</th>\n",
       "      <td>75.420014</td>\n",
       "      <td>0.837898</td>\n",
       "      <td>18675.162781</td>\n",
       "    </tr>\n",
       "    <tr>\n",
       "      <th>min</th>\n",
       "      <td>0.000000</td>\n",
       "      <td>2.000000</td>\n",
       "      <td>15900.000000</td>\n",
       "    </tr>\n",
       "    <tr>\n",
       "      <th>25%</th>\n",
       "      <td>0.000000</td>\n",
       "      <td>4.000000</td>\n",
       "      <td>39900.000000</td>\n",
       "    </tr>\n",
       "    <tr>\n",
       "      <th>50%</th>\n",
       "      <td>13.000000</td>\n",
       "      <td>4.000000</td>\n",
       "      <td>46500.000000</td>\n",
       "    </tr>\n",
       "    <tr>\n",
       "      <th>75%</th>\n",
       "      <td>40.692000</td>\n",
       "      <td>4.000000</td>\n",
       "      <td>60714.500000</td>\n",
       "    </tr>\n",
       "    <tr>\n",
       "      <th>max</th>\n",
       "      <td>999.999000</td>\n",
       "      <td>5.000000</td>\n",
       "      <td>148000.000000</td>\n",
       "    </tr>\n",
       "  </tbody>\n",
       "</table>\n",
       "</div>"
      ],
      "text/plain": [
       "                km       portas          preco\n",
       "count  1711.000000  1486.000000    1711.000000\n",
       "mean     30.362317     3.983176   52137.331970\n",
       "std      75.420014     0.837898   18675.162781\n",
       "min       0.000000     2.000000   15900.000000\n",
       "25%       0.000000     4.000000   39900.000000\n",
       "50%      13.000000     4.000000   46500.000000\n",
       "75%      40.692000     4.000000   60714.500000\n",
       "max     999.999000     5.000000  148000.000000"
      ]
     },
     "execution_count": 8,
     "metadata": {},
     "output_type": "execute_result"
    }
   ],
   "source": [
    "df.describe()"
   ]
  },
  {
   "cell_type": "code",
   "execution_count": 9,
   "metadata": {},
   "outputs": [],
   "source": [
    "y = df.preco"
   ]
  },
  {
   "cell_type": "code",
   "execution_count": 10,
   "metadata": {},
   "outputs": [
    {
     "data": {
      "text/plain": [
       "0    59890.0\n",
       "1    45900.0\n",
       "2    45900.0\n",
       "Name: preco, dtype: float64"
      ]
     },
     "execution_count": 10,
     "metadata": {},
     "output_type": "execute_result"
    }
   ],
   "source": [
    "y.head(3)"
   ]
  },
  {
   "cell_type": "code",
   "execution_count": 11,
   "metadata": {},
   "outputs": [],
   "source": [
    "cars_features = ['km', 'portas']\n",
    "X = df[cars_features]"
   ]
  },
  {
   "cell_type": "code",
   "execution_count": 12,
   "metadata": {},
   "outputs": [
    {
     "data": {
      "text/html": [
       "<div>\n",
       "<style scoped>\n",
       "    .dataframe tbody tr th:only-of-type {\n",
       "        vertical-align: middle;\n",
       "    }\n",
       "\n",
       "    .dataframe tbody tr th {\n",
       "        vertical-align: top;\n",
       "    }\n",
       "\n",
       "    .dataframe thead th {\n",
       "        text-align: right;\n",
       "    }\n",
       "</style>\n",
       "<table border=\"1\" class=\"dataframe\">\n",
       "  <thead>\n",
       "    <tr style=\"text-align: right;\">\n",
       "      <th></th>\n",
       "      <th>km</th>\n",
       "      <th>portas</th>\n",
       "    </tr>\n",
       "  </thead>\n",
       "  <tbody>\n",
       "    <tr>\n",
       "      <th>0</th>\n",
       "      <td>0.000</td>\n",
       "      <td>3.0</td>\n",
       "    </tr>\n",
       "    <tr>\n",
       "      <th>1</th>\n",
       "      <td>41.070</td>\n",
       "      <td>2.0</td>\n",
       "    </tr>\n",
       "    <tr>\n",
       "      <th>2</th>\n",
       "      <td>48.654</td>\n",
       "      <td>4.0</td>\n",
       "    </tr>\n",
       "  </tbody>\n",
       "</table>\n",
       "</div>"
      ],
      "text/plain": [
       "       km  portas\n",
       "0   0.000     3.0\n",
       "1  41.070     2.0\n",
       "2  48.654     4.0"
      ]
     },
     "execution_count": 12,
     "metadata": {},
     "output_type": "execute_result"
    }
   ],
   "source": [
    "X.head(3)"
   ]
  },
  {
   "cell_type": "code",
   "execution_count": 14,
   "metadata": {},
   "outputs": [
    {
     "name": "stderr",
     "output_type": "stream",
     "text": [
      "C:\\ProgramData\\Anaconda3\\lib\\site-packages\\pandas\\core\\generic.py:6245: SettingWithCopyWarning: \n",
      "A value is trying to be set on a copy of a slice from a DataFrame\n",
      "\n",
      "See the caveats in the documentation: https://pandas.pydata.org/pandas-docs/stable/user_guide/indexing.html#returning-a-view-versus-a-copy\n",
      "  self._update_inplace(new_data)\n"
     ]
    }
   ],
   "source": [
    "X.fillna(X.mean(), inplace=True)"
   ]
  },
  {
   "cell_type": "code",
   "execution_count": 15,
   "metadata": {},
   "outputs": [],
   "source": [
    "#train_X, val_X, train_y, val_y = train_test_split(X, y, test_size=0.4, random_state=42)\n",
    "X_train, X_test, y_train, y_test = train_test_split(X, y, test_size=0.2, random_state=0)"
   ]
  },
  {
   "cell_type": "markdown",
   "metadata": {},
   "source": [
    "#### RandomForestRegressor"
   ]
  },
  {
   "cell_type": "code",
   "execution_count": 22,
   "metadata": {},
   "outputs": [],
   "source": [
    "rf = RandomForestRegressor(n_estimators=20, random_state=0)\n",
    "rf.fit(X_train, y_train)\n",
    "rf_pred = rf.predict(X_test)"
   ]
  },
  {
   "cell_type": "code",
   "execution_count": 23,
   "metadata": {},
   "outputs": [
    {
     "name": "stdout",
     "output_type": "stream",
     "text": [
      "RF - MAE - Mean Absolute Error: 12130.13714621856\n",
      "RF - MSE - Mean Squared Error: 289786666.3864076\n",
      "RF - RMSE - Root Mean Squared Error: 17023.121522987716\n"
     ]
    }
   ],
   "source": [
    "print('RF - MAE - Mean Absolute Error:', metrics.mean_absolute_error(y_test, rf_pred))\n",
    "print('RF - MSE - Mean Squared Error:', metrics.mean_squared_error(y_test, rf_pred))\n",
    "print('RF - RMSE - Root Mean Squared Error:', np.sqrt(metrics.mean_squared_error(y_test, rf_pred)))"
   ]
  },
  {
   "cell_type": "markdown",
   "metadata": {},
   "source": [
    "#### LogisticRegression"
   ]
  },
  {
   "cell_type": "code",
   "execution_count": 24,
   "metadata": {},
   "outputs": [],
   "source": [
    "lr = LogisticRegression(solver='liblinear', multi_class='ovr')\n",
    "lr.fit(X_train, y_train)\n",
    "lr_pred = lr.predict(X_test)"
   ]
  },
  {
   "cell_type": "code",
   "execution_count": 25,
   "metadata": {},
   "outputs": [
    {
     "name": "stdout",
     "output_type": "stream",
     "text": [
      "LR - MAE - Mean Absolute Error: 13086.900874635568\n",
      "LR - MSE - Mean Squared Error: 384705427.8746356\n",
      "LR - RMSE - Root Mean Squared Error: 19613.90904115331\n"
     ]
    }
   ],
   "source": [
    "print('LR - MAE - Mean Absolute Error:', metrics.mean_absolute_error(y_test, lr_pred))\n",
    "print('LR - MSE - Mean Squared Error:', metrics.mean_squared_error(y_test, lr_pred))\n",
    "print('LR - RMSE - Root Mean Squared Error:', np.sqrt(metrics.mean_squared_error(y_test, lr_pred)))"
   ]
  },
  {
   "cell_type": "markdown",
   "metadata": {},
   "source": [
    "#### DecisionTreeRegressor"
   ]
  },
  {
   "cell_type": "code",
   "execution_count": 26,
   "metadata": {},
   "outputs": [],
   "source": [
    "dt = DecisionTreeRegressor(max_leaf_nodes=10, random_state=1)\n",
    "dt.fit(X_train, y_train)\n",
    "dt_pred = dt.predict(X_test)"
   ]
  },
  {
   "cell_type": "code",
   "execution_count": 31,
   "metadata": {},
   "outputs": [
    {
     "name": "stdout",
     "output_type": "stream",
     "text": [
      "DT - MAE - Mean Absolute Error: 11862.036106689564\n",
      "DT - MSE - Mean Squared Error: 276756377.7213516\n",
      "DT - RMSE - Root Mean Squared Error: 16635.996445099154\n"
     ]
    }
   ],
   "source": [
    "print('DT - MAE - Mean Absolute Error:', metrics.mean_absolute_error(y_test, dt_pred))\n",
    "print('DT - MSE - Mean Squared Error:', metrics.mean_squared_error(y_test, dt_pred))\n",
    "print('DT - RMSE - Root Mean Squared Error:', np.sqrt(metrics.mean_squared_error(y_test, dt_pred)))"
   ]
  },
  {
   "cell_type": "code",
   "execution_count": 46,
   "metadata": {},
   "outputs": [],
   "source": []
  }
 ],
 "metadata": {
  "kernelspec": {
   "display_name": "Python 3",
   "language": "python",
   "name": "python3"
  },
  "language_info": {
   "codemirror_mode": {
    "name": "ipython",
    "version": 3
   },
   "file_extension": ".py",
   "mimetype": "text/x-python",
   "name": "python",
   "nbconvert_exporter": "python",
   "pygments_lexer": "ipython3",
   "version": "3.8.3"
  }
 },
 "nbformat": 4,
 "nbformat_minor": 4
}
