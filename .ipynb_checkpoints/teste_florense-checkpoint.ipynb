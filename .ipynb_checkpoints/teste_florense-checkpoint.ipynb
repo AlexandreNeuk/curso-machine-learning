{
 "cells": [
  {
   "cell_type": "code",
   "execution_count": 32,
   "metadata": {},
   "outputs": [],
   "source": [
    "import requests\n",
    "import pandas as pd\n",
    "from bs4 import BeautifulSoup\n",
    "from selenium import webdriver\n",
    "from selenium.webdriver.firefox.options import Options\n",
    "#from selenium.webdriver.chrome.options import Options\n",
    "import json\n",
    "import time\n",
    "from selenium.webdriver.common.keys import Keys"
   ]
  },
  {
   "cell_type": "code",
   "execution_count": 33,
   "metadata": {},
   "outputs": [],
   "source": [
    "url = 'http://localhost/FLORENSE.eListNew'\n",
    "option = Options()\n",
    "option.headless = False"
   ]
  },
  {
   "cell_type": "code",
   "execution_count": 49,
   "metadata": {},
   "outputs": [
    {
     "name": "stdout",
     "output_type": "stream",
     "text": [
      "<selenium.webdriver.remote.webelement.WebElement (session=\"d6765fc0-92c8-42bd-96e6-40c53070341c\", element=\"fbe49a52-75a5-469e-9c7e-ff9e69b26487\")>\n"
     ]
    }
   ],
   "source": [
    "driver = webdriver.Chrome(executable_path=\"geckodriver.exe\", options=option)\n",
    "#driver = webdriver.Chrome(executable_path=\"chromedriver.exe\", options=option)\n",
    "driver.get(url)\n",
    "time.sleep(3)\n",
    "driver.find_element_by_xpath('//*[@id=\"txtLogEmail-inputEl\"]').send_keys(\"amanda@florenselajeado.com.br\")\n",
    "driver.find_element_by_xpath('//*[@id=\"txtLogSenha-inputEl\"]').send_keys(\"FFF1953old\")\n",
    "btn_login = driver.find_element_by_xpath('//*[@id=\"btnProOK-btnInnerEl\"]')\n",
    "time.sleep(2)\n",
    "btn_login.click()\n",
    "#\n",
    "time.sleep(2)\n",
    "btn_comercial = driver.find_element_by_xpath('//*[@id=\"tab-1031-btnInnerEl\"]')\n",
    "btn_comercial.click()\n",
    "#\n",
    "btn_prod_espec = driver.find_element_by_xpath('//*[@id=\"button-1051-btnInnerEl\"]')\n",
    "btn_prod_espec.click()\n",
    "#\n",
    "time.sleep(2)\n",
    "btn_nova_ficha = driver.find_element_by_xpath('//*[@id=\"btnAdicionarFichaficha_consenso2-btnInnerEl\"]')\n",
    "btn_nova_ficha.click()\n",
    "#\n",
    "time.sleep(1)\n",
    "driver.find_element_by_xpath('//*[@id=\"cboFichaConsensoClienteNomeficha_consenso2-inputEl\"]').send_keys('ALEXANDRE ANDREAS PETRY')\n",
    "time.sleep(1)\n",
    "#\n",
    "btn_li = driver.find_element_by_xpath('//*[@id=\"boundlist-1263-listEl\"]/ul/li')\n",
    "btn_li.click()\n",
    "#\n",
    "driver.find_element_by_xpath('//*[@id=\"txaFichaConsensoJustificativaficha_consenso2-inputEl\"]').send_keys('TESTE AUTOMAÇÃO')\n",
    "driver.find_element_by_xpath('//*[@id=\"mofFichaConsensoVl_Negociacaoficha_consenso2-inputEl\"]').send_keys('1.212,23')\n",
    "#\n",
    "time.sleep(1)\n",
    "btn_salva_ficha = driver.find_element_by_xpath('//*[@id=\"btnFichaConsensoSalvarficha_consenso2-btnInnerEl\"]')\n",
    "btn_salva_ficha.click()\n",
    "#\n",
    "time.sleep(2)\n",
    "#\n",
    "driver.find_element_by_xpath('//*[@id=\"txtFichaConsensoItemCd_Similarficha_consenso2-inputEl\"]').send_keys('452')\n",
    "driver.find_element_by_xpath('//*[@id=\"txtFichaConsensoItemQt_Itemficha_consenso2-inputEl\"]').send_keys('1')\n",
    "driver.find_element_by_xpath('//*[@id=\"txtFichaConsensoItemDs_Descricaoficha_consenso2-inputEl\"]').send_keys('Descrição')\n",
    "driver.find_element_by_xpath('//*[@id=\"txtFichaConsensoItemQt_Larguraficha_consenso2-inputEl\"]').send_keys('150')\n",
    "driver.find_element_by_xpath('//*[@id=\"txtFichaConsensoItemQt_ALturaficha_consenso2-inputEl\"]').send_keys('80')\n",
    "driver.find_element_by_xpath('//*[@id=\"txtFichaConsensoItemQt_Profundidadeficha_consenso2-inputEl\"]').send_keys('60')\n",
    "driver.find_element_by_xpath('//*[@id=\"txtFichaConsensoItemDs_Acabamentoficha_consenso2-inputEl\"]').send_keys('Acabamento')\n",
    "#\n",
    "btn_sentido_veio = driver.find_element_by_xpath('//*[@id=\"cboFichaConsensoItemCd_SentidoVeioficha_consenso2-inputEl\"]')\n",
    "btn_sentido_veio.click()\n",
    "#\n",
    "time.sleep(2)\n",
    "                                           #//*[@id=\"boundlist-1279-listEl\"]/ul/li[2]\n",
    "                                           #\n",
    "btn_largura = driver.find_element_by_xpath('/html/body/div[23]/div/ul/li[2]')\n",
    "btn_largura.click()\n",
    "#\n",
    "time.sleep(1)\n",
    "#\n",
    "btn_salva_ficha_item = driver.find_element_by_xpath('//*[@id=\"btnFichaConsensoItemSalvarficha_consenso2-btnInnerEl\"]')\n",
    "btn_salva_ficha_item.click()\n",
    "#\n",
    "#\n",
    "#\n",
    "print(text_email)"
   ]
  },
  {
   "cell_type": "code",
   "execution_count": null,
   "metadata": {},
   "outputs": [],
   "source": []
  }
 ],
 "metadata": {
  "kernelspec": {
   "display_name": "Python 3",
   "language": "python",
   "name": "python3"
  },
  "language_info": {
   "codemirror_mode": {
    "name": "ipython",
    "version": 3
   },
   "file_extension": ".py",
   "mimetype": "text/x-python",
   "name": "python",
   "nbconvert_exporter": "python",
   "pygments_lexer": "ipython3",
   "version": "3.8.3"
  }
 },
 "nbformat": 4,
 "nbformat_minor": 4
}
