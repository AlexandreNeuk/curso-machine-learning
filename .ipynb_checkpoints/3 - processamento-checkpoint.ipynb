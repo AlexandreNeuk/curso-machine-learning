{
 "cells": [
  {
   "cell_type": "code",
   "execution_count": 2,
   "metadata": {},
   "outputs": [],
   "source": [
    "import pandas as pd\n",
    "import bs4 as bs4\n",
    "import tqdm\n",
    "import glob\n",
    "import json"
   ]
  },
  {
   "cell_type": "markdown",
   "metadata": {},
   "source": [
    "### Extraindo as informações dos carros (nome, ano,\tkm,\tcor, câmbio, portas\te preço) das páginas "
   ]
  },
  {
   "cell_type": "code",
   "execution_count": 4,
   "metadata": {},
   "outputs": [
    {
     "name": "stderr",
     "output_type": "stream",
     "text": [
      "<ipython-input-4-0950fa4721c4>:5: TqdmDeprecationWarning: This function will be removed in tqdm==5.0.0\n",
      "Please use `tqdm.notebook.tqdm` instead of `tqdm.tqdm_notebook`\n",
      "  for car_file in tqdm.tqdm_notebook(sorted(glob.glob(\"./dados/dados_carro/Carro*\"))):\n"
     ]
    },
    {
     "data": {
      "application/vnd.jupyter.widget-view+json": {
       "model_id": "1a660a0a6a1444949672a413ced28e19",
       "version_major": 2,
       "version_minor": 0
      },
      "text/plain": [
       "HBox(children=(FloatProgress(value=0.0, max=2618.0), HTML(value='')))"
      ]
     },
     "metadata": {},
     "output_type": "display_data"
    },
    {
     "name": "stdout",
     "output_type": "stream",
     "text": [
      "Não tem o preço na página ->  ./dados/dados_carro\\Carro-1.html\n",
      "Não tem o preço na página ->  ./dados/dados_carro\\Carro-1079.html\n",
      "Não tem o preço na página ->  ./dados/dados_carro\\Carro-1777.html\n",
      "Não tem o preço na página ->  ./dados/dados_carro\\Carro-2288.html\n",
      "Não tem o preço na página ->  ./dados/dados_carro\\Carro-2404.html\n",
      "Não tem o preço na página ->  ./dados/dados_carro\\Carro-393.html\n",
      "Não tem o preço na página ->  ./dados/dados_carro\\Carro-400.html\n",
      "Não tem o preço na página ->  ./dados/dados_carro\\Carro-800.html\n",
      "Não tem o preço na página ->  ./dados/dados_carro\\Carro-801.html\n",
      "Não tem o preço na página ->  ./dados/dados_carro\\Carro-802.html\n",
      "Não tem o preço na página ->  ./dados/dados_carro\\Carro-803.html\n",
      "Não tem o preço na página ->  ./dados/dados_carro\\Carro-804.html\n",
      "Não tem o preço na página ->  ./dados/dados_carro\\Carro-805.html\n",
      "Não tem o preço na página ->  ./dados/dados_carro\\Carro-921.html\n",
      "\n"
     ]
    }
   ],
   "source": [
    "j = 1\n",
    "import os\n",
    "os.remove(\"parsed_cars_info.json\")\n",
    "with open(\"parsed_cars_info.json\", 'w+') as output:\n",
    "    for car_file in tqdm.tqdm_notebook(sorted(glob.glob(\"./dados/dados_carro/Carro*\"))):\n",
    "        with open(car_file, 'r+', encoding='utf-8') as inp:\n",
    "            page_html = inp.read()\n",
    "            parsed = bs4.BeautifulSoup(page_html, 'html.parser')\n",
    "\n",
    "            if (len(parsed.findAll(\"h2\", {\"class\": \"preco\"})) >= 1):\n",
    "                data = dict()\n",
    "                data['arquivo'] = car_file\n",
    "                h2_preco = parsed.findAll(\"h2\", {\"class\": \"preco\"})[0].string\n",
    "                titulo = parsed.findAll(class_= 'titulo-sm')\n",
    "\n",
    "                for t in titulo:\n",
    "                    carro = t.getText()\n",
    "                    data['nome'] = \"\".join(carro.split(\"\\n\")).strip()\n",
    "                try:\n",
    "                    preco = h2_preco.split(\" \")[1]                    \n",
    "                    divs = parsed.findAll(class_= 'clearfix card card-transparente card-informacoes-basicas')\n",
    "                    for div in divs:           \n",
    "                        lis = div.find_next('ul').find_all('li')\n",
    "                        columns = ['ano', 'km', 'cor', 'cambio', 'portas']\n",
    "                        #print(car_file, ' -- ', len(lis))\n",
    "                        i = 0\n",
    "                        for el in lis:\n",
    "                            items = el.text.splitlines(0)\n",
    "                            data[columns[i]] = items[2]\n",
    "                            i = i + 1\n",
    "                    data['preco'] = preco\n",
    "                    output.write(\"{}\\n\".format(json.dumps(data)))\n",
    "                except:\n",
    "                    print('Não tem o preço na página -> ', car_file)\n",
    "            #print(' J ', j, ' -- ', car_file)\n",
    "            #j = j + 1\n",
    "            #output.write(\"{}\\n\".format(json.dumps(data)))\n",
    "        #else:\n",
    "            #print('Página errada não possui conteúdo - scrapy fail')\n",
    "            #my_dict.append('n')\n",
    "        "
   ]
  },
  {
   "cell_type": "code",
   "execution_count": 5,
   "metadata": {},
   "outputs": [
    {
     "data": {
      "text/html": [
       "<div>\n",
       "<style scoped>\n",
       "    .dataframe tbody tr th:only-of-type {\n",
       "        vertical-align: middle;\n",
       "    }\n",
       "\n",
       "    .dataframe tbody tr th {\n",
       "        vertical-align: top;\n",
       "    }\n",
       "\n",
       "    .dataframe thead th {\n",
       "        text-align: right;\n",
       "    }\n",
       "</style>\n",
       "<table border=\"1\" class=\"dataframe\">\n",
       "  <thead>\n",
       "    <tr style=\"text-align: right;\">\n",
       "      <th></th>\n",
       "      <th>arquivo</th>\n",
       "      <th>nome</th>\n",
       "      <th>ano</th>\n",
       "      <th>km</th>\n",
       "      <th>cor</th>\n",
       "      <th>cambio</th>\n",
       "      <th>portas</th>\n",
       "      <th>preco</th>\n",
       "    </tr>\n",
       "  </thead>\n",
       "  <tbody>\n",
       "    <tr>\n",
       "      <th>0</th>\n",
       "      <td>./dados/dados_carro\\Carro-100.html</td>\n",
       "      <td>Chevrolet Onix 1.0 LT (Flex) 2020</td>\n",
       "      <td>2020 / 2020</td>\n",
       "      <td>0 Km</td>\n",
       "      <td>Laranja</td>\n",
       "      <td>manual</td>\n",
       "      <td>3.0</td>\n",
       "      <td>59.890,00</td>\n",
       "    </tr>\n",
       "    <tr>\n",
       "      <th>1</th>\n",
       "      <td>./dados/dados_carro\\Carro-1004.html</td>\n",
       "      <td>Fiat Strada Hard Working 1.4 (Flex) (Cabine Si...</td>\n",
       "      <td>2019 / 2019</td>\n",
       "      <td>41.070</td>\n",
       "      <td>Branco</td>\n",
       "      <td>manual</td>\n",
       "      <td>2.0</td>\n",
       "      <td>45.900,00</td>\n",
       "    </tr>\n",
       "    <tr>\n",
       "      <th>2</th>\n",
       "      <td>./dados/dados_carro\\Carro-1005.html</td>\n",
       "      <td>Fiat Strada Hard Working 1.4 (Flex) (Cabine Si...</td>\n",
       "      <td>2018 / 2019</td>\n",
       "      <td>48.654</td>\n",
       "      <td>Prata</td>\n",
       "      <td>manual</td>\n",
       "      <td>4.0</td>\n",
       "      <td>45.900,00</td>\n",
       "    </tr>\n",
       "  </tbody>\n",
       "</table>\n",
       "</div>"
      ],
      "text/plain": [
       "                               arquivo  \\\n",
       "0   ./dados/dados_carro\\Carro-100.html   \n",
       "1  ./dados/dados_carro\\Carro-1004.html   \n",
       "2  ./dados/dados_carro\\Carro-1005.html   \n",
       "\n",
       "                                                nome          ano       km  \\\n",
       "0                  Chevrolet Onix 1.0 LT (Flex) 2020  2020 / 2020     0 Km   \n",
       "1  Fiat Strada Hard Working 1.4 (Flex) (Cabine Si...  2019 / 2019  41.070    \n",
       "2  Fiat Strada Hard Working 1.4 (Flex) (Cabine Si...  2018 / 2019  48.654    \n",
       "\n",
       "       cor  cambio  portas      preco  \n",
       "0  Laranja  manual     3.0  59.890,00  \n",
       "1   Branco  manual     2.0  45.900,00  \n",
       "2    Prata  manual     4.0  45.900,00  "
      ]
     },
     "execution_count": 5,
     "metadata": {},
     "output_type": "execute_result"
    }
   ],
   "source": [
    "df = pd.read_json(\"parsed_cars_info.json\", lines=True)\n",
    "df.head(3)"
   ]
  },
  {
   "cell_type": "markdown",
   "metadata": {},
   "source": [
    "#### 1945 registros e 8 colunas"
   ]
  },
  {
   "cell_type": "code",
   "execution_count": 6,
   "metadata": {},
   "outputs": [
    {
     "data": {
      "text/plain": [
       "(1945, 8)"
      ]
     },
     "execution_count": 6,
     "metadata": {},
     "output_type": "execute_result"
    }
   ],
   "source": [
    "df.shape"
   ]
  },
  {
   "cell_type": "markdown",
   "metadata": {},
   "source": [
    "#### Tratando a feature \"km\" - 974 registros com a feature \"km\" igual a \"0 km\" e 7 igual a \"N/D\""
   ]
  },
  {
   "cell_type": "code",
   "execution_count": 7,
   "metadata": {},
   "outputs": [
    {
     "data": {
      "text/plain": [
       "(974, 8)"
      ]
     },
     "execution_count": 7,
     "metadata": {},
     "output_type": "execute_result"
    }
   ],
   "source": [
    "df_km = df[df['km'] == \"0 Km\"] \n",
    "df_km.shape"
   ]
  },
  {
   "cell_type": "code",
   "execution_count": 8,
   "metadata": {},
   "outputs": [
    {
     "data": {
      "text/plain": [
       "(7, 8)"
      ]
     },
     "execution_count": 8,
     "metadata": {},
     "output_type": "execute_result"
    }
   ],
   "source": [
    "df_nd = df[df['km'] == \"N/D \"] \n",
    "df_nd.shape"
   ]
  },
  {
   "cell_type": "markdown",
   "metadata": {},
   "source": [
    "#### Alterando os valores da feature \"km\" de \"0 Km\" e \"N/D\" para \"0\" "
   ]
  },
  {
   "cell_type": "code",
   "execution_count": 9,
   "metadata": {},
   "outputs": [
    {
     "data": {
      "text/plain": [
       "(0, 8)"
      ]
     },
     "execution_count": 9,
     "metadata": {},
     "output_type": "execute_result"
    }
   ],
   "source": [
    "df.loc[df['km'] == '0 Km', 'km'] = 0\n",
    "df_km = df[df['km'] == '0 Km'] \n",
    "df_km.shape"
   ]
  },
  {
   "cell_type": "code",
   "execution_count": 10,
   "metadata": {},
   "outputs": [
    {
     "data": {
      "text/plain": [
       "(0, 8)"
      ]
     },
     "execution_count": 10,
     "metadata": {},
     "output_type": "execute_result"
    }
   ],
   "source": [
    "df.loc[df['km'] == 'N/D ', 'km'] = 0\n",
    "df_km = df[df['km'] == 'N/D '] \n",
    "df_km.shape"
   ]
  },
  {
   "cell_type": "code",
   "execution_count": 11,
   "metadata": {},
   "outputs": [],
   "source": [
    "df['km'].astype(float)\n",
    "df.to_csv('df_cars.csv', sep='\\t', encoding='utf-8')"
   ]
  },
  {
   "cell_type": "markdown",
   "metadata": {},
   "source": [
    "#### Eliminando registros repetidos"
   ]
  },
  {
   "cell_type": "code",
   "execution_count": 37,
   "metadata": {},
   "outputs": [],
   "source": [
    "df_tmp1 = pd.read_csv('df_cars.csv', sep='\\t')\n",
    "df_tmp2 = pd.read_csv('df_cars.csv', sep='\\t')\n",
    "df_tmp1.rename(columns={ df_tmp1.columns[0]: \"id\" }, inplace = True)\n",
    "df_tmp2.rename(columns={ df_tmp2.columns[0]: \"id\" }, inplace = True)"
   ]
  },
  {
   "cell_type": "code",
   "execution_count": 38,
   "metadata": {},
   "outputs": [],
   "source": [
    "repeated = []\n",
    "for index, row in df_tmp1.iterrows():\n",
    "    for index1, row1 in df_tmp2.iterrows():\n",
    "        if row['nome'] == row1['nome'] and row['preco'] == row1['preco'] and row['ano'] == row1['ano'] and row['km'] == row1['km'] and row['cor'] == row1['cor'] and row['portas'] == row1['portas'] and row['id'] != row1['id']:\n",
    "            if row['id'] not in repeated:\n",
    "                repeated.append(row1['id'])"
   ]
  },
  {
   "cell_type": "code",
   "execution_count": 39,
   "metadata": {},
   "outputs": [],
   "source": [
    "df_tmp = pd.DataFrame(columns = list(df_tmp1.columns.values))"
   ]
  },
  {
   "cell_type": "code",
   "execution_count": 40,
   "metadata": {},
   "outputs": [],
   "source": [
    "for index, row in df_tmp1.iterrows():\n",
    "    if row['id'] not in repeated:\n",
    "        df_tmp = df_tmp.append(row, ignore_index=True)"
   ]
  },
  {
   "cell_type": "code",
   "execution_count": 41,
   "metadata": {},
   "outputs": [
    {
     "name": "stdout",
     "output_type": "stream",
     "text": [
      "Registros duplicados: 234\n"
     ]
    }
   ],
   "source": [
    "print('Registros duplicados:', len(df) - len(df_tmp))"
   ]
  },
  {
   "cell_type": "code",
   "execution_count": 44,
   "metadata": {},
   "outputs": [],
   "source": [
    "df_tmp.to_csv('df_cars_no_duplicates.csv', sep='\\t', encoding='utf-8')"
   ]
  },
  {
   "cell_type": "code",
   "execution_count": 79,
   "metadata": {},
   "outputs": [],
   "source": [
    "df = pd.read_csv('df_cars_no_duplicates.csv', sep='\\t')"
   ]
  },
  {
   "cell_type": "markdown",
   "metadata": {},
   "source": [
    "#### Convertendo os preços de  string para float"
   ]
  },
  {
   "cell_type": "code",
   "execution_count": 80,
   "metadata": {},
   "outputs": [],
   "source": [
    "for x in range(100):\n",
    "    if x >= 10:\n",
    "        str_replace = ',' + str(x)\n",
    "    else:    \n",
    "        str_replace = ',0' + str(x)\n",
    "    df['preco'] = df.preco.replace({str_replace:''}, regex=True)"
   ]
  },
  {
   "cell_type": "code",
   "execution_count": 87,
   "metadata": {},
   "outputs": [
    {
     "name": "stderr",
     "output_type": "stream",
     "text": [
      "<ipython-input-87-aa0fe7f1b6cb>:2: SettingWithCopyWarning: \n",
      "A value is trying to be set on a copy of a slice from a DataFrame\n",
      "\n",
      "See the caveats in the documentation: https://pandas.pydata.org/pandas-docs/stable/user_guide/indexing.html#returning-a-view-versus-a-copy\n",
      "  df['preco'][i] = df['preco'][i].replace('.', '')\n"
     ]
    }
   ],
   "source": [
    "for i in range(len(df)) : \n",
    "    df['preco'][i] = df['preco'][i].replace('.', '')"
   ]
  },
  {
   "cell_type": "code",
   "execution_count": 88,
   "metadata": {},
   "outputs": [
    {
     "data": {
      "text/plain": [
       "0       59890\n",
       "1       45900\n",
       "2       45900\n",
       "3       45990\n",
       "4       45990\n",
       "        ...  \n",
       "1706    45590\n",
       "1707    45730\n",
       "1708    45890\n",
       "1709    45890\n",
       "1710    45890\n",
       "Name: preco, Length: 1711, dtype: object"
      ]
     },
     "execution_count": 88,
     "metadata": {},
     "output_type": "execute_result"
    }
   ],
   "source": [
    "df['preco']"
   ]
  },
  {
   "cell_type": "code",
   "execution_count": 89,
   "metadata": {},
   "outputs": [
    {
     "data": {
      "text/plain": [
       "0       59890.0\n",
       "1       45900.0\n",
       "2       45900.0\n",
       "3       45990.0\n",
       "4       45990.0\n",
       "         ...   \n",
       "1706    45590.0\n",
       "1707    45730.0\n",
       "1708    45890.0\n",
       "1709    45890.0\n",
       "1710    45890.0\n",
       "Name: preco, Length: 1711, dtype: float64"
      ]
     },
     "execution_count": 89,
     "metadata": {},
     "output_type": "execute_result"
    }
   ],
   "source": [
    "df['preco'].astype(float)"
   ]
  },
  {
   "cell_type": "code",
   "execution_count": 90,
   "metadata": {},
   "outputs": [
    {
     "data": {
      "text/plain": [
       "0       59890\n",
       "1       45900\n",
       "2       45900\n",
       "3       45990\n",
       "4       45990\n",
       "        ...  \n",
       "1706    45590\n",
       "1707    45730\n",
       "1708    45890\n",
       "1709    45890\n",
       "1710    45890\n",
       "Name: preco, Length: 1711, dtype: object"
      ]
     },
     "execution_count": 90,
     "metadata": {},
     "output_type": "execute_result"
    }
   ],
   "source": [
    "df['preco']"
   ]
  },
  {
   "cell_type": "code",
   "execution_count": 91,
   "metadata": {},
   "outputs": [],
   "source": [
    "df_tmp.to_csv('df_final.csv', sep='\\t', encoding='utf-8')"
   ]
  },
  {
   "cell_type": "code",
   "execution_count": null,
   "metadata": {},
   "outputs": [],
   "source": []
  },
  {
   "cell_type": "code",
   "execution_count": null,
   "metadata": {},
   "outputs": [],
   "source": []
  }
 ],
 "metadata": {
  "kernelspec": {
   "display_name": "Python 3",
   "language": "python",
   "name": "python3"
  },
  "language_info": {
   "codemirror_mode": {
    "name": "ipython",
    "version": 3
   },
   "file_extension": ".py",
   "mimetype": "text/x-python",
   "name": "python",
   "nbconvert_exporter": "python",
   "pygments_lexer": "ipython3",
   "version": "3.8.3"
  }
 },
 "nbformat": 4,
 "nbformat_minor": 4
}
