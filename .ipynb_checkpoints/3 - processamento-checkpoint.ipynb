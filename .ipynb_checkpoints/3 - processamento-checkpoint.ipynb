{
 "cells": [
  {
   "cell_type": "code",
   "execution_count": 29,
   "metadata": {},
   "outputs": [],
   "source": [
    "import pandas as pd\n",
    "import requests as rq\n",
    "import bs4 as bs4\n",
    "import time\n",
    "from random import randint\n",
    "from requests.adapters import HTTPAdapter\n",
    "from requests.packages.urllib3.util.retry import Retry"
   ]
  },
  {
   "cell_type": "code",
   "execution_count": null,
   "metadata": {},
   "outputs": [],
   "source": []
  },
  {
   "cell_type": "code",
   "execution_count": null,
   "metadata": {},
   "outputs": [],
   "source": [
    "tmp = []\n",
    "url_icarros = 'https://www.icarros.com.br'\n",
    "for index, row in df.iterrows():\n",
    "    urll = url_icarros + row['link']\n",
    "    #print(urll)\n",
    "    response = rq.get(urll)\n",
    "    parsed = bs4.BeautifulSoup(response.text, 'html.parser')\n",
    "\n",
    "    if (len(parsed.findAll(\"h2\", {\"class\": \"preco\"})) >= 1):\n",
    "        print('URL 2: ', urll)\n",
    "        h2_preco = parsed.findAll(\"h2\", {\"class\": \"preco\"})[0].string\n",
    "        preco = h2_preco.split(\" \")[1]\n",
    "\n",
    "        divs = parsed.findAll(class_= 'clearfix card card-transparente card-informacoes-basicas')        \n",
    "        for div in divs:           \n",
    "            #aa = div.div.ul.get('li')\n",
    "            lis = div.find_next('ul').find_all('li')\n",
    "            if len(lis) == 3:\n",
    "                #print('3')\n",
    "                tmp.append(3)\n",
    "            elif len(lis) == 5:\n",
    "                #print('5')\n",
    "                tmp.append(5)\n",
    "        time.sleep(1)\n",
    "    else:\n",
    "        print('URL : ', urll)"
   ]
  },
  {
   "cell_type": "code",
   "execution_count": null,
   "metadata": {},
   "outputs": [],
   "source": []
  },
  {
   "cell_type": "code",
   "execution_count": null,
   "metadata": {},
   "outputs": [],
   "source": []
  }
 ],
 "metadata": {
  "kernelspec": {
   "display_name": "Python 3",
   "language": "python",
   "name": "python3"
  },
  "language_info": {
   "codemirror_mode": {
    "name": "ipython",
    "version": 3
   },
   "file_extension": ".py",
   "mimetype": "text/x-python",
   "name": "python",
   "nbconvert_exporter": "python",
   "pygments_lexer": "ipython3",
   "version": "3.8.3"
  }
 },
 "nbformat": 4,
 "nbformat_minor": 4
}
