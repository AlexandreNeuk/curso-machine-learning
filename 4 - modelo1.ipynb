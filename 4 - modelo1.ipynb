{
 "cells": [
  {
   "cell_type": "code",
   "execution_count": 2,
   "metadata": {},
   "outputs": [],
   "source": [
    "import pandas as pd\n",
    "import numpy as np\n",
    "from sklearn.model_selection import train_test_split\n",
    "from sklearn.model_selection import train_test_split\n",
    "from sklearn.tree import DecisionTreeRegressor\n",
    "from sklearn.metrics import mean_absolute_error"
   ]
  },
  {
   "cell_type": "code",
   "execution_count": 3,
   "metadata": {},
   "outputs": [
    {
     "data": {
      "text/html": [
       "<div>\n",
       "<style scoped>\n",
       "    .dataframe tbody tr th:only-of-type {\n",
       "        vertical-align: middle;\n",
       "    }\n",
       "\n",
       "    .dataframe tbody tr th {\n",
       "        vertical-align: top;\n",
       "    }\n",
       "\n",
       "    .dataframe thead th {\n",
       "        text-align: right;\n",
       "    }\n",
       "</style>\n",
       "<table border=\"1\" class=\"dataframe\">\n",
       "  <thead>\n",
       "    <tr style=\"text-align: right;\">\n",
       "      <th></th>\n",
       "      <th>arquivo</th>\n",
       "      <th>nome</th>\n",
       "      <th>ano</th>\n",
       "      <th>km</th>\n",
       "      <th>cor</th>\n",
       "      <th>cambio</th>\n",
       "      <th>portas</th>\n",
       "      <th>preco</th>\n",
       "    </tr>\n",
       "  </thead>\n",
       "  <tbody>\n",
       "    <tr>\n",
       "      <th>0</th>\n",
       "      <td>./dados/dados_carro\\Carro-100.html</td>\n",
       "      <td>Chevrolet Onix 1.0 LT (Flex) 2020</td>\n",
       "      <td>2020 / 2020</td>\n",
       "      <td>0.000</td>\n",
       "      <td>Laranja</td>\n",
       "      <td>manual</td>\n",
       "      <td>3.0</td>\n",
       "      <td>59.890,00</td>\n",
       "    </tr>\n",
       "    <tr>\n",
       "      <th>1</th>\n",
       "      <td>./dados/dados_carro\\Carro-1004.html</td>\n",
       "      <td>Fiat Strada Hard Working 1.4 (Flex) (Cabine Si...</td>\n",
       "      <td>2019 / 2019</td>\n",
       "      <td>41.070</td>\n",
       "      <td>Branco</td>\n",
       "      <td>manual</td>\n",
       "      <td>2.0</td>\n",
       "      <td>45.900,00</td>\n",
       "    </tr>\n",
       "    <tr>\n",
       "      <th>2</th>\n",
       "      <td>./dados/dados_carro\\Carro-1005.html</td>\n",
       "      <td>Fiat Strada Hard Working 1.4 (Flex) (Cabine Si...</td>\n",
       "      <td>2018 / 2019</td>\n",
       "      <td>48.654</td>\n",
       "      <td>Prata</td>\n",
       "      <td>manual</td>\n",
       "      <td>4.0</td>\n",
       "      <td>45.900,00</td>\n",
       "    </tr>\n",
       "  </tbody>\n",
       "</table>\n",
       "</div>"
      ],
      "text/plain": [
       "                               arquivo  \\\n",
       "0   ./dados/dados_carro\\Carro-100.html   \n",
       "1  ./dados/dados_carro\\Carro-1004.html   \n",
       "2  ./dados/dados_carro\\Carro-1005.html   \n",
       "\n",
       "                                                nome          ano      km  \\\n",
       "0                  Chevrolet Onix 1.0 LT (Flex) 2020  2020 / 2020   0.000   \n",
       "1  Fiat Strada Hard Working 1.4 (Flex) (Cabine Si...  2019 / 2019  41.070   \n",
       "2  Fiat Strada Hard Working 1.4 (Flex) (Cabine Si...  2018 / 2019  48.654   \n",
       "\n",
       "       cor  cambio  portas      preco  \n",
       "0  Laranja  manual     3.0  59.890,00  \n",
       "1   Branco  manual     2.0  45.900,00  \n",
       "2    Prata  manual     4.0  45.900,00  "
      ]
     },
     "execution_count": 3,
     "metadata": {},
     "output_type": "execute_result"
    }
   ],
   "source": [
    "df = pd.read_csv('df_cars_ok.csv', sep='\\t')\n",
    "df = df.drop(df.columns[0], axis=1)\n",
    "df = df.drop(df.columns[0], axis=1)\n",
    "df.head(3)"
   ]
  },
  {
   "cell_type": "code",
   "execution_count": 4,
   "metadata": {},
   "outputs": [],
   "source": [
    "for x in range(100):\n",
    "    if x >= 10:\n",
    "        str_replace = ',' + str(x)\n",
    "    else:    \n",
    "        str_replace = ',0' + str(x)\n",
    "    df['preco'] = df.preco.replace({str_replace:''}, regex=True)"
   ]
  },
  {
   "cell_type": "code",
   "execution_count": 5,
   "metadata": {},
   "outputs": [
    {
     "data": {
      "text/plain": [
       "0       59.89\n",
       "1       45.90\n",
       "2       45.90\n",
       "3       45.99\n",
       "4       45.99\n",
       "        ...  \n",
       "1706    45.59\n",
       "1707    45.73\n",
       "1708    45.89\n",
       "1709    45.89\n",
       "1710    45.89\n",
       "Name: preco, Length: 1711, dtype: float64"
      ]
     },
     "execution_count": 5,
     "metadata": {},
     "output_type": "execute_result"
    }
   ],
   "source": [
    "df['preco'].astype(float)"
   ]
  },
  {
   "cell_type": "code",
   "execution_count": 6,
   "metadata": {},
   "outputs": [],
   "source": [
    "df.to_csv('teste.csv', sep='\\t', encoding='utf-8')"
   ]
  },
  {
   "cell_type": "code",
   "execution_count": 7,
   "metadata": {},
   "outputs": [],
   "source": [
    "df222 = pd.read_csv('teste.csv', sep='\\t')"
   ]
  },
  {
   "cell_type": "code",
   "execution_count": 8,
   "metadata": {},
   "outputs": [
    {
     "data": {
      "text/html": [
       "<div>\n",
       "<style scoped>\n",
       "    .dataframe tbody tr th:only-of-type {\n",
       "        vertical-align: middle;\n",
       "    }\n",
       "\n",
       "    .dataframe tbody tr th {\n",
       "        vertical-align: top;\n",
       "    }\n",
       "\n",
       "    .dataframe thead th {\n",
       "        text-align: right;\n",
       "    }\n",
       "</style>\n",
       "<table border=\"1\" class=\"dataframe\">\n",
       "  <thead>\n",
       "    <tr style=\"text-align: right;\">\n",
       "      <th></th>\n",
       "      <th>Unnamed: 0</th>\n",
       "      <th>arquivo</th>\n",
       "      <th>nome</th>\n",
       "      <th>ano</th>\n",
       "      <th>km</th>\n",
       "      <th>cor</th>\n",
       "      <th>cambio</th>\n",
       "      <th>portas</th>\n",
       "      <th>preco</th>\n",
       "    </tr>\n",
       "  </thead>\n",
       "  <tbody>\n",
       "    <tr>\n",
       "      <th>0</th>\n",
       "      <td>0</td>\n",
       "      <td>./dados/dados_carro\\Carro-100.html</td>\n",
       "      <td>Chevrolet Onix 1.0 LT (Flex) 2020</td>\n",
       "      <td>2020 / 2020</td>\n",
       "      <td>0.000</td>\n",
       "      <td>Laranja</td>\n",
       "      <td>manual</td>\n",
       "      <td>3.0</td>\n",
       "      <td>59.89</td>\n",
       "    </tr>\n",
       "    <tr>\n",
       "      <th>1</th>\n",
       "      <td>1</td>\n",
       "      <td>./dados/dados_carro\\Carro-1004.html</td>\n",
       "      <td>Fiat Strada Hard Working 1.4 (Flex) (Cabine Si...</td>\n",
       "      <td>2019 / 2019</td>\n",
       "      <td>41.070</td>\n",
       "      <td>Branco</td>\n",
       "      <td>manual</td>\n",
       "      <td>2.0</td>\n",
       "      <td>45.90</td>\n",
       "    </tr>\n",
       "    <tr>\n",
       "      <th>2</th>\n",
       "      <td>2</td>\n",
       "      <td>./dados/dados_carro\\Carro-1005.html</td>\n",
       "      <td>Fiat Strada Hard Working 1.4 (Flex) (Cabine Si...</td>\n",
       "      <td>2018 / 2019</td>\n",
       "      <td>48.654</td>\n",
       "      <td>Prata</td>\n",
       "      <td>manual</td>\n",
       "      <td>4.0</td>\n",
       "      <td>45.90</td>\n",
       "    </tr>\n",
       "    <tr>\n",
       "      <th>3</th>\n",
       "      <td>3</td>\n",
       "      <td>./dados/dados_carro\\Carro-1008.html</td>\n",
       "      <td>Fiat Strada Hard Working 1.4 (Flex) (Cabine Si...</td>\n",
       "      <td>2018 / 2019</td>\n",
       "      <td>19.000</td>\n",
       "      <td>Prata</td>\n",
       "      <td>manual</td>\n",
       "      <td>2.0</td>\n",
       "      <td>45.99</td>\n",
       "    </tr>\n",
       "    <tr>\n",
       "      <th>4</th>\n",
       "      <td>4</td>\n",
       "      <td>./dados/dados_carro\\Carro-1009.html</td>\n",
       "      <td>Fiat Strada Hard Working 1.4 (Flex) (Cabine Si...</td>\n",
       "      <td>2018 / 2019</td>\n",
       "      <td>24.715</td>\n",
       "      <td>Branco</td>\n",
       "      <td>manual</td>\n",
       "      <td>2.0</td>\n",
       "      <td>45.99</td>\n",
       "    </tr>\n",
       "    <tr>\n",
       "      <th>...</th>\n",
       "      <td>...</td>\n",
       "      <td>...</td>\n",
       "      <td>...</td>\n",
       "      <td>...</td>\n",
       "      <td>...</td>\n",
       "      <td>...</td>\n",
       "      <td>...</td>\n",
       "      <td>...</td>\n",
       "      <td>...</td>\n",
       "    </tr>\n",
       "    <tr>\n",
       "      <th>1706</th>\n",
       "      <td>1706</td>\n",
       "      <td>./dados/dados_carro\\Carro-995.html</td>\n",
       "      <td>Fiat Strada Hard Working 1.4 (Flex) (Cabine Si...</td>\n",
       "      <td>2018 / 2019</td>\n",
       "      <td>40.912</td>\n",
       "      <td>Branco</td>\n",
       "      <td>manual</td>\n",
       "      <td>2.0</td>\n",
       "      <td>45.59</td>\n",
       "    </tr>\n",
       "    <tr>\n",
       "      <th>1707</th>\n",
       "      <td>1707</td>\n",
       "      <td>./dados/dados_carro\\Carro-996.html</td>\n",
       "      <td>Fiat Strada Hard Working 1.4 (Flex) (Cabine Du...</td>\n",
       "      <td>2019 / 2019</td>\n",
       "      <td>35.271</td>\n",
       "      <td>Branco</td>\n",
       "      <td>manual</td>\n",
       "      <td>2.0</td>\n",
       "      <td>45.73</td>\n",
       "    </tr>\n",
       "    <tr>\n",
       "      <th>1708</th>\n",
       "      <td>1708</td>\n",
       "      <td>./dados/dados_carro\\Carro-997.html</td>\n",
       "      <td>Fiat Strada Hard Working 1.4 (Flex) (Cabine Si...</td>\n",
       "      <td>2019 / 2019</td>\n",
       "      <td>40.741</td>\n",
       "      <td>Prata</td>\n",
       "      <td>manual</td>\n",
       "      <td>2.0</td>\n",
       "      <td>45.89</td>\n",
       "    </tr>\n",
       "    <tr>\n",
       "      <th>1709</th>\n",
       "      <td>1709</td>\n",
       "      <td>./dados/dados_carro\\Carro-998.html</td>\n",
       "      <td>Fiat Strada Hard Working 1.4 (Flex) (Cabine Du...</td>\n",
       "      <td>2019 / 2019</td>\n",
       "      <td>40.870</td>\n",
       "      <td>Prata</td>\n",
       "      <td>manual</td>\n",
       "      <td>2.0</td>\n",
       "      <td>45.89</td>\n",
       "    </tr>\n",
       "    <tr>\n",
       "      <th>1710</th>\n",
       "      <td>1710</td>\n",
       "      <td>./dados/dados_carro\\Carro-999.html</td>\n",
       "      <td>Fiat Strada Hard Working 1.4 (Flex) (Cabine Es...</td>\n",
       "      <td>2019 / 2019</td>\n",
       "      <td>40.870</td>\n",
       "      <td>Prata</td>\n",
       "      <td>manual</td>\n",
       "      <td>2.0</td>\n",
       "      <td>45.89</td>\n",
       "    </tr>\n",
       "  </tbody>\n",
       "</table>\n",
       "<p>1711 rows × 9 columns</p>\n",
       "</div>"
      ],
      "text/plain": [
       "      Unnamed: 0                              arquivo  \\\n",
       "0              0   ./dados/dados_carro\\Carro-100.html   \n",
       "1              1  ./dados/dados_carro\\Carro-1004.html   \n",
       "2              2  ./dados/dados_carro\\Carro-1005.html   \n",
       "3              3  ./dados/dados_carro\\Carro-1008.html   \n",
       "4              4  ./dados/dados_carro\\Carro-1009.html   \n",
       "...          ...                                  ...   \n",
       "1706        1706   ./dados/dados_carro\\Carro-995.html   \n",
       "1707        1707   ./dados/dados_carro\\Carro-996.html   \n",
       "1708        1708   ./dados/dados_carro\\Carro-997.html   \n",
       "1709        1709   ./dados/dados_carro\\Carro-998.html   \n",
       "1710        1710   ./dados/dados_carro\\Carro-999.html   \n",
       "\n",
       "                                                   nome          ano      km  \\\n",
       "0                     Chevrolet Onix 1.0 LT (Flex) 2020  2020 / 2020   0.000   \n",
       "1     Fiat Strada Hard Working 1.4 (Flex) (Cabine Si...  2019 / 2019  41.070   \n",
       "2     Fiat Strada Hard Working 1.4 (Flex) (Cabine Si...  2018 / 2019  48.654   \n",
       "3     Fiat Strada Hard Working 1.4 (Flex) (Cabine Si...  2018 / 2019  19.000   \n",
       "4     Fiat Strada Hard Working 1.4 (Flex) (Cabine Si...  2018 / 2019  24.715   \n",
       "...                                                 ...          ...     ...   \n",
       "1706  Fiat Strada Hard Working 1.4 (Flex) (Cabine Si...  2018 / 2019  40.912   \n",
       "1707  Fiat Strada Hard Working 1.4 (Flex) (Cabine Du...  2019 / 2019  35.271   \n",
       "1708  Fiat Strada Hard Working 1.4 (Flex) (Cabine Si...  2019 / 2019  40.741   \n",
       "1709  Fiat Strada Hard Working 1.4 (Flex) (Cabine Du...  2019 / 2019  40.870   \n",
       "1710  Fiat Strada Hard Working 1.4 (Flex) (Cabine Es...  2019 / 2019  40.870   \n",
       "\n",
       "          cor  cambio  portas  preco  \n",
       "0     Laranja  manual     3.0  59.89  \n",
       "1      Branco  manual     2.0  45.90  \n",
       "2       Prata  manual     4.0  45.90  \n",
       "3       Prata  manual     2.0  45.99  \n",
       "4      Branco  manual     2.0  45.99  \n",
       "...       ...     ...     ...    ...  \n",
       "1706   Branco  manual     2.0  45.59  \n",
       "1707   Branco  manual     2.0  45.73  \n",
       "1708    Prata  manual     2.0  45.89  \n",
       "1709    Prata  manual     2.0  45.89  \n",
       "1710    Prata  manual     2.0  45.89  \n",
       "\n",
       "[1711 rows x 9 columns]"
      ]
     },
     "execution_count": 8,
     "metadata": {},
     "output_type": "execute_result"
    }
   ],
   "source": [
    "df222"
   ]
  },
  {
   "cell_type": "code",
   "execution_count": null,
   "metadata": {},
   "outputs": [],
   "source": []
  },
  {
   "cell_type": "code",
   "execution_count": 9,
   "metadata": {},
   "outputs": [
    {
     "data": {
      "text/html": [
       "<div>\n",
       "<style scoped>\n",
       "    .dataframe tbody tr th:only-of-type {\n",
       "        vertical-align: middle;\n",
       "    }\n",
       "\n",
       "    .dataframe tbody tr th {\n",
       "        vertical-align: top;\n",
       "    }\n",
       "\n",
       "    .dataframe thead th {\n",
       "        text-align: right;\n",
       "    }\n",
       "</style>\n",
       "<table border=\"1\" class=\"dataframe\">\n",
       "  <thead>\n",
       "    <tr style=\"text-align: right;\">\n",
       "      <th></th>\n",
       "      <th>arquivo</th>\n",
       "      <th>nome</th>\n",
       "      <th>ano</th>\n",
       "      <th>km</th>\n",
       "      <th>cor</th>\n",
       "      <th>cambio</th>\n",
       "      <th>portas</th>\n",
       "      <th>preco</th>\n",
       "    </tr>\n",
       "  </thead>\n",
       "  <tbody>\n",
       "    <tr>\n",
       "      <th>0</th>\n",
       "      <td>./dados/dados_carro\\Carro-100.html</td>\n",
       "      <td>Chevrolet Onix 1.0 LT (Flex) 2020</td>\n",
       "      <td>2020 / 2020</td>\n",
       "      <td>0.000</td>\n",
       "      <td>Laranja</td>\n",
       "      <td>manual</td>\n",
       "      <td>3.0</td>\n",
       "      <td>59.890</td>\n",
       "    </tr>\n",
       "    <tr>\n",
       "      <th>1</th>\n",
       "      <td>./dados/dados_carro\\Carro-1004.html</td>\n",
       "      <td>Fiat Strada Hard Working 1.4 (Flex) (Cabine Si...</td>\n",
       "      <td>2019 / 2019</td>\n",
       "      <td>41.070</td>\n",
       "      <td>Branco</td>\n",
       "      <td>manual</td>\n",
       "      <td>2.0</td>\n",
       "      <td>45.900</td>\n",
       "    </tr>\n",
       "    <tr>\n",
       "      <th>2</th>\n",
       "      <td>./dados/dados_carro\\Carro-1005.html</td>\n",
       "      <td>Fiat Strada Hard Working 1.4 (Flex) (Cabine Si...</td>\n",
       "      <td>2018 / 2019</td>\n",
       "      <td>48.654</td>\n",
       "      <td>Prata</td>\n",
       "      <td>manual</td>\n",
       "      <td>4.0</td>\n",
       "      <td>45.900</td>\n",
       "    </tr>\n",
       "    <tr>\n",
       "      <th>3</th>\n",
       "      <td>./dados/dados_carro\\Carro-1008.html</td>\n",
       "      <td>Fiat Strada Hard Working 1.4 (Flex) (Cabine Si...</td>\n",
       "      <td>2018 / 2019</td>\n",
       "      <td>19.000</td>\n",
       "      <td>Prata</td>\n",
       "      <td>manual</td>\n",
       "      <td>2.0</td>\n",
       "      <td>45.990</td>\n",
       "    </tr>\n",
       "    <tr>\n",
       "      <th>4</th>\n",
       "      <td>./dados/dados_carro\\Carro-1009.html</td>\n",
       "      <td>Fiat Strada Hard Working 1.4 (Flex) (Cabine Si...</td>\n",
       "      <td>2018 / 2019</td>\n",
       "      <td>24.715</td>\n",
       "      <td>Branco</td>\n",
       "      <td>manual</td>\n",
       "      <td>2.0</td>\n",
       "      <td>45.990</td>\n",
       "    </tr>\n",
       "    <tr>\n",
       "      <th>...</th>\n",
       "      <td>...</td>\n",
       "      <td>...</td>\n",
       "      <td>...</td>\n",
       "      <td>...</td>\n",
       "      <td>...</td>\n",
       "      <td>...</td>\n",
       "      <td>...</td>\n",
       "      <td>...</td>\n",
       "    </tr>\n",
       "    <tr>\n",
       "      <th>1706</th>\n",
       "      <td>./dados/dados_carro\\Carro-995.html</td>\n",
       "      <td>Fiat Strada Hard Working 1.4 (Flex) (Cabine Si...</td>\n",
       "      <td>2018 / 2019</td>\n",
       "      <td>40.912</td>\n",
       "      <td>Branco</td>\n",
       "      <td>manual</td>\n",
       "      <td>2.0</td>\n",
       "      <td>45.590</td>\n",
       "    </tr>\n",
       "    <tr>\n",
       "      <th>1707</th>\n",
       "      <td>./dados/dados_carro\\Carro-996.html</td>\n",
       "      <td>Fiat Strada Hard Working 1.4 (Flex) (Cabine Du...</td>\n",
       "      <td>2019 / 2019</td>\n",
       "      <td>35.271</td>\n",
       "      <td>Branco</td>\n",
       "      <td>manual</td>\n",
       "      <td>2.0</td>\n",
       "      <td>45.730</td>\n",
       "    </tr>\n",
       "    <tr>\n",
       "      <th>1708</th>\n",
       "      <td>./dados/dados_carro\\Carro-997.html</td>\n",
       "      <td>Fiat Strada Hard Working 1.4 (Flex) (Cabine Si...</td>\n",
       "      <td>2019 / 2019</td>\n",
       "      <td>40.741</td>\n",
       "      <td>Prata</td>\n",
       "      <td>manual</td>\n",
       "      <td>2.0</td>\n",
       "      <td>45.890</td>\n",
       "    </tr>\n",
       "    <tr>\n",
       "      <th>1709</th>\n",
       "      <td>./dados/dados_carro\\Carro-998.html</td>\n",
       "      <td>Fiat Strada Hard Working 1.4 (Flex) (Cabine Du...</td>\n",
       "      <td>2019 / 2019</td>\n",
       "      <td>40.870</td>\n",
       "      <td>Prata</td>\n",
       "      <td>manual</td>\n",
       "      <td>2.0</td>\n",
       "      <td>45.890</td>\n",
       "    </tr>\n",
       "    <tr>\n",
       "      <th>1710</th>\n",
       "      <td>./dados/dados_carro\\Carro-999.html</td>\n",
       "      <td>Fiat Strada Hard Working 1.4 (Flex) (Cabine Es...</td>\n",
       "      <td>2019 / 2019</td>\n",
       "      <td>40.870</td>\n",
       "      <td>Prata</td>\n",
       "      <td>manual</td>\n",
       "      <td>2.0</td>\n",
       "      <td>45.890</td>\n",
       "    </tr>\n",
       "  </tbody>\n",
       "</table>\n",
       "<p>1711 rows × 8 columns</p>\n",
       "</div>"
      ],
      "text/plain": [
       "                                  arquivo  \\\n",
       "0      ./dados/dados_carro\\Carro-100.html   \n",
       "1     ./dados/dados_carro\\Carro-1004.html   \n",
       "2     ./dados/dados_carro\\Carro-1005.html   \n",
       "3     ./dados/dados_carro\\Carro-1008.html   \n",
       "4     ./dados/dados_carro\\Carro-1009.html   \n",
       "...                                   ...   \n",
       "1706   ./dados/dados_carro\\Carro-995.html   \n",
       "1707   ./dados/dados_carro\\Carro-996.html   \n",
       "1708   ./dados/dados_carro\\Carro-997.html   \n",
       "1709   ./dados/dados_carro\\Carro-998.html   \n",
       "1710   ./dados/dados_carro\\Carro-999.html   \n",
       "\n",
       "                                                   nome          ano      km  \\\n",
       "0                     Chevrolet Onix 1.0 LT (Flex) 2020  2020 / 2020   0.000   \n",
       "1     Fiat Strada Hard Working 1.4 (Flex) (Cabine Si...  2019 / 2019  41.070   \n",
       "2     Fiat Strada Hard Working 1.4 (Flex) (Cabine Si...  2018 / 2019  48.654   \n",
       "3     Fiat Strada Hard Working 1.4 (Flex) (Cabine Si...  2018 / 2019  19.000   \n",
       "4     Fiat Strada Hard Working 1.4 (Flex) (Cabine Si...  2018 / 2019  24.715   \n",
       "...                                                 ...          ...     ...   \n",
       "1706  Fiat Strada Hard Working 1.4 (Flex) (Cabine Si...  2018 / 2019  40.912   \n",
       "1707  Fiat Strada Hard Working 1.4 (Flex) (Cabine Du...  2019 / 2019  35.271   \n",
       "1708  Fiat Strada Hard Working 1.4 (Flex) (Cabine Si...  2019 / 2019  40.741   \n",
       "1709  Fiat Strada Hard Working 1.4 (Flex) (Cabine Du...  2019 / 2019  40.870   \n",
       "1710  Fiat Strada Hard Working 1.4 (Flex) (Cabine Es...  2019 / 2019  40.870   \n",
       "\n",
       "          cor  cambio  portas   preco  \n",
       "0     Laranja  manual     3.0  59.890  \n",
       "1      Branco  manual     2.0  45.900  \n",
       "2       Prata  manual     4.0  45.900  \n",
       "3       Prata  manual     2.0  45.990  \n",
       "4      Branco  manual     2.0  45.990  \n",
       "...       ...     ...     ...     ...  \n",
       "1706   Branco  manual     2.0  45.590  \n",
       "1707   Branco  manual     2.0  45.730  \n",
       "1708    Prata  manual     2.0  45.890  \n",
       "1709    Prata  manual     2.0  45.890  \n",
       "1710    Prata  manual     2.0  45.890  \n",
       "\n",
       "[1711 rows x 8 columns]"
      ]
     },
     "execution_count": 9,
     "metadata": {},
     "output_type": "execute_result"
    }
   ],
   "source": [
    "df"
   ]
  },
  {
   "cell_type": "code",
   "execution_count": 10,
   "metadata": {},
   "outputs": [],
   "source": [
    "#df_km = df[df['km'] == 0.0]\n",
    "#df_km.shape"
   ]
  },
  {
   "cell_type": "code",
   "execution_count": 11,
   "metadata": {},
   "outputs": [],
   "source": [
    "#df.loc[df['km'] == 0.0, 1] = 1\n",
    "#df_km = df[df['km'] == 0.0] \n",
    "#df_km.shape"
   ]
  },
  {
   "cell_type": "markdown",
   "metadata": {},
   "source": [
    "### Criando a baseline"
   ]
  },
  {
   "cell_type": "code",
   "execution_count": 12,
   "metadata": {},
   "outputs": [
    {
     "data": {
      "text/html": [
       "<div>\n",
       "<style scoped>\n",
       "    .dataframe tbody tr th:only-of-type {\n",
       "        vertical-align: middle;\n",
       "    }\n",
       "\n",
       "    .dataframe tbody tr th {\n",
       "        vertical-align: top;\n",
       "    }\n",
       "\n",
       "    .dataframe thead th {\n",
       "        text-align: right;\n",
       "    }\n",
       "</style>\n",
       "<table border=\"1\" class=\"dataframe\">\n",
       "  <thead>\n",
       "    <tr style=\"text-align: right;\">\n",
       "      <th></th>\n",
       "      <th>km</th>\n",
       "      <th>portas</th>\n",
       "    </tr>\n",
       "  </thead>\n",
       "  <tbody>\n",
       "    <tr>\n",
       "      <th>count</th>\n",
       "      <td>1711.000000</td>\n",
       "      <td>1486.000000</td>\n",
       "    </tr>\n",
       "    <tr>\n",
       "      <th>mean</th>\n",
       "      <td>30.362317</td>\n",
       "      <td>3.983176</td>\n",
       "    </tr>\n",
       "    <tr>\n",
       "      <th>std</th>\n",
       "      <td>75.420014</td>\n",
       "      <td>0.837898</td>\n",
       "    </tr>\n",
       "    <tr>\n",
       "      <th>min</th>\n",
       "      <td>0.000000</td>\n",
       "      <td>2.000000</td>\n",
       "    </tr>\n",
       "    <tr>\n",
       "      <th>25%</th>\n",
       "      <td>0.000000</td>\n",
       "      <td>4.000000</td>\n",
       "    </tr>\n",
       "    <tr>\n",
       "      <th>50%</th>\n",
       "      <td>13.000000</td>\n",
       "      <td>4.000000</td>\n",
       "    </tr>\n",
       "    <tr>\n",
       "      <th>75%</th>\n",
       "      <td>40.692000</td>\n",
       "      <td>4.000000</td>\n",
       "    </tr>\n",
       "    <tr>\n",
       "      <th>max</th>\n",
       "      <td>999.999000</td>\n",
       "      <td>5.000000</td>\n",
       "    </tr>\n",
       "  </tbody>\n",
       "</table>\n",
       "</div>"
      ],
      "text/plain": [
       "                km       portas\n",
       "count  1711.000000  1486.000000\n",
       "mean     30.362317     3.983176\n",
       "std      75.420014     0.837898\n",
       "min       0.000000     2.000000\n",
       "25%       0.000000     4.000000\n",
       "50%      13.000000     4.000000\n",
       "75%      40.692000     4.000000\n",
       "max     999.999000     5.000000"
      ]
     },
     "execution_count": 12,
     "metadata": {},
     "output_type": "execute_result"
    }
   ],
   "source": [
    "df.describe()"
   ]
  },
  {
   "cell_type": "code",
   "execution_count": 13,
   "metadata": {},
   "outputs": [],
   "source": [
    "y = df.preco"
   ]
  },
  {
   "cell_type": "code",
   "execution_count": 14,
   "metadata": {},
   "outputs": [
    {
     "data": {
      "text/plain": [
       "0    59.890\n",
       "1    45.900\n",
       "2    45.900\n",
       "Name: preco, dtype: object"
      ]
     },
     "execution_count": 14,
     "metadata": {},
     "output_type": "execute_result"
    }
   ],
   "source": [
    "y.head(3)"
   ]
  },
  {
   "cell_type": "code",
   "execution_count": 15,
   "metadata": {},
   "outputs": [],
   "source": [
    "cars_features = ['km', 'portas']\n",
    "X = df[cars_features]"
   ]
  },
  {
   "cell_type": "code",
   "execution_count": 16,
   "metadata": {},
   "outputs": [
    {
     "data": {
      "text/html": [
       "<div>\n",
       "<style scoped>\n",
       "    .dataframe tbody tr th:only-of-type {\n",
       "        vertical-align: middle;\n",
       "    }\n",
       "\n",
       "    .dataframe tbody tr th {\n",
       "        vertical-align: top;\n",
       "    }\n",
       "\n",
       "    .dataframe thead th {\n",
       "        text-align: right;\n",
       "    }\n",
       "</style>\n",
       "<table border=\"1\" class=\"dataframe\">\n",
       "  <thead>\n",
       "    <tr style=\"text-align: right;\">\n",
       "      <th></th>\n",
       "      <th>km</th>\n",
       "      <th>portas</th>\n",
       "    </tr>\n",
       "  </thead>\n",
       "  <tbody>\n",
       "    <tr>\n",
       "      <th>0</th>\n",
       "      <td>0.000</td>\n",
       "      <td>3.0</td>\n",
       "    </tr>\n",
       "    <tr>\n",
       "      <th>1</th>\n",
       "      <td>41.070</td>\n",
       "      <td>2.0</td>\n",
       "    </tr>\n",
       "    <tr>\n",
       "      <th>2</th>\n",
       "      <td>48.654</td>\n",
       "      <td>4.0</td>\n",
       "    </tr>\n",
       "  </tbody>\n",
       "</table>\n",
       "</div>"
      ],
      "text/plain": [
       "       km  portas\n",
       "0   0.000     3.0\n",
       "1  41.070     2.0\n",
       "2  48.654     4.0"
      ]
     },
     "execution_count": 16,
     "metadata": {},
     "output_type": "execute_result"
    }
   ],
   "source": [
    "X.head(3)"
   ]
  },
  {
   "cell_type": "code",
   "execution_count": 17,
   "metadata": {},
   "outputs": [],
   "source": [
    "#s = (X.dtypes == 'object')\n",
    "#object_cols = list(s[s].index)"
   ]
  },
  {
   "cell_type": "code",
   "execution_count": 18,
   "metadata": {},
   "outputs": [],
   "source": [
    "#type(X['km'][0])"
   ]
  },
  {
   "cell_type": "code",
   "execution_count": 19,
   "metadata": {},
   "outputs": [],
   "source": [
    "#df_km = X_train[X_train['km'] == 0.0] \n",
    "#df_km.shape"
   ]
  },
  {
   "cell_type": "code",
   "execution_count": 20,
   "metadata": {},
   "outputs": [],
   "source": [
    "#training_y = y_train.dropna()"
   ]
  },
  {
   "cell_type": "code",
   "execution_count": 21,
   "metadata": {},
   "outputs": [],
   "source": [
    "train_X, val_X, train_y, val_y = train_test_split(X, y, test_size=0.4, random_state=42)"
   ]
  },
  {
   "cell_type": "code",
   "execution_count": 48,
   "metadata": {},
   "outputs": [
    {
     "name": "stderr",
     "output_type": "stream",
     "text": [
      "C:\\ProgramData\\Anaconda3\\lib\\site-packages\\pandas\\core\\generic.py:6245: SettingWithCopyWarning: \n",
      "A value is trying to be set on a copy of a slice from a DataFrame\n",
      "\n",
      "See the caveats in the documentation: https://pandas.pydata.org/pandas-docs/stable/user_guide/indexing.html#returning-a-view-versus-a-copy\n",
      "  self._update_inplace(new_data)\n"
     ]
    }
   ],
   "source": [
    "train_X.fillna(train_X.mean(), inplace=True)\n",
    "val_X.fillna(val_X.mean(), inplace=True)\n",
    "train_y.fillna(train_X.mean(), inplace=True)\n",
    "val_y.fillna(train_X.mean(), inplace=True)"
   ]
  },
  {
   "cell_type": "code",
   "execution_count": 66,
   "metadata": {},
   "outputs": [
    {
     "data": {
      "text/plain": [
       "0.035036496350364967"
      ]
     },
     "execution_count": 66,
     "metadata": {},
     "output_type": "execute_result"
    }
   ],
   "source": [
    "from sklearn.linear_model import LogisticRegression\n",
    "lr = LogisticRegression(solver='liblinear', multi_class='ovr')\n",
    "lr.fit(train_X, train_y)\n",
    "lr.score(val_X, val_y)"
   ]
  },
  {
   "cell_type": "code",
   "execution_count": 68,
   "metadata": {},
   "outputs": [
    {
     "data": {
      "text/plain": [
       "0.033576642335766425"
      ]
     },
     "execution_count": 68,
     "metadata": {},
     "output_type": "execute_result"
    }
   ],
   "source": [
    "from sklearn.ensemble import RandomForestClassifier\n",
    "rf = RandomForestClassifier(n_estimators=40)\n",
    "rf.fit(train_X, train_y)\n",
    "rf.score(val_X, val_y)"
   ]
  },
  {
   "cell_type": "code",
   "execution_count": 69,
   "metadata": {},
   "outputs": [
    {
     "data": {
      "text/plain": [
       "0.035036496350364967"
      ]
     },
     "execution_count": 69,
     "metadata": {},
     "output_type": "execute_result"
    }
   ],
   "source": [
    "from sklearn.linear_model import LogisticRegression\n",
    "lr = LogisticRegression(solver='liblinear',multi_class='ovr')\n",
    "lr.fit(train_X, train_y)\n",
    "lr.score(val_X, val_y)"
   ]
  },
  {
   "cell_type": "code",
   "execution_count": 86,
   "metadata": {},
   "outputs": [
    {
     "data": {
      "text/plain": [
       "12.215349057610965"
      ]
     },
     "execution_count": 86,
     "metadata": {},
     "output_type": "execute_result"
    }
   ],
   "source": [
    "#model = DecisionTreeRegressor(random_state=1)\n",
    "model = DecisionTreeRegressor(max_leaf_nodes=20, random_state=1)\n",
    "model.fit(train_X, train_y)\n",
    "predicted_model = model.predict(val_X)\n",
    "mean_absolute_error(val_y, predicted_model)"
   ]
  },
  {
   "cell_type": "code",
   "execution_count": 60,
   "metadata": {},
   "outputs": [
    {
     "name": "stderr",
     "output_type": "stream",
     "text": [
      "C:\\ProgramData\\Anaconda3\\lib\\site-packages\\pandas\\core\\generic.py:6245: SettingWithCopyWarning: \n",
      "A value is trying to be set on a copy of a slice from a DataFrame\n",
      "\n",
      "See the caveats in the documentation: https://pandas.pydata.org/pandas-docs/stable/user_guide/indexing.html#returning-a-view-versus-a-copy\n",
      "  self._update_inplace(new_data)\n"
     ]
    },
    {
     "name": "stdout",
     "output_type": "stream",
     "text": [
      "mean cross validation score: -0.09866040727375879\n",
      "score without cv: 0.32257681834400176\n",
      "-0.08639675698768068\n",
      "-0.08639675698768068\n"
     ]
    }
   ],
   "source": [
    "from sklearn.model_selection import train_test_split\n",
    "from sklearn.model_selection import cross_val_score\n",
    "X_train, X_test, y_train, y_test = train_test_split(X, y, test_size=0.20, random_state=0)\n",
    "\n",
    "\n",
    "X_train.fillna(train_X.mean(), inplace=True)\n",
    "X_test.fillna(val_X.mean(), inplace=True)\n",
    "y_train.fillna(train_X.mean(), inplace=True)\n",
    "y_test.fillna(train_X.mean(), inplace=True)\n",
    "\n",
    "\n",
    "dt = DecisionTreeRegressor(random_state=0, criterion=\"mae\")\n",
    "dt_fit = dt.fit(X_train, y_train)\n",
    "\n",
    "dt_scores = cross_val_score(dt_fit, X_train, y_train, cv = 15)\n",
    "print(\"mean cross validation score: {}\".format(np.mean(dt_scores)))\n",
    "print(\"score without cv: {}\".format(dt_fit.score(X_train, y_train)))\n",
    "\n",
    "# on the test or hold-out set\n",
    "from sklearn.metrics import r2_score\n",
    "print(r2_score(y_test, dt_fit.predict(X_test)))\n",
    "print(dt_fit.score(X_test, y_test))"
   ]
  },
  {
   "cell_type": "code",
   "execution_count": 46,
   "metadata": {},
   "outputs": [],
   "source": []
  },
  {
   "cell_type": "code",
   "execution_count": 47,
   "metadata": {},
   "outputs": [
    {
     "data": {
      "text/plain": [
       "12.215349057610965"
      ]
     },
     "execution_count": 47,
     "metadata": {},
     "output_type": "execute_result"
    }
   ],
   "source": []
  },
  {
   "cell_type": "code",
   "execution_count": null,
   "metadata": {},
   "outputs": [],
   "source": []
  },
  {
   "cell_type": "code",
   "execution_count": 51,
   "metadata": {},
   "outputs": [],
   "source": [
    "def get_mae(max_leaf_nodes, train_X, val_X, train_y, val_y):\n",
    "    model = DecisionTreeRegressor(max_leaf_nodes=max_leaf_nodes, random_state=0)\n",
    "    model.fit(train_X, train_y)\n",
    "    preds_val = model.predict(val_X)\n",
    "    mae = mean_absolute_error(val_y, preds_val)\n",
    "    return(mae)"
   ]
  },
  {
   "cell_type": "code",
   "execution_count": 56,
   "metadata": {},
   "outputs": [
    {
     "name": "stdout",
     "output_type": "stream",
     "text": [
      "Max leaf nodes:  5   \t\t Mean Absolute Error: 12.20638117421985\n",
      "Max leaf nodes:  50   \t\t Mean Absolute Error: 12.332250330296228\n",
      "Max leaf nodes:  500   \t\t Mean Absolute Error: 13.062250847023073\n",
      "Max leaf nodes:  5000   \t\t Mean Absolute Error: 13.062250847023073\n"
     ]
    }
   ],
   "source": [
    "for max_leaf_nodes in [5, 50, 500, 5000]:\n",
    "    my_mae = get_mae(max_leaf_nodes, train_X, val_X, train_y, val_y)\n",
    "    print(\"Max leaf nodes: \", max_leaf_nodes , \"  \\t\\t Mean Absolute Error:\", my_mae)"
   ]
  },
  {
   "cell_type": "code",
   "execution_count": null,
   "metadata": {},
   "outputs": [],
   "source": [
    "for x in range(100):\n",
    "    print(predicted_model[x])"
   ]
  },
  {
   "cell_type": "code",
   "execution_count": null,
   "metadata": {},
   "outputs": [],
   "source": []
  },
  {
   "cell_type": "code",
   "execution_count": null,
   "metadata": {},
   "outputs": [],
   "source": []
  },
  {
   "cell_type": "code",
   "execution_count": 75,
   "metadata": {},
   "outputs": [],
   "source": [
    "from sklearn.linear_model import LogisticRegression\n",
    "from sklearn.svm import SVC\n",
    "from sklearn.ensemble import RandomForestClassifier\n",
    "import numpy as np\n",
    "from sklearn.datasets import load_digits\n",
    "import matplotlib.pyplot as plt"
   ]
  },
  {
   "cell_type": "code",
   "execution_count": 79,
   "metadata": {},
   "outputs": [],
   "source": [
    "\n",
    "from sklearn.model_selection import train_test_split\n",
    "X_train, X_test, y_train, y_test = train_test_split(X, y,test_size=0.3)"
   ]
  },
  {
   "cell_type": "code",
   "execution_count": 80,
   "metadata": {},
   "outputs": [],
   "source": [
    "X_train.fillna(train_X.mean(), inplace=True)\n",
    "X_test.fillna(val_X.mean(), inplace=True)\n",
    "y_train.fillna(train_X.mean(), inplace=True)\n",
    "y_test.fillna(train_X.mean(), inplace=True)\n"
   ]
  },
  {
   "cell_type": "code",
   "execution_count": 81,
   "metadata": {},
   "outputs": [
    {
     "data": {
      "text/plain": [
       "0.042801556420233464"
      ]
     },
     "execution_count": 81,
     "metadata": {},
     "output_type": "execute_result"
    }
   ],
   "source": [
    "lr = LogisticRegression(solver='liblinear',multi_class='ovr')\n",
    "lr.fit(X_train, y_train)\n",
    "lr.score(X_test, y_test)"
   ]
  },
  {
   "cell_type": "code",
   "execution_count": 82,
   "metadata": {},
   "outputs": [
    {
     "data": {
      "text/plain": [
       "0.05642023346303502"
      ]
     },
     "execution_count": 82,
     "metadata": {},
     "output_type": "execute_result"
    }
   ],
   "source": [
    "svm = SVC(gamma='auto')\n",
    "svm.fit(X_train, y_train)\n",
    "svm.score(X_test, y_test)"
   ]
  },
  {
   "cell_type": "code",
   "execution_count": 83,
   "metadata": {},
   "outputs": [
    {
     "data": {
      "text/plain": [
       "0.038910505836575876"
      ]
     },
     "execution_count": 83,
     "metadata": {},
     "output_type": "execute_result"
    }
   ],
   "source": [
    "rf = RandomForestClassifier(n_estimators=40)\n",
    "rf.fit(X_train, y_train)\n",
    "rf.score(X_test, y_test)"
   ]
  },
  {
   "cell_type": "code",
   "execution_count": 84,
   "metadata": {},
   "outputs": [
    {
     "data": {
      "text/plain": [
       "KFold(n_splits=3, random_state=None, shuffle=False)"
      ]
     },
     "execution_count": 84,
     "metadata": {},
     "output_type": "execute_result"
    }
   ],
   "source": [
    "from sklearn.model_selection import KFold\n",
    "kf = KFold(n_splits=3)\n",
    "kf"
   ]
  },
  {
   "cell_type": "code",
   "execution_count": 85,
   "metadata": {},
   "outputs": [
    {
     "name": "stdout",
     "output_type": "stream",
     "text": [
      "[3 4 5 6 7 8] [0 1 2]\n",
      "[0 1 2 6 7 8] [3 4 5]\n",
      "[0 1 2 3 4 5] [6 7 8]\n"
     ]
    }
   ],
   "source": [
    "for train_index, test_index in kf.split([1,2,3,4,5,6,7,8,9]):\n",
    "    print(train_index, test_index)"
   ]
  },
  {
   "cell_type": "code",
   "execution_count": 88,
   "metadata": {},
   "outputs": [],
   "source": [
    "def get_score(model, X_train, X_test, y_train, y_test):\n",
    "    model.fit(X_train, y_train)\n",
    "    return model.score(X_test, y_test)"
   ]
  },
  {
   "cell_type": "code",
   "execution_count": 90,
   "metadata": {},
   "outputs": [
    {
     "name": "stderr",
     "output_type": "stream",
     "text": [
      "C:\\ProgramData\\Anaconda3\\lib\\site-packages\\sklearn\\model_selection\\_split.py:670: UserWarning: The least populated class in y has only 1 members, which is less than n_splits=3.\n",
      "  warnings.warn((\"The least populated class in y has only %d\"\n"
     ]
    },
    {
     "ename": "KeyError",
     "evalue": "\"None of [Int64Index([   6,   10,   13,   18,   19,   22,   25,   30,   40,   43,\\n            ...\\n            1700, 1701, 1702, 1703, 1704, 1705, 1706, 1708, 1709, 1710],\\n           dtype='int64', length=1140)] are in the [columns]\"",
     "output_type": "error",
     "traceback": [
      "\u001b[1;31m---------------------------------------------------------------------------\u001b[0m",
      "\u001b[1;31mKeyError\u001b[0m                                  Traceback (most recent call last)",
      "\u001b[1;32m<ipython-input-90-81a8aab7c9a9>\u001b[0m in \u001b[0;36m<module>\u001b[1;34m\u001b[0m\n\u001b[0;32m      7\u001b[0m \u001b[1;33m\u001b[0m\u001b[0m\n\u001b[0;32m      8\u001b[0m \u001b[1;32mfor\u001b[0m \u001b[0mtrain_index\u001b[0m\u001b[1;33m,\u001b[0m \u001b[0mtest_index\u001b[0m \u001b[1;32min\u001b[0m \u001b[0mfolds\u001b[0m\u001b[1;33m.\u001b[0m\u001b[0msplit\u001b[0m\u001b[1;33m(\u001b[0m\u001b[0mX\u001b[0m\u001b[1;33m,\u001b[0m \u001b[0my\u001b[0m\u001b[1;33m)\u001b[0m\u001b[1;33m:\u001b[0m\u001b[1;33m\u001b[0m\u001b[1;33m\u001b[0m\u001b[0m\n\u001b[1;32m----> 9\u001b[1;33m     \u001b[0mX_train\u001b[0m\u001b[1;33m,\u001b[0m \u001b[0mX_test\u001b[0m\u001b[1;33m,\u001b[0m \u001b[0my_train\u001b[0m\u001b[1;33m,\u001b[0m \u001b[0my_test\u001b[0m \u001b[1;33m=\u001b[0m \u001b[0mX\u001b[0m\u001b[1;33m[\u001b[0m\u001b[0mtrain_index\u001b[0m\u001b[1;33m]\u001b[0m\u001b[1;33m,\u001b[0m \u001b[0my\u001b[0m\u001b[1;33m[\u001b[0m\u001b[0mtest_index\u001b[0m\u001b[1;33m]\u001b[0m\u001b[1;33m,\u001b[0m\u001b[0;31m \u001b[0m\u001b[0;31m\\\u001b[0m\u001b[1;33m\u001b[0m\u001b[1;33m\u001b[0m\u001b[0m\n\u001b[0m\u001b[0;32m     10\u001b[0m                                        \u001b[0mX\u001b[0m\u001b[1;33m[\u001b[0m\u001b[0mtrain_index\u001b[0m\u001b[1;33m]\u001b[0m\u001b[1;33m,\u001b[0m \u001b[0my\u001b[0m\u001b[1;33m[\u001b[0m\u001b[0mtest_index\u001b[0m\u001b[1;33m]\u001b[0m\u001b[1;33m\u001b[0m\u001b[1;33m\u001b[0m\u001b[0m\n\u001b[0;32m     11\u001b[0m     \u001b[0mscores_logistic\u001b[0m\u001b[1;33m.\u001b[0m\u001b[0mappend\u001b[0m\u001b[1;33m(\u001b[0m\u001b[0mget_score\u001b[0m\u001b[1;33m(\u001b[0m\u001b[0mLogisticRegression\u001b[0m\u001b[1;33m(\u001b[0m\u001b[0msolver\u001b[0m\u001b[1;33m=\u001b[0m\u001b[1;34m'liblinear'\u001b[0m\u001b[1;33m,\u001b[0m\u001b[0mmulti_class\u001b[0m\u001b[1;33m=\u001b[0m\u001b[1;34m'ovr'\u001b[0m\u001b[1;33m)\u001b[0m\u001b[1;33m,\u001b[0m \u001b[0mX_train\u001b[0m\u001b[1;33m,\u001b[0m \u001b[0mX_test\u001b[0m\u001b[1;33m,\u001b[0m \u001b[0my_train\u001b[0m\u001b[1;33m,\u001b[0m \u001b[0my_test\u001b[0m\u001b[1;33m)\u001b[0m\u001b[1;33m)\u001b[0m\u001b[1;33m\u001b[0m\u001b[1;33m\u001b[0m\u001b[0m\n",
      "\u001b[1;32mC:\\ProgramData\\Anaconda3\\lib\\site-packages\\pandas\\core\\frame.py\u001b[0m in \u001b[0;36m__getitem__\u001b[1;34m(self, key)\u001b[0m\n\u001b[0;32m   2804\u001b[0m             \u001b[1;32mif\u001b[0m \u001b[0mis_iterator\u001b[0m\u001b[1;33m(\u001b[0m\u001b[0mkey\u001b[0m\u001b[1;33m)\u001b[0m\u001b[1;33m:\u001b[0m\u001b[1;33m\u001b[0m\u001b[1;33m\u001b[0m\u001b[0m\n\u001b[0;32m   2805\u001b[0m                 \u001b[0mkey\u001b[0m \u001b[1;33m=\u001b[0m \u001b[0mlist\u001b[0m\u001b[1;33m(\u001b[0m\u001b[0mkey\u001b[0m\u001b[1;33m)\u001b[0m\u001b[1;33m\u001b[0m\u001b[1;33m\u001b[0m\u001b[0m\n\u001b[1;32m-> 2806\u001b[1;33m             \u001b[0mindexer\u001b[0m \u001b[1;33m=\u001b[0m \u001b[0mself\u001b[0m\u001b[1;33m.\u001b[0m\u001b[0mloc\u001b[0m\u001b[1;33m.\u001b[0m\u001b[0m_get_listlike_indexer\u001b[0m\u001b[1;33m(\u001b[0m\u001b[0mkey\u001b[0m\u001b[1;33m,\u001b[0m \u001b[0maxis\u001b[0m\u001b[1;33m=\u001b[0m\u001b[1;36m1\u001b[0m\u001b[1;33m,\u001b[0m \u001b[0mraise_missing\u001b[0m\u001b[1;33m=\u001b[0m\u001b[1;32mTrue\u001b[0m\u001b[1;33m)\u001b[0m\u001b[1;33m[\u001b[0m\u001b[1;36m1\u001b[0m\u001b[1;33m]\u001b[0m\u001b[1;33m\u001b[0m\u001b[1;33m\u001b[0m\u001b[0m\n\u001b[0m\u001b[0;32m   2807\u001b[0m \u001b[1;33m\u001b[0m\u001b[0m\n\u001b[0;32m   2808\u001b[0m         \u001b[1;31m# take() does not accept boolean indexers\u001b[0m\u001b[1;33m\u001b[0m\u001b[1;33m\u001b[0m\u001b[1;33m\u001b[0m\u001b[0m\n",
      "\u001b[1;32mC:\\ProgramData\\Anaconda3\\lib\\site-packages\\pandas\\core\\indexing.py\u001b[0m in \u001b[0;36m_get_listlike_indexer\u001b[1;34m(self, key, axis, raise_missing)\u001b[0m\n\u001b[0;32m   1550\u001b[0m             \u001b[0mkeyarr\u001b[0m\u001b[1;33m,\u001b[0m \u001b[0mindexer\u001b[0m\u001b[1;33m,\u001b[0m \u001b[0mnew_indexer\u001b[0m \u001b[1;33m=\u001b[0m \u001b[0max\u001b[0m\u001b[1;33m.\u001b[0m\u001b[0m_reindex_non_unique\u001b[0m\u001b[1;33m(\u001b[0m\u001b[0mkeyarr\u001b[0m\u001b[1;33m)\u001b[0m\u001b[1;33m\u001b[0m\u001b[1;33m\u001b[0m\u001b[0m\n\u001b[0;32m   1551\u001b[0m \u001b[1;33m\u001b[0m\u001b[0m\n\u001b[1;32m-> 1552\u001b[1;33m         self._validate_read_indexer(\n\u001b[0m\u001b[0;32m   1553\u001b[0m             \u001b[0mkeyarr\u001b[0m\u001b[1;33m,\u001b[0m \u001b[0mindexer\u001b[0m\u001b[1;33m,\u001b[0m \u001b[0mo\u001b[0m\u001b[1;33m.\u001b[0m\u001b[0m_get_axis_number\u001b[0m\u001b[1;33m(\u001b[0m\u001b[0maxis\u001b[0m\u001b[1;33m)\u001b[0m\u001b[1;33m,\u001b[0m \u001b[0mraise_missing\u001b[0m\u001b[1;33m=\u001b[0m\u001b[0mraise_missing\u001b[0m\u001b[1;33m\u001b[0m\u001b[1;33m\u001b[0m\u001b[0m\n\u001b[0;32m   1554\u001b[0m         )\n",
      "\u001b[1;32mC:\\ProgramData\\Anaconda3\\lib\\site-packages\\pandas\\core\\indexing.py\u001b[0m in \u001b[0;36m_validate_read_indexer\u001b[1;34m(self, key, indexer, axis, raise_missing)\u001b[0m\n\u001b[0;32m   1638\u001b[0m             \u001b[1;32mif\u001b[0m \u001b[0mmissing\u001b[0m \u001b[1;33m==\u001b[0m \u001b[0mlen\u001b[0m\u001b[1;33m(\u001b[0m\u001b[0mindexer\u001b[0m\u001b[1;33m)\u001b[0m\u001b[1;33m:\u001b[0m\u001b[1;33m\u001b[0m\u001b[1;33m\u001b[0m\u001b[0m\n\u001b[0;32m   1639\u001b[0m                 \u001b[0maxis_name\u001b[0m \u001b[1;33m=\u001b[0m \u001b[0mself\u001b[0m\u001b[1;33m.\u001b[0m\u001b[0mobj\u001b[0m\u001b[1;33m.\u001b[0m\u001b[0m_get_axis_name\u001b[0m\u001b[1;33m(\u001b[0m\u001b[0maxis\u001b[0m\u001b[1;33m)\u001b[0m\u001b[1;33m\u001b[0m\u001b[1;33m\u001b[0m\u001b[0m\n\u001b[1;32m-> 1640\u001b[1;33m                 \u001b[1;32mraise\u001b[0m \u001b[0mKeyError\u001b[0m\u001b[1;33m(\u001b[0m\u001b[1;34mf\"None of [{key}] are in the [{axis_name}]\"\u001b[0m\u001b[1;33m)\u001b[0m\u001b[1;33m\u001b[0m\u001b[1;33m\u001b[0m\u001b[0m\n\u001b[0m\u001b[0;32m   1641\u001b[0m \u001b[1;33m\u001b[0m\u001b[0m\n\u001b[0;32m   1642\u001b[0m             \u001b[1;31m# We (temporarily) allow for some missing keys with .loc, except in\u001b[0m\u001b[1;33m\u001b[0m\u001b[1;33m\u001b[0m\u001b[1;33m\u001b[0m\u001b[0m\n",
      "\u001b[1;31mKeyError\u001b[0m: \"None of [Int64Index([   6,   10,   13,   18,   19,   22,   25,   30,   40,   43,\\n            ...\\n            1700, 1701, 1702, 1703, 1704, 1705, 1706, 1708, 1709, 1710],\\n           dtype='int64', length=1140)] are in the [columns]\""
     ]
    }
   ],
   "source": [
    "from sklearn.model_selection import StratifiedKFold\n",
    "folds = StratifiedKFold(n_splits=3)\n",
    "\n",
    "scores_logistic = []\n",
    "scores_svm = []\n",
    "scores_rf = []\n",
    "\n",
    "for train_index, test_index in folds.split(X, y):\n",
    "    X_train, X_test, y_train, y_test = X[train_index], y[test_index], \\\n",
    "                                       X[train_index], y[test_index]\n",
    "    scores_logistic.append(get_score(LogisticRegression(solver='liblinear',multi_class='ovr'), X_train, X_test, y_train, y_test))  \n",
    "    scores_svm.append(get_score(SVC(gamma='auto'), X_train, X_test, y_train, y_test))\n",
    "    scores_rf.append(get_score(RandomForestClassifier(n_estimators=40), X_train, X_test, y_train, y_test))\n"
   ]
  },
  {
   "cell_type": "code",
   "execution_count": null,
   "metadata": {},
   "outputs": [],
   "source": []
  }
 ],
 "metadata": {
  "kernelspec": {
   "display_name": "Python 3",
   "language": "python",
   "name": "python3"
  },
  "language_info": {
   "codemirror_mode": {
    "name": "ipython",
    "version": 3
   },
   "file_extension": ".py",
   "mimetype": "text/x-python",
   "name": "python",
   "nbconvert_exporter": "python",
   "pygments_lexer": "ipython3",
   "version": "3.8.3"
  }
 },
 "nbformat": 4,
 "nbformat_minor": 4
}
